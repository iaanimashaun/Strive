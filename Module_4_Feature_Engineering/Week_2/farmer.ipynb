version https://git-lfs.github.com/spec/v1
oid sha256:7e5706a04a515d7fda8f65b4c05660ad856652b702f960d1e8f59f6109a9cc74
size 2978839
