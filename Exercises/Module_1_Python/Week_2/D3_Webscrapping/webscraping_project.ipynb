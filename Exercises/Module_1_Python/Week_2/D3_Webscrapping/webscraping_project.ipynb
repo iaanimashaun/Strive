{
 "cells": [
  {
   "cell_type": "code",
   "source": [
    "import requests\n",
    "from bs4 import BeautifulSoup\n",
    "\n",
    "page =requests.get(\"https://weather.com/weather/tenday/l/San+Francisco+CA?canonicalCityId=dfdaba8cbe3a4d12a8796e1f7b1ccc7174b4b0a2d5ddb1c8566ae9f154fa638c\")\n",
    "# Print the status code of the response.\n",
    "\n",
    "soup =BeautifulSoup(page.content, 'html.parser')"
   ],
   "metadata": {
    "tags": [],
    "cell_id": "00021-098a2b1f-99c2-432f-ac7b-84633a6c2bf5",
    "output_cleared": false,
    "source_hash": "ab5195cc",
    "execution_millis": 239,
    "execution_start": 1607523794829,
    "deepnote_cell_type": "code"
   },
   "outputs": [],
   "execution_count": 1
  },
  {
   "cell_type": "code",
   "source": [
    "days_and_dates = soup.select('.DetailsSummary--daypartName--1Mebr')\n",
    "low_temps = soup.select('.DetailsSummary--lowTempValue--1DlJK')\n",
    "high_temps = soup.select('.DetailsSummary--highTempValue--3x6cL')\n",
    "description = soup.select('.DailyContent--narrative--3AcXd')"
   ],
   "metadata": {
    "tags": [],
    "cell_id": "00022-6c56a532-b52f-4c92-bd11-d0467a38fc41",
    "output_cleared": false,
    "source_hash": "381b83d2",
    "execution_millis": 180,
    "execution_start": 1607523797747,
    "deepnote_cell_type": "code"
   },
   "outputs": [],
   "execution_count": 2
  },
  {
   "cell_type": "code",
   "source": [
    "def get_content(items):\n",
    "    item_list = []\n",
    "    for item in items:\n",
    "        item_list.append(item.getText())\n",
    "    return item_list"
   ],
   "metadata": {
    "tags": [],
    "cell_id": "00023-e79dffdc-24a5-45fb-901b-cb0fb7865fe0",
    "output_cleared": false,
    "source_hash": "5c83a718",
    "execution_millis": 4,
    "execution_start": 1607523798801,
    "deepnote_cell_type": "code"
   },
   "outputs": [],
   "execution_count": 3
  },
  {
   "cell_type": "code",
   "source": [
    "low_temps_list = get_content(low_temps)\n",
    "\n",
    "high_temps_list = get_content(high_temps)\n",
    "\n",
    "description_list = get_content(description)\n",
    "\n",
    "days_and_dates_list = get_content(days_and_dates)\n"
   ],
   "metadata": {
    "tags": [],
    "cell_id": "00023-d2e1c5ad-1261-4e6e-af2b-83062b08d755",
    "output_cleared": false,
    "source_hash": "ce531f12",
    "execution_millis": 1,
    "execution_start": 1607523800230,
    "deepnote_cell_type": "code"
   },
   "outputs": [],
   "execution_count": 4
  },
  {
   "cell_type": "code",
   "source": [
    "def convert_temp(low_temps_list):\n",
    "    c_list = []\n",
    "    for item in low_temps_list:\n",
    "        c_temp = round(((int(item[:-1])) -32 ) * 5/9)\n",
    "        c_list.append(c_temp)\n",
    "    return c_list\n",
    "\n",
    "low_celcius = convert_temp(low_temps_list)\n",
    "high_celcius = convert_temp(high_temps_list)"
   ],
   "metadata": {
    "tags": [],
    "cell_id": "00025-993d599f-b2dc-42d5-b95f-00edf9228937",
    "output_cleared": false,
    "source_hash": "5a0d0328",
    "execution_millis": 3,
    "execution_start": 1607524143319,
    "deepnote_cell_type": "code"
   },
   "outputs": [],
   "execution_count": 5
  },
  {
   "cell_type": "code",
   "source": [
    "from datetime import date\n",
    "str(date.today())[-2:]\n",
    "\n",
    "\n",
    "\n",
    "days = []\n",
    "dates = []\n",
    "for item in days_and_dates_list:\n",
    "    if item == 'Today':\n",
    "        days.append((days_and_dates_list[0].split() + list(str(date.today())[-1:]))[1])\n",
    "        dates.append((days_and_dates_list[0].split() + list(str(date.today())[-1:]))[0])\n",
    "        #print((days_and_dates_list[0].split() + list(str(date.today())[-1:]))[1])\n",
    "    else:\n",
    "        days.append(item.split()[1])\n",
    "        dates.append(item.split()[0])\n",
    "        #print(item.split()[1])"
   ],
   "metadata": {
    "tags": [],
    "cell_id": "00025-8f5c209e-3301-4eb5-9b8e-759e748fd69a",
    "output_cleared": false,
    "source_hash": "4ff8171d",
    "execution_start": 1607523928402,
    "execution_millis": 1,
    "deepnote_cell_type": "code"
   },
   "outputs": [],
   "execution_count": 6
  },
  {
   "cell_type": "code",
   "source": [
    "description_list\n",
    "days\n",
    "dates\n",
    "low_celcius\n",
    "high_celcius"
   ],
   "metadata": {
    "tags": [],
    "cell_id": "00026-c0c193c2-fa81-4c56-88f9-70572b195016",
    "output_cleared": false,
    "source_hash": "42eed09a",
    "execution_millis": 10,
    "execution_start": 1607524199915,
    "deepnote_cell_type": "code"
   },
   "outputs": [
    {
     "output_type": "execute_result",
     "data": {
      "text/plain": [
       "[17, 13, 13, 13, 14, 14, 13, 14, 14, 14, 15, 16, 15, 16, 16]"
      ]
     },
     "metadata": {},
     "execution_count": 7
    }
   ],
   "execution_count": 7
  },
  {
   "cell_type": "code",
   "source": [
    "import pandas as pd\n",
    "\n",
    "df = pd.DataFrame(list(zip(dates, days, low_celcius, high_celcius, description_list)), columns=['date', 'days', 'low_celcius', 'high_celcius', 'description'])\n",
    "\n",
    "\n",
    "df.append({'date': 'DetailsSummary--daypartName--1Mebr', 'days': 'DetailsSummary--daypartName--1Mebr', 'low_celcius': 'DetailsSummary--lowTempValue--1DlJK', 'high_celcius': 'DetailsSummary--highTempValue--3x6cL', 'description': 'DailyContent--narrative--3AcXd'}, ignore_index=True)\n"
   ],
   "metadata": {
    "tags": [],
    "cell_id": "00029-470ed15b-7b0c-4ac3-979f-f845416538d5",
    "output_cleared": false,
    "source_hash": "207d1327",
    "execution_millis": 39,
    "execution_start": 1607525198687,
    "deepnote_cell_type": "code"
   },
   "outputs": [
    {
     "output_type": "execute_result",
     "data": {
      "text/plain": [
       "                                  date                                days  \\\n",
       "0                                Today                                   9   \n",
       "1                                  Thu                                  10   \n",
       "2                                  Fri                                  11   \n",
       "3                                  Sat                                  12   \n",
       "4                                  Sun                                  13   \n",
       "5                                  Mon                                  14   \n",
       "6                                  Tue                                  15   \n",
       "7                                  Wed                                  16   \n",
       "8                                  Thu                                  17   \n",
       "9                                  Fri                                  18   \n",
       "10                                 Sat                                  19   \n",
       "11                                 Sun                                  20   \n",
       "12                                 Mon                                  21   \n",
       "13                                 Tue                                  22   \n",
       "14                                 Wed                                  23   \n",
       "15  DetailsSummary--daypartName--1Mebr  DetailsSummary--daypartName--1Mebr   \n",
       "\n",
       "                            low_celcius                          high_celcius  \\\n",
       "0                                     7                                    17   \n",
       "1                                     7                                    13   \n",
       "2                                     7                                    13   \n",
       "3                                     8                                    13   \n",
       "4                                     8                                    14   \n",
       "5                                     7                                    14   \n",
       "6                                     7                                    13   \n",
       "7                                     7                                    14   \n",
       "8                                     7                                    14   \n",
       "9                                     7                                    14   \n",
       "10                                    7                                    15   \n",
       "11                                    6                                    16   \n",
       "12                                    6                                    15   \n",
       "13                                    5                                    16   \n",
       "14                                    6                                    16   \n",
       "15  DetailsSummary--lowTempValue--1DlJK  DetailsSummary--highTempValue--3x6cL   \n",
       "\n",
       "                                          description  \n",
       "0   Partly cloudy. High 63F. Winds N at 10 to 15 mph.  \n",
       "1   Partly cloudy this evening with more clouds fo...  \n",
       "2   Partly cloudy skies with gusty winds developin...  \n",
       "3   Mostly clear early then increasing cloudiness ...  \n",
       "4   Partly cloudy skies in the morning will give w...  \n",
       "5   Cloudy skies early with showers later at night...  \n",
       "6   Cloudy with showers. High 56F. S winds shiftin...  \n",
       "7   Cloudy in the evening, then off and on rain sh...  \n",
       "8   Rain early...then remaining cloudy with shower...  \n",
       "9   Rain showers in the evening becoming more inte...  \n",
       "10  Intervals of clouds and sunshine. High 57F. Wi...  \n",
       "11  Mostly clear during the evening followed by mo...  \n",
       "12  Partly cloudy skies. High 56F. Winds W at 5 to...  \n",
       "13  Partly cloudy skies early will give way to occ...  \n",
       "14  Increasing clouds with showers arriving someti...  \n",
       "15                     DailyContent--narrative--3AcXd  "
      ],
      "text/html": "<div>\n<style scoped>\n    .dataframe tbody tr th:only-of-type {\n        vertical-align: middle;\n    }\n\n    .dataframe tbody tr th {\n        vertical-align: top;\n    }\n\n    .dataframe thead th {\n        text-align: right;\n    }\n</style>\n<table border=\"1\" class=\"dataframe\">\n  <thead>\n    <tr style=\"text-align: right;\">\n      <th></th>\n      <th>date</th>\n      <th>days</th>\n      <th>low_celcius</th>\n      <th>high_celcius</th>\n      <th>description</th>\n    </tr>\n  </thead>\n  <tbody>\n    <tr>\n      <th>0</th>\n      <td>Today</td>\n      <td>9</td>\n      <td>7</td>\n      <td>17</td>\n      <td>Partly cloudy. High 63F. Winds N at 10 to 15 mph.</td>\n    </tr>\n    <tr>\n      <th>1</th>\n      <td>Thu</td>\n      <td>10</td>\n      <td>7</td>\n      <td>13</td>\n      <td>Partly cloudy this evening with more clouds fo...</td>\n    </tr>\n    <tr>\n      <th>2</th>\n      <td>Fri</td>\n      <td>11</td>\n      <td>7</td>\n      <td>13</td>\n      <td>Partly cloudy skies with gusty winds developin...</td>\n    </tr>\n    <tr>\n      <th>3</th>\n      <td>Sat</td>\n      <td>12</td>\n      <td>8</td>\n      <td>13</td>\n      <td>Mostly clear early then increasing cloudiness ...</td>\n    </tr>\n    <tr>\n      <th>4</th>\n      <td>Sun</td>\n      <td>13</td>\n      <td>8</td>\n      <td>14</td>\n      <td>Partly cloudy skies in the morning will give w...</td>\n    </tr>\n    <tr>\n      <th>5</th>\n      <td>Mon</td>\n      <td>14</td>\n      <td>7</td>\n      <td>14</td>\n      <td>Cloudy skies early with showers later at night...</td>\n    </tr>\n    <tr>\n      <th>6</th>\n      <td>Tue</td>\n      <td>15</td>\n      <td>7</td>\n      <td>13</td>\n      <td>Cloudy with showers. High 56F. S winds shiftin...</td>\n    </tr>\n    <tr>\n      <th>7</th>\n      <td>Wed</td>\n      <td>16</td>\n      <td>7</td>\n      <td>14</td>\n      <td>Cloudy in the evening, then off and on rain sh...</td>\n    </tr>\n    <tr>\n      <th>8</th>\n      <td>Thu</td>\n      <td>17</td>\n      <td>7</td>\n      <td>14</td>\n      <td>Rain early...then remaining cloudy with shower...</td>\n    </tr>\n    <tr>\n      <th>9</th>\n      <td>Fri</td>\n      <td>18</td>\n      <td>7</td>\n      <td>14</td>\n      <td>Rain showers in the evening becoming more inte...</td>\n    </tr>\n    <tr>\n      <th>10</th>\n      <td>Sat</td>\n      <td>19</td>\n      <td>7</td>\n      <td>15</td>\n      <td>Intervals of clouds and sunshine. High 57F. Wi...</td>\n    </tr>\n    <tr>\n      <th>11</th>\n      <td>Sun</td>\n      <td>20</td>\n      <td>6</td>\n      <td>16</td>\n      <td>Mostly clear during the evening followed by mo...</td>\n    </tr>\n    <tr>\n      <th>12</th>\n      <td>Mon</td>\n      <td>21</td>\n      <td>6</td>\n      <td>15</td>\n      <td>Partly cloudy skies. High 56F. Winds W at 5 to...</td>\n    </tr>\n    <tr>\n      <th>13</th>\n      <td>Tue</td>\n      <td>22</td>\n      <td>5</td>\n      <td>16</td>\n      <td>Partly cloudy skies early will give way to occ...</td>\n    </tr>\n    <tr>\n      <th>14</th>\n      <td>Wed</td>\n      <td>23</td>\n      <td>6</td>\n      <td>16</td>\n      <td>Increasing clouds with showers arriving someti...</td>\n    </tr>\n    <tr>\n      <th>15</th>\n      <td>DetailsSummary--daypartName--1Mebr</td>\n      <td>DetailsSummary--daypartName--1Mebr</td>\n      <td>DetailsSummary--lowTempValue--1DlJK</td>\n      <td>DetailsSummary--highTempValue--3x6cL</td>\n      <td>DailyContent--narrative--3AcXd</td>\n    </tr>\n  </tbody>\n</table>\n</div>"
     },
     "metadata": {},
     "execution_count": 9
    }
   ],
   "execution_count": 9
  },
  {
   "cell_type": "code",
   "execution_count": null,
   "metadata": {},
   "outputs": [],
   "source": []
  }
 ],
 "nbformat": 4,
 "nbformat_minor": 2,
 "metadata": {
  "orig_nbformat": 2,
  "deepnote_notebook_id": "051e5d44-8313-4bad-b1ed-93e8a19ec7dc",
  "deepnote_execution_queue": [],
  "kernelspec": {
   "name": "python3",
   "display_name": "Python 3.8.3 64-bit",
   "metadata": {
    "interpreter": {
     "hash": "2db524e06e9f5f4ffedc911c917cb75e12dbc923643829bf417064a77eb14d37"
    }
   }
  }
 }
}