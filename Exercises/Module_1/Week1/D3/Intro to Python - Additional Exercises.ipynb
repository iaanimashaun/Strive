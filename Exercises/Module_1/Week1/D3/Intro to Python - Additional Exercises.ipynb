{
 "cells": [
  {
   "cell_type": "markdown",
   "metadata": {},
   "source": [
    "**Exercise 2.2 (optional):** Write code that classifies a given amount of money (which you store in a variable `amount`), specified in cents, as greater monetary units. Your code lists the monetary equivalent in dollars (100 ct), quarters (25 ct), dimes (10 ct), nickels (5 ct), and pennies (1 ct). Your program should report the maximum number of dollars that fit in the amount, then the maximum number of quarters that fit in the remainder after you subtract the dollars, then the maximum number of dimes that fit in the remainder after you subtract the dollars and quarters, and so on for nickels and pennies. The result is that you express the amount as the minimum number of coins needed.  \n",
    "\n",
    "**Can you do it again? Would you change anything from the last time you had to do this?**"
   ]
  },
  {
   "cell_type": "code",
   "execution_count": 2,
   "metadata": {},
   "outputs": [],
   "source": [
    "# Your Code Here\n",
    "\n",
    "def cashier(amount):\n",
    "   \n",
    "    #initialising all money units to zero\n",
    "    dollars, quarters, dimes, nickels, pennies = 0, 0, 0, 0, 0\n",
    "    \n",
    "    # calculate dollar equivalent\n",
    "    dollars = amount // 100\n",
    "    \n",
    "    #calcuate remaining amount\n",
    "    amount = amount % 100\n",
    "    \n",
    "    #calculate quarters equivalent from remaining amount\n",
    "    quarters = amount // 25\n",
    "    \n",
    "    #calculate remaining amount\n",
    "    amount = amount % 25\n",
    "    \n",
    "    #calculate dime equivalent from remaining amount\n",
    "    dimes = amount // 10\n",
    "    \n",
    "    #calculate remaining amount\n",
    "    amount = amount % 10\n",
    "    \n",
    "    #calculate nickel equivalent from remaining amount\n",
    "    nickels = amount // 5\n",
    "    \n",
    "    #remaining amount is equivalent to pennies\n",
    "    pennies = amount % 5\n",
    "    \n",
    "    return {'dollars': dollars,\n",
    "            'quarters': quarters, \n",
    "            'dimes': dimes, \n",
    "            'nickels': nickels, \n",
    "            'pennies': pennies}\n"
   ]
  },
  {
   "source": [
    "cashier(333)"
   ],
   "cell_type": "code",
   "metadata": {},
   "execution_count": 3,
   "outputs": [
    {
     "output_type": "execute_result",
     "data": {
      "text/plain": [
       "{'dollars': 3, 'quarters': 1, 'dimes': 0, 'nickels': 1, 'pennies': 3}"
      ]
     },
     "metadata": {},
     "execution_count": 3
    }
   ]
  },
  {
   "cell_type": "code",
   "execution_count": null,
   "metadata": {},
   "outputs": [],
   "source": []
  },
  {
   "cell_type": "markdown",
   "metadata": {},
   "source": [
    "**Exercise (optional)**: The factorial of a positive integer is that integer, multiplied by all positive integers that are lower (excluding zero). You write the factorial as the number with an exclamation mark after it. E.g., the factorial of 5 is `5! = 5 * 4 * 3 * 2 * 1 = 120`. Write a function that calculates the factorial of its (integer) parameter. Test your function for different parameter values, but do not use very large numbers as factorials grow exponentially. Hint: to do this with a `while` loop, you need at least one more variable."
   ]
  },
  {
   "cell_type": "code",
   "execution_count": 9,
   "metadata": {},
   "outputs": [
    {
     "output_type": "stream",
     "name": "stdout",
     "text": [
      "120\n"
     ]
    }
   ],
   "source": [
    "# Factorial\n",
    "def factorial(number):                                \n",
    "\n",
    "    #Your Code Here\n",
    "    # factorial method using recursion\n",
    "\n",
    "    # define the base case\n",
    "    if (number == 1):\n",
    "        return 1\n",
    "    else:\n",
    "        \n",
    "        # define the recursive call\n",
    "        return number * factorial(number - 1)\n",
    "\n",
    "print(factorial(5))"
   ]
  },
  {
   "cell_type": "markdown",
   "metadata": {},
   "source": [
    "**Exercise 5.1 (optional):** Write a function that prints a multiplication table for digits 1 to 10. A multiplication table for the numbers 1 to `num = 3` looks as follows:\n",
    "\n",
    "`. |  1  2  3`<br>\n",
    "`------------`<br>\n",
    "`1 |  1  2  3`<br>\n",
    "`2 |  2  4  6`<br>\n",
    "`3 |  3  6  9`\n",
    "\n",
    "So the labels on the rows are multiplied by the labels on the columns, and the result is shown in the cell that is on that row/column combination. "
   ]
  },
  {
   "cell_type": "code",
   "execution_count": 10,
   "metadata": {},
   "outputs": [
    {
     "output_type": "stream",
     "name": "stdout",
     "text": [
      "0\n1\n2\n"
     ]
    }
   ],
   "source": [
    "# Print multiplication table\n",
    "def print_multiplication_table(n):\n",
    "    \n",
    "\n",
    "    for i in range(3):\n",
    "        print(i)\n",
    "    #Your Code Here\n",
    "        \n",
    "print_multiplication_table(3)"
   ]
  },
  {
   "cell_type": "code",
   "execution_count": 72,
   "metadata": {},
   "outputs": [
    {
     "output_type": "stream",
     "name": "stdout",
     "text": [
      ".  |  1   2   3   4   5   6   7   8   9   10  11  12  13  14  15  16  17  18  19  20  \n--------------------------------------------------------------------------------\n1  |   1   2   3   4   5   6   7   8   9  10  11  12  13  14  15  16  17  18  19  20 \n2  |   2   4   6   8  10  12  14  16  18  20  22  24  26  28  30  32  34  36  38  40 \n3  |   3   6   9  12  15  18  21  24  27  30  33  36  39  42  45  48  51  54  57  60 \n4  |   4   8  12  16  20  24  28  32  36  40  44  48  52  56  60  64  68  72  76  80 \n5  |   5  10  15  20  25  30  35  40  45  50  55  60  65  70  75  80  85  90  95  100 \n6  |   6  12  18  24  30  36  42  48  54  60  66  72  78  84  90  96  102  108  114  120 \n7  |   7  14  21  28  35  42  49  56  63  70  77  84  91  98  105  112  119  126  133  140 \n8  |   8  16  24  32  40  48  56  64  72  80  88  96  104  112  120  128  136  144  152  160 \n9  |   9  18  27  36  45  54  63  72  81  90  99  108  117  126  135  144  153  162  171  180 \n10 |  10  20  30  40  50  60  70  80  90  100  110  120  130  140  150  160  170  180  190  200 \n11 |  11  22  33  44  55  66  77  88  99  110  121  132  143  154  165  176  187  198  209  220 \n12 |  12  24  36  48  60  72  84  96  108  120  132  144  156  168  180  192  204  216  228  240 \n13 |  13  26  39  52  65  78  91  104  117  130  143  156  169  182  195  208  221  234  247  260 \n14 |  14  28  42  56  70  84  98  112  126  140  154  168  182  196  210  224  238  252  266  280 \n15 |  15  30  45  60  75  90  105  120  135  150  165  180  195  210  225  240  255  270  285  300 \n16 |  16  32  48  64  80  96  112  128  144  160  176  192  208  224  240  256  272  288  304  320 \n17 |  17  34  51  68  85  102  119  136  153  170  187  204  221  238  255  272  289  306  323  340 \n18 |  18  36  54  72  90  108  126  144  162  180  198  216  234  252  270  288  306  324  342  360 \n19 |  19  38  57  76  95  114  133  152  171  190  209  228  247  266  285  304  323  342  361  380 \n20 |  20  40  60  80  100  120  140  160  180  200  220  240  260  280  300  320  340  360  380  400 \n"
     ]
    }
   ],
   "source": [
    "print(f'.  |  ', end='')\n",
    "for i in range(20):\n",
    "    if len(str(i+1)) != 1:\n",
    "        print(f'{i+1} ', end=' ')\n",
    "    else:\n",
    "        print(f'{i+1}  ', end=' ')\n",
    "print()\n",
    "print('-'*4*20)\n",
    "\n",
    "for i in range(20):\n",
    "    if len(str(i+1)) != 1:\n",
    "        print(f'{i+1} |', end=' ')\n",
    "    else:\n",
    "        print(f'{i+1}  |', end=' ')\n",
    "    #print()\n",
    "    for j in range(20):\n",
    "        result = (i+1)*(j+1)\n",
    "        result = str(result)\n",
    "        if len(result) != 1:\n",
    "            print(f' {result}', end=' ')\n",
    "        else:\n",
    "            print(f'  {result}', end=' ')\n",
    "    print()"
   ]
  },
  {
   "cell_type": "code",
   "execution_count": null,
   "metadata": {},
   "outputs": [],
   "source": []
  },
  {
   "cell_type": "code",
   "execution_count": null,
   "metadata": {},
   "outputs": [],
   "source": []
  },
  {
   "cell_type": "code",
   "execution_count": null,
   "metadata": {},
   "outputs": [],
   "source": []
  },
  {
   "cell_type": "code",
   "execution_count": null,
   "metadata": {},
   "outputs": [],
   "source": []
  },
  {
   "cell_type": "code",
   "execution_count": 1,
   "metadata": {},
   "outputs": [
    {
     "output_type": "stream",
     "name": "stdout",
     "text": [
      "1\t2\t3\t4\t5\t6\t7\t8\t9\t10\t11\t12\t13\t14\t15\t16\t17\t18\t19\t2\t4\t6\t8\t10\t12\t14\t16\t18\t20\t22\t24\t26\t28\t30\t32\t34\t36\t38\t3\t6\t9\t12\t15\t18\t21\t24\t27\t30\t33\t36\t39\t42\t45\t48\t51\t54\t57\t4\t8\t12\t16\t20\t24\t28\t32\t36\t40\t44\t48\t52\t56\t60\t64\t68\t72\t76\t5\t10\t15\t20\t25\t30\t35\t40\t45\t50\t55\t60\t65\t70\t75\t80\t85\t90\t95\t6\t12\t18\t24\t30\t36\t42\t48\t54\t60\t66\t72\t78\t84\t90\t96\t102\t108\t114\t7\t14\t21\t28\t35\t42\t49\t56\t63\t70\t77\t84\t91\t98\t105\t112\t119\t126\t133\t8\t16\t24\t32\t40\t48\t56\t64\t72\t80\t88\t96\t104\t112\t120\t128\t136\t144\t152\t9\t18\t27\t36\t45\t54\t63\t72\t81\t90\t99\t108\t117\t126\t135\t144\t153\t162\t171\t10\t20\t30\t40\t50\t60\t70\t80\t90\t100\t110\t120\t130\t140\t150\t160\t170\t180\t190\t11\t22\t33\t44\t55\t66\t77\t88\t99\t110\t121\t132\t143\t154\t165\t176\t187\t198\t209\t12\t24\t36\t48\t60\t72\t84\t96\t108\t120\t132\t144\t156\t168\t180\t192\t204\t216\t228\t13\t26\t39\t52\t65\t78\t91\t104\t117\t130\t143\t156\t169\t182\t195\t208\t221\t234\t247\t14\t28\t42\t56\t70\t84\t98\t112\t126\t140\t154\t168\t182\t196\t210\t224\t238\t252\t266\t15\t30\t45\t60\t75\t90\t105\t120\t135\t150\t165\t180\t195\t210\t225\t240\t255\t270\t285\t16\t32\t48\t64\t80\t96\t112\t128\t144\t160\t176\t192\t208\t224\t240\t256\t272\t288\t304\t17\t34\t51\t68\t85\t102\t119\t136\t153\t170\t187\t204\t221\t238\t255\t272\t289\t306\t323\t18\t36\t54\t72\t90\t108\t126\t144\t162\t180\t198\t216\t234\t252\t270\t288\t306\t324\t342\t19\t38\t57\t76\t95\t114\t133\t152\t171\t190\t209\t228\t247\t266\t285\t304\t323\t342\t361\t"
     ]
    }
   ],
   "source": [
    "from itertools import product\n",
    "for a, b in product(range(1, 20), repeat=2):\n",
    "    print(a * b, end=\"\\t\")\n",
    "    if b == 20:\n",
    "        print()"
   ]
  },
  {
   "cell_type": "code",
   "execution_count": 3,
   "metadata": {},
   "outputs": [
    {
     "output_type": "execute_result",
     "data": {
      "text/plain": [
       "[(1, 1),\n",
       " (1, 2),\n",
       " (1, 3),\n",
       " (1, 4),\n",
       " (2, 1),\n",
       " (2, 2),\n",
       " (2, 3),\n",
       " (2, 4),\n",
       " (3, 1),\n",
       " (3, 2),\n",
       " (3, 3),\n",
       " (3, 4),\n",
       " (4, 1),\n",
       " (4, 2),\n",
       " (4, 3),\n",
       " (4, 4)]"
      ]
     },
     "metadata": {},
     "execution_count": 3
    }
   ],
   "source": [
    "list(product(range(1,5), repeat=2))"
   ]
  },
  {
   "cell_type": "code",
   "execution_count": null,
   "metadata": {},
   "outputs": [],
   "source": []
  },
  {
   "cell_type": "code",
   "execution_count": null,
   "metadata": {},
   "outputs": [],
   "source": []
  },
  {
   "cell_type": "markdown",
   "metadata": {},
   "source": [
    "**Exercise 5.2 (optional):** If you did the previous exercise with a `while` loop, then do it again with a `for` loop. If you did it with a `for` loop, then do it again with a `while` loop. If you did not use a loop at all, you should be ashamed of yourself."
   ]
  },
  {
   "cell_type": "code",
   "execution_count": null,
   "metadata": {},
   "outputs": [],
   "source": [
    "# Print multiplication table\n",
    "def print_multiplication_table(n):\n",
    "    \n",
    "    #Your Code Here\n",
    "    \n",
    "\n",
    "\n",
    "print_multiplication_table(5)"
   ]
  },
  {
   "cell_type": "markdown",
   "metadata": {},
   "source": [
    "**Exercise 6.5 (optional):** Typical autocorrect functions are the following: \n",
    "1. if a word starts with two capitals, followed by a lower-case letter, the second capital is made lower case; \n",
    "2. if a sentence contains a word that is immediately followed by the same word, the second occurrence is removed; \n",
    "3. if a sentence starts with a lower-case letter, that letter is turned into a capital; \n",
    "4. if a word consists entirely of capitals, except for the first letter which is lower case, then the case of the letters in the word is reversed; and \n",
    "5. if the sentence contains the name of a day (in English) which does not start with a capital, the first letter is turned into a capital. \n",
    "\n",
    "Write a program that takes a sentence and makes these auto-corrections."
   ]
  },
  {
   "cell_type": "code",
   "execution_count": 2,
   "metadata": {},
   "outputs": [],
   "source": [
    "# Autocorrect.\n",
    "sentence = \"as it turned out our chance meeting with REverend aRTHUR BElling was \\\n",
    "was to change our whole way of life, and every sunday we'd hurry along to St lOONY up the Cream BUn and Jam.\"\n"
   ]
  },
  {
   "cell_type": "code",
   "execution_count": null,
   "metadata": {},
   "outputs": [],
   "source": [
    "def autocorrect(sentence):\n",
    "    "
   ]
  },
  {
   "cell_type": "code",
   "execution_count": null,
   "metadata": {},
   "outputs": [],
   "source": []
  },
  {
   "cell_type": "code",
   "execution_count": null,
   "metadata": {},
   "outputs": [],
   "source": []
  },
  {
   "cell_type": "markdown",
   "metadata": {},
   "source": [
    "### Exercise 11.3 (Optional)\n",
    "In this directory you find a file `blakepoems.txt`. Write a program that processes the contents of this file, line by line. It creates an output file in the current working directory called `blkpms.txt`, which has the same contents as `blakepoems.txt`, except that all the vowels are removed (case-insensitively). At the end, display how many characters you read, and how many characters you wrote. If you want to check the contents of `blkpms.txt`, you can either open it in a text editor, or display the first 10 lines or so at the end of your program."
   ]
  },
  {
   "cell_type": "code",
   "execution_count": null,
   "metadata": {},
   "outputs": [],
   "source": []
  },
  {
   "cell_type": "code",
   "execution_count": null,
   "metadata": {},
   "outputs": [],
   "source": [
    "## Your Code Here"
   ]
  },
  {
   "cell_type": "code",
   "execution_count": 2,
   "metadata": {},
   "outputs": [],
   "source": [
    "from itertools import product"
   ]
  },
  {
   "cell_type": "code",
   "execution_count": 1,
   "metadata": {},
   "outputs": [
    {
     "output_type": "stream",
     "name": "stdout",
     "text": [
      "lalalalalalala\n"
     ]
    }
   ],
   "source": [
    "print('la' * 7)"
   ]
  },
  {
   "cell_type": "code",
   "execution_count": 4,
   "metadata": {},
   "outputs": [
    {
     "output_type": "stream",
     "name": "stdout",
     "text": [
      "kakakakaka\n"
     ]
    }
   ],
   "source": [
    "word = input()\n",
    "n = int(input())\n",
    "print(word * n)"
   ]
  },
  {
   "cell_type": "code",
   "execution_count": 8,
   "metadata": {},
   "outputs": [
    {
     "output_type": "stream",
     "name": "stdout",
     "text": [
      "Ordinary\n"
     ]
    }
   ],
   "source": [
    "# Save the input in this variable\n",
    "ticket = '090234'\n",
    "\n",
    "# Add up the digits for each half\n",
    "half1 = ticket[0] + ticket[1] + ticket[2]\n",
    "half2 = ticket[-1] + ticket[-2] + ticket[-3]\n",
    "\n",
    "# Thanks to you, this code will work\n",
    "if half1 == half2:\n",
    "    print(\"Lucky\")\n",
    "else:\n",
    "    print(\"Ordinary\")"
   ]
  },
  {
   "cell_type": "code",
   "execution_count": 12,
   "metadata": {},
   "outputs": [
    {
     "output_type": "stream",
     "name": "stdout",
     "text": [
      "---------\n| O X O |\n| _ _ X |\n| _ O X |\n---------\n"
     ]
    }
   ],
   "source": [
    "cells = 'OXO__X_OX'\n",
    "print('-' * 9)\n",
    "print('|', ' '.join(cells[:3]), '|')\n",
    "print('|', ' '.join(cells[3:6]), '|')\n",
    "print('|', ' '.join(cells[6:9]), '|')\n",
    "print('-' * 9)"
   ]
  },
  {
   "cell_type": "code",
   "execution_count": 13,
   "metadata": {},
   "outputs": [
    {
     "output_type": "stream",
     "name": "stdout",
     "text": [
      "4\n"
     ]
    }
   ],
   "source": [
    "print(((3 + 5) // 2 * 2 ** 3) % 7)"
   ]
  },
  {
   "cell_type": "code",
   "execution_count": null,
   "metadata": {},
   "outputs": [],
   "source": []
  },
  {
   "cell_type": "code",
   "execution_count": 14,
   "metadata": {},
   "outputs": [
    {
     "output_type": "execute_result",
     "data": {
      "text/plain": [
       "32"
      ]
     },
     "metadata": {},
     "execution_count": 14
    }
   ],
   "source": [
    "10 + 11 + 11"
   ]
  },
  {
   "cell_type": "code",
   "execution_count": 22,
   "metadata": {},
   "outputs": [
    {
     "output_type": "execute_result",
     "data": {
      "text/plain": [
       "10"
      ]
     },
     "metadata": {},
     "execution_count": 22
    }
   ],
   "source": [
    "import math\n",
    "math.ceil(20/2)"
   ]
  },
  {
   "cell_type": "code",
   "execution_count": 23,
   "metadata": {},
   "outputs": [
    {
     "output_type": "stream",
     "name": "stdout",
     "text": [
      "2.0\n"
     ]
    }
   ],
   "source": [
    "n = 2.777\n",
    "print(str(float(int(n))))"
   ]
  },
  {
   "cell_type": "code",
   "execution_count": 27,
   "metadata": {},
   "outputs": [
    {
     "output_type": "stream",
     "name": "stdout",
     "text": [
      "2.0\n"
     ]
    }
   ],
   "source": [
    "print(str(float(int(2.777))))"
   ]
  },
  {
   "cell_type": "code",
   "execution_count": 33,
   "metadata": {},
   "outputs": [
    {
     "output_type": "stream",
     "name": "stdout",
     "text": [
      "The tax for 14378 is 0%. That is 0 dollars!\n"
     ]
    }
   ],
   "source": [
    "income = 14378\n",
    "percent = 0\n",
    "if income < 15527:\n",
    "    percent = 0\n",
    "elif 15528 < income < 42707:\n",
    "    percent = 15\n",
    "elif 42708 < income < 132406:\n",
    "    percent = 25\n",
    "else:\n",
    "    percent = 28\n",
    "    \n",
    "calculated_tax = round(income * percent / 100)\n",
    "    \n",
    "print(f'The tax for {income} is {percent}%. That is {calculated_tax} dollars!')"
   ]
  },
  {
   "cell_type": "code",
   "execution_count": 41,
   "metadata": {},
   "outputs": [
    {
     "output_type": "execute_result",
     "data": {
      "text/plain": [
       "True"
      ]
     },
     "metadata": {},
     "execution_count": 41
    }
   ],
   "source": [
    "True and True and False or True"
   ]
  },
  {
   "cell_type": "code",
   "execution_count": 46,
   "metadata": {},
   "outputs": [],
   "source": [
    "import numpy as np"
   ]
  },
  {
   "cell_type": "code",
   "execution_count": 47,
   "metadata": {},
   "outputs": [
    {
     "output_type": "execute_result",
     "data": {
      "text/plain": [
       "array([1, 2, 3, 4, 5])"
      ]
     },
     "metadata": {},
     "execution_count": 47
    }
   ],
   "source": [
    "np.array([1,2,3,4,5])"
   ]
  },
  {
   "cell_type": "code",
   "execution_count": null,
   "metadata": {},
   "outputs": [],
   "source": []
  }
 ],
 "metadata": {
  "kernelspec": {
   "display_name": "Python 3",
   "language": "python",
   "name": "python3"
  },
  "language_info": {
   "codemirror_mode": {
    "name": "ipython",
    "version": 3
   },
   "file_extension": ".py",
   "mimetype": "text/x-python",
   "name": "python",
   "nbconvert_exporter": "python",
   "pygments_lexer": "ipython3",
   "version": "3.8.5-final"
  }
 },
 "nbformat": 4,
 "nbformat_minor": 2
}