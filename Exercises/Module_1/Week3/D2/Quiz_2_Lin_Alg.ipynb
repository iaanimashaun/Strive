{
 "cells": [
  {
   "cell_type": "markdown",
   "metadata": {},
   "source": [
    "## Linear Algebra Quiz #2\n",
    "\n",
    "![title](./img/2_1.jpeg)\n",
    "\n",
    "We strongly suggest working with numpy :)"
   ]
  },
  {
   "cell_type": "code",
   "execution_count": 1,
   "metadata": {},
   "outputs": [],
   "source": [
    "#Do your imports here\n",
    "import pandas as pd \n",
    "import numpy as np "
   ]
  },
  {
   "cell_type": "markdown",
   "metadata": {},
   "source": [
    "![title](./img/2_2.png)\n",
    "- Which vectors below define a plane spanned by a linear combination?"
   ]
  },
  {
   "cell_type": "code",
   "execution_count": 3,
   "metadata": {},
   "outputs": [],
   "source": [
    "def plane(a,b,c):\n",
    "    #returns false if the vectors do define a plane and returns which are those vectors if true\n",
    "    matrix = np.matrix(a,b,c)\n",
    "    lambdas, V = np.linalg.eig(matrix)\n",
    "    if 0 in lambdas:\n",
    "        return False\n",
    "    else:\n",
    "        return matrix[lambdas == 0]\n",
    "#print(matrix[lambdas == 0])\n",
    "# Harder exercise\n",
    "\n",
    "def complete_plane(*inputs):\n",
    "    return plane(inputs)\n",
    "#returns the first set of vectors to complete a plane, false otherwise"
   ]
  },
  {
   "cell_type": "markdown",
   "metadata": {},
   "source": [
    "![title](./img/2_3.png)\n",
    "- What is the solution for a and b?"
   ]
  },
  {
   "cell_type": "code",
   "execution_count": null,
   "metadata": {},
   "outputs": [],
   "source": []
  },
  {
   "cell_type": "code",
   "execution_count": null,
   "metadata": {},
   "outputs": [],
   "source": []
  },
  {
   "cell_type": "code",
   "execution_count": null,
   "metadata": {},
   "outputs": [],
   "source": []
  },
  {
   "cell_type": "code",
   "execution_count": 14,
   "metadata": {},
   "outputs": [],
   "source": [
    "# do you need a function for this? What is the most efficient way to solve it?\n",
    "\n",
    "#b, residuals, rank, singular_vals = np.linalg.lstsq([[2,3,], [10,15]], [-1,-5])\n"
   ]
  },
  {
   "cell_type": "markdown",
   "metadata": {},
   "source": [
    "![title](./img/2_4.png)\n",
    "- What is the solution for a and b?"
   ]
  },
  {
   "source": [
    "## For both linear equations, they are linearly dependent and have infinite solutions"
   ],
   "cell_type": "markdown",
   "metadata": {}
  },
  {
   "cell_type": "code",
   "execution_count": 9,
   "metadata": {},
   "outputs": [],
   "source": [
    "# Idem. Do you need a function for this? What is the most efficient way to solve it?\n",
    "\n",
    "#x, residuals, rank, s = np.linalg.lstsq([[-1,3], [-1,3]], [1,5])"
   ]
  },
  {
   "cell_type": "code",
   "execution_count": null,
   "metadata": {},
   "outputs": [],
   "source": []
  }
 ],
 "metadata": {
  "kernelspec": {
   "display_name": "Python 3",
   "language": "python",
   "name": "python3"
  },
  "language_info": {
   "codemirror_mode": {
    "name": "ipython",
    "version": 3
   },
   "file_extension": ".py",
   "mimetype": "text/x-python",
   "name": "python",
   "nbconvert_exporter": "python",
   "pygments_lexer": "ipython3",
   "version": "3.8.5-final"
  }
 },
 "nbformat": 4,
 "nbformat_minor": 2
}