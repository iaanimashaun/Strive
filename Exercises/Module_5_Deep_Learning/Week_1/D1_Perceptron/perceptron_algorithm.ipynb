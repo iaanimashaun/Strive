version https://git-lfs.github.com/spec/v1
oid sha256:ef5dbaa122c626d64a3a52184a1bf2bda9f7d13c6e3a8ff584aedbcc86c7abd9
size 228395
