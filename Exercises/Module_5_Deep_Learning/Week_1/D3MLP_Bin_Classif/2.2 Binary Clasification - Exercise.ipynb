version https://git-lfs.github.com/spec/v1
oid sha256:5215f275df6f88032517f304774d150683f9ad552215a9ce09701dd546f63963
size 681632
