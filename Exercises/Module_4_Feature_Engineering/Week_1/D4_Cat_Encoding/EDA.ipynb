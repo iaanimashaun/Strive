version https://git-lfs.github.com/spec/v1
oid sha256:ea779f13eb442d2f86eeebb78126c8463c32717b86aba57ff6b2002733f5ad2f
size 1044834
