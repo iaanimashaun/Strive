{
 "cells": [
  {
   "cell_type": "code",
   "execution_count": 1,
   "metadata": {
    "collapsed": true
   },
   "outputs": [
    {
     "ename": "SyntaxError",
     "evalue": "invalid syntax (<ipython-input-1-48befebc91ee>, line 1)",
     "output_type": "error",
     "traceback": [
      "\u001B[1;36m  File \u001B[1;32m\"<ipython-input-1-48befebc91ee>\"\u001B[1;36m, line \u001B[1;32m1\u001B[0m\n\u001B[1;33m    pip install ipython[all]\u001B[0m\n\u001B[1;37m        ^\u001B[0m\n\u001B[1;31mSyntaxError\u001B[0m\u001B[1;31m:\u001B[0m invalid syntax\n"
     ]
    }
   ],
   "source": [
    "\n",
    "pip install ipython[all]"
   ]
  },
  {
   "cell_type": "code",
   "execution_count": 2,
   "outputs": [
    {
     "name": "stdout",
     "output_type": "stream",
     "text": [
      "Requirement already satisfied: MarkupSafe>=0.23 in c:\\users\\amash\\anaconda3\\envs\\strive\\lib\\site-packages (from Jinja2>=2.3->Sphinx>=1.3; extra == \"all\"->ipython[all]) (1.1.1)\n",
      "Requirement already satisfied: six>=1.5 in c:\\users\\amash\\anaconda3\\envs\\strive\\lib\\site-packages (from python-dateutil>=2.1->ipyparallel; extra == \"all\"->ipython[all]) (1.15.0)\n",
      "Requirement already satisfied: pywinpty>=0.5; os_name == \"nt\" in c:\\users\\amash\\anaconda3\\envs\\strive\\lib\\site-packages (from terminado>=0.8.3->notebook; extra == \"all\"->ipython[all]) (0.5.7)\n",
      "Requirement already satisfied: pywin32>=1.0; sys_platform == \"win32\" in c:\\users\\amash\\anaconda3\\envs\\strive\\lib\\site-packages (from jupyter-core>=4.6.1->notebook; extra == \"all\"->ipython[all]) (300)\n",
      "Requirement already satisfied: cffi>=1.0.0 in c:\\users\\amash\\anaconda3\\envs\\strive\\lib\\site-packages (from argon2-cffi->notebook; extra == \"all\"->ipython[all]) (1.14.4)\n",
      "Requirement already satisfied: webencodings in c:\\users\\amash\\anaconda3\\envs\\strive\\lib\\site-packages (from bleach->nbconvert; extra == \"all\"->ipython[all]) (0.5.1)\n",
      "Requirement already satisfied: nest-asyncio in c:\\users\\amash\\anaconda3\\envs\\strive\\lib\\site-packages (from nbclient<0.6.0,>=0.5.0->nbconvert; extra == \"all\"->ipython[all]) (1.4.3)\n",
      "Requirement already satisfied: async-generator in c:\\users\\amash\\anaconda3\\envs\\strive\\lib\\site-packages (from nbclient<0.6.0,>=0.5.0->nbconvert; extra == \"all\"->ipython[all]) (1.10)\n",
      "Requirement already satisfied: pyrsistent>=0.14.0 in c:\\users\\amash\\anaconda3\\envs\\strive\\lib\\site-packages (from jsonschema!=2.5.0,>=2.4->nbformat; extra == \"all\"->ipython[all]) (0.17.3)\n",
      "Requirement already satisfied: attrs>=17.4.0 in c:\\users\\amash\\anaconda3\\envs\\strive\\lib\\site-packages (from jsonschema!=2.5.0,>=2.4->nbformat; extra == \"all\"->ipython[all]) (20.3.0)\n",
      "Requirement already satisfied: pycparser in c:\\users\\amash\\anaconda3\\envs\\strive\\lib\\site-packages (from cffi>=1.0.0->argon2-cffi->notebook; extra == \"all\"->ipython[all]) (2.20)\n",
      "Installing collected packages: babel, sphinxcontrib-htmlhelp, sphinxcontrib-serializinghtml, snowballstemmer, docutils, alabaster, imagesize, sphinxcontrib-jsmath, sphinxcontrib-qthelp, sphinxcontrib-applehelp, sphinxcontrib-devhelp, Sphinx, ipyparallel, nose\n",
      "Successfully installed Sphinx-3.4.3 alabaster-0.7.12 babel-2.9.0 docutils-0.16 imagesize-1.2.0 ipyparallel-6.3.0 nose-1.3.7 snowballstemmer-2.1.0 sphinxcontrib-applehelp-1.0.2 sphinxcontrib-devhelp-1.0.2 sphinxcontrib-htmlhelp-1.0.3 sphinxcontrib-jsmath-1.0.1 sphinxcontrib-qthelp-1.0.3 sphinxcontrib-serializinghtml-1.1.4\n",
      "Requirement already satisfied: ipython[all] in c:\\users\\amash\\anaconda3\\envs\\strive\\lib\\site-packages (7.19.0)\n",
      "Requirement already satisfied: jedi>=0.10 in c:\\users\\amash\\anaconda3\\envs\\strive\\lib\\site-packages (from ipython[all]) (0.18.0)\n",
      "Requirement already satisfied: pickleshare in c:\\users\\amash\\anaconda3\\envs\\strive\\lib\\site-packages (from ipython[all]) (0.7.5)\n",
      "Requirement already satisfied: backcall in c:\\users\\amash\\anaconda3\\envs\\strive\\lib\\site-packages (from ipython[all]) (0.2.0)\n",
      "Requirement already satisfied: pygments in c:\\users\\amash\\anaconda3\\envs\\strive\\lib\\site-packages (from ipython[all]) (2.7.3)\n",
      "Requirement already satisfied: colorama; sys_platform == \"win32\" in c:\\users\\amash\\anaconda3\\envs\\strive\\lib\\site-packages (from ipython[all]) (0.4.4)\n",
      "Requirement already satisfied: setuptools>=18.5 in c:\\users\\amash\\anaconda3\\envs\\strive\\lib\\site-packages (from ipython[all]) (50.3.1.post20201107)\n",
      "Requirement already satisfied: decorator in c:\\users\\amash\\anaconda3\\envs\\strive\\lib\\site-packages (from ipython[all]) (4.4.2)\n",
      "Requirement already satisfied: prompt-toolkit!=3.0.0,!=3.0.1,<3.1.0,>=2.0.0 in c:\\users\\amash\\anaconda3\\envs\\strive\\lib\\site-packages (from ipython[all]) (3.0.11)\n",
      "Requirement already satisfied: traitlets>=4.2 in c:\\users\\amash\\anaconda3\\envs\\strive\\lib\\site-packages (from ipython[all]) (5.0.5)\n",
      "Requirement already satisfied: testpath; extra == \"all\" in c:\\users\\amash\\anaconda3\\envs\\strive\\lib\\site-packages (from ipython[all]) (0.4.4)\n",
      "Requirement already satisfied: requests; extra == \"all\" in c:\\users\\amash\\anaconda3\\envs\\strive\\lib\\site-packages (from ipython[all]) (2.25.1)\n",
      "Requirement already satisfied: ipyparallel; extra == \"all\" in c:\\users\\amash\\anaconda3\\envs\\strive\\lib\\site-packages (from ipython[all]) (6.3.0)\n",
      "Requirement already satisfied: nose>=0.10.1; extra == \"all\" in c:\\users\\amash\\anaconda3\\envs\\strive\\lib\\site-packages (from ipython[all]) (1.3.7)\n",
      "Requirement already satisfied: notebook; extra == \"all\" in c:\\users\\amash\\anaconda3\\envs\\strive\\lib\\site-packages (from ipython[all]) (6.2.0)\n",
      "Requirement already satisfied: qtconsole; extra == \"all\" in c:\\users\\amash\\anaconda3\\envs\\strive\\lib\\site-packages (from ipython[all]) (5.0.1)\n",
      "Requirement already satisfied: Sphinx>=1.3; extra == \"all\" in c:\\users\\amash\\anaconda3\\envs\\strive\\lib\\site-packages (from ipython[all]) (3.4.3)\n",
      "Requirement already satisfied: ipywidgets; extra == \"all\" in c:\\users\\amash\\anaconda3\\envs\\strive\\lib\\site-packages (from ipython[all]) (7.6.3)\n",
      "Requirement already satisfied: nbformat; extra == \"all\" in c:\\users\\amash\\anaconda3\\envs\\strive\\lib\\site-packages (from ipython[all]) (5.1.0)\n",
      "Requirement already satisfied: numpy>=1.14; extra == \"all\" in c:\\users\\amash\\anaconda3\\envs\\strive\\lib\\site-packages (from ipython[all]) (1.19.3)\n",
      "Requirement already satisfied: nbconvert; extra == \"all\" in c:\\users\\amash\\anaconda3\\envs\\strive\\lib\\site-packages (from ipython[all]) (6.0.7)\n",
      "Requirement already satisfied: ipykernel; extra == \"all\" in c:\\users\\amash\\anaconda3\\envs\\strive\\lib\\site-packages (from ipython[all]) (5.4.2)\n",
      "Requirement already satisfied: parso<0.9.0,>=0.8.0 in c:\\users\\amash\\anaconda3\\envs\\strive\\lib\\site-packages (from jedi>=0.10->ipython[all]) (0.8.1)\n",
      "Requirement already satisfied: wcwidth in c:\\users\\amash\\anaconda3\\envs\\strive\\lib\\site-packages (from prompt-toolkit!=3.0.0,!=3.0.1,<3.1.0,>=2.0.0->ipython[all]) (0.2.5)\n",
      "Requirement already satisfied: ipython-genutils in c:\\users\\amash\\anaconda3\\envs\\strive\\lib\\site-packages (from traitlets>=4.2->ipython[all]) (0.2.0)\n",
      "Requirement already satisfied: idna<3,>=2.5 in c:\\users\\amash\\anaconda3\\envs\\strive\\lib\\site-packages (from requests; extra == \"all\"->ipython[all]) (2.10)\n",
      "Requirement already satisfied: certifi>=2017.4.17 in c:\\users\\amash\\anaconda3\\envs\\strive\\lib\\site-packages (from requests; extra == \"all\"->ipython[all]) (2020.12.5)\n",
      "Requirement already satisfied: urllib3<1.27,>=1.21.1 in c:\\users\\amash\\anaconda3\\envs\\strive\\lib\\site-packages (from requests; extra == \"all\"->ipython[all]) (1.26.2)\n",
      "Requirement already satisfied: chardet<5,>=3.0.2 in c:\\users\\amash\\anaconda3\\envs\\strive\\lib\\site-packages (from requests; extra == \"all\"->ipython[all]) (4.0.0)\n",
      "Requirement already satisfied: python-dateutil>=2.1 in c:\\users\\amash\\anaconda3\\envs\\strive\\lib\\site-packages (from ipyparallel; extra == \"all\"->ipython[all]) (2.8.1)\n",
      "Requirement already satisfied: jupyter-client in c:\\users\\amash\\anaconda3\\envs\\strive\\lib\\site-packages (from ipyparallel; extra == \"all\"->ipython[all]) (6.1.11)\n",
      "Requirement already satisfied: tornado>=4 in c:\\users\\amash\\anaconda3\\envs\\strive\\lib\\site-packages (from ipyparallel; extra == \"all\"->ipython[all]) (6.1)\n",
      "Requirement already satisfied: pyzmq>=13 in c:\\users\\amash\\anaconda3\\envs\\strive\\lib\\site-packages (from ipyparallel; extra == \"all\"->ipython[all]) (21.0.0)\n",
      "Requirement already satisfied: terminado>=0.8.3 in c:\\users\\amash\\anaconda3\\envs\\strive\\lib\\site-packages (from notebook; extra == \"all\"->ipython[all]) (0.9.2)\n",
      "Requirement already satisfied: jupyter-core>=4.6.1 in c:\\users\\amash\\anaconda3\\envs\\strive\\lib\\site-packages (from notebook; extra == \"all\"->ipython[all]) (4.7.0)\n",
      "Requirement already satisfied: prometheus-client in c:\\users\\amash\\anaconda3\\envs\\strive\\lib\\site-packages (from notebook; extra == \"all\"->ipython[all]) (0.9.0)\n",
      "Requirement already satisfied: jinja2 in c:\\users\\amash\\anaconda3\\envs\\strive\\lib\\site-packages (from notebook; extra == \"all\"->ipython[all]) (2.11.2)\n",
      "Requirement already satisfied: argon2-cffi in c:\\users\\amash\\anaconda3\\envs\\strive\\lib\\site-packages (from notebook; extra == \"all\"->ipython[all]) (20.1.0)\n",
      "Requirement already satisfied: Send2Trash>=1.5.0 in c:\\users\\amash\\anaconda3\\envs\\strive\\lib\\site-packages (from notebook; extra == \"all\"->ipython[all]) (1.5.0)\n",
      "Requirement already satisfied: qtpy in c:\\users\\amash\\anaconda3\\envs\\strive\\lib\\site-packages (from qtconsole; extra == \"all\"->ipython[all]) (1.9.0)\n",
      "Requirement already satisfied: docutils>=0.12 in c:\\users\\amash\\anaconda3\\envs\\strive\\lib\\site-packages (from Sphinx>=1.3; extra == \"all\"->ipython[all]) (0.16)\n",
      "Requirement already satisfied: imagesize in c:\\users\\amash\\anaconda3\\envs\\strive\\lib\\site-packages (from Sphinx>=1.3; extra == \"all\"->ipython[all]) (1.2.0)\n",
      "Requirement already satisfied: babel>=1.3 in c:\\users\\amash\\anaconda3\\envs\\strive\\lib\\site-packages (from Sphinx>=1.3; extra == \"all\"->ipython[all]) (2.9.0)\n",
      "Requirement already satisfied: sphinxcontrib-applehelp in c:\\users\\amash\\anaconda3\\envs\\strive\\lib\\site-packages (from Sphinx>=1.3; extra == \"all\"->ipython[all]) (1.0.2)\n",
      "Requirement already satisfied: sphinxcontrib-qthelp in c:\\users\\amash\\anaconda3\\envs\\strive\\lib\\site-packages (from Sphinx>=1.3; extra == \"all\"->ipython[all]) (1.0.3)\n",
      "Requirement already satisfied: sphinxcontrib-serializinghtml in c:\\users\\amash\\anaconda3\\envs\\strive\\lib\\site-packages (from Sphinx>=1.3; extra == \"all\"->ipython[all]) (1.1.4)\n",
      "Requirement already satisfied: sphinxcontrib-htmlhelp in c:\\users\\amash\\anaconda3\\envs\\strive\\lib\\site-packages (from Sphinx>=1.3; extra == \"all\"->ipython[all]) (1.0.3)\n",
      "Requirement already satisfied: alabaster<0.8,>=0.7 in c:\\users\\amash\\anaconda3\\envs\\strive\\lib\\site-packages (from Sphinx>=1.3; extra == \"all\"->ipython[all]) (0.7.12)\n",
      "Requirement already satisfied: sphinxcontrib-devhelp in c:\\users\\amash\\anaconda3\\envs\\strive\\lib\\site-packages (from Sphinx>=1.3; extra == \"all\"->ipython[all]) (1.0.2)\n",
      "Requirement already satisfied: packaging in c:\\users\\amash\\anaconda3\\envs\\strive\\lib\\site-packages (from Sphinx>=1.3; extra == \"all\"->ipython[all]) (20.8)\n",
      "Requirement already satisfied: snowballstemmer>=1.1 in c:\\users\\amash\\anaconda3\\envs\\strive\\lib\\site-packages (from Sphinx>=1.3; extra == \"all\"->ipython[all]) (2.1.0)\n",
      "Requirement already satisfied: sphinxcontrib-jsmath in c:\\users\\amash\\anaconda3\\envs\\strive\\lib\\site-packages (from Sphinx>=1.3; extra == \"all\"->ipython[all]) (1.0.1)\n",
      "Requirement already satisfied: jupyterlab-widgets>=1.0.0; python_version >= \"3.6\" in c:\\users\\amash\\anaconda3\\envs\\strive\\lib\\site-packages (from ipywidgets; extra == \"all\"->ipython[all]) (1.0.0)\n",
      "Requirement already satisfied: widgetsnbextension~=3.5.0 in c:\\users\\amash\\anaconda3\\envs\\strive\\lib\\site-packages (from ipywidgets; extra == \"all\"->ipython[all]) (3.5.1)\n",
      "Requirement already satisfied: jsonschema!=2.5.0,>=2.4 in c:\\users\\amash\\anaconda3\\envs\\strive\\lib\\site-packages (from nbformat; extra == \"all\"->ipython[all]) (3.2.0)\n",
      "Requirement already satisfied: pandocfilters>=1.4.1 in c:\\users\\amash\\anaconda3\\envs\\strive\\lib\\site-packages (from nbconvert; extra == \"all\"->ipython[all]) (1.4.3)\n",
      "Requirement already satisfied: nbclient<0.6.0,>=0.5.0 in c:\\users\\amash\\anaconda3\\envs\\strive\\lib\\site-packages (from nbconvert; extra == \"all\"->ipython[all]) (0.5.1)\n",
      "Requirement already satisfied: bleach in c:\\users\\amash\\anaconda3\\envs\\strive\\lib\\site-packages (from nbconvert; extra == \"all\"->ipython[all]) (3.2.1)\n",
      "Requirement already satisfied: mistune<2,>=0.8.1 in c:\\users\\amash\\anaconda3\\envs\\strive\\lib\\site-packages (from nbconvert; extra == \"all\"->ipython[all]) (0.8.4)\n",
      "Requirement already satisfied: jupyterlab-pygments in c:\\users\\amash\\anaconda3\\envs\\strive\\lib\\site-packages (from nbconvert; extra == \"all\"->ipython[all]) (0.1.2)\n",
      "Requirement already satisfied: entrypoints>=0.2.2 in c:\\users\\amash\\anaconda3\\envs\\strive\\lib\\site-packages (from nbconvert; extra == \"all\"->ipython[all]) (0.3)\n",
      "Requirement already satisfied: defusedxml in c:\\users\\amash\\anaconda3\\envs\\strive\\lib\\site-packages (from nbconvert; extra == \"all\"->ipython[all]) (0.6.0)\n",
      "Requirement already satisfied: six>=1.5 in c:\\users\\amash\\anaconda3\\envs\\strive\\lib\\site-packages (from python-dateutil>=2.1->ipyparallel; extra == \"all\"->ipython[all]) (1.15.0)\n",
      "Requirement already satisfied: pywinpty>=0.5; os_name == \"nt\" in c:\\users\\amash\\anaconda3\\envs\\strive\\lib\\site-packages (from terminado>=0.8.3->notebook; extra == \"all\"->ipython[all]) (0.5.7)\n",
      "Requirement already satisfied: pywin32>=1.0; sys_platform == \"win32\" in c:\\users\\amash\\anaconda3\\envs\\strive\\lib\\site-packages (from jupyter-core>=4.6.1->notebook; extra == \"all\"->ipython[all]) (300)\n",
      "Requirement already satisfied: MarkupSafe>=0.23 in c:\\users\\amash\\anaconda3\\envs\\strive\\lib\\site-packages (from jinja2->notebook; extra == \"all\"->ipython[all]) (1.1.1)\n",
      "Requirement already satisfied: cffi>=1.0.0 in c:\\users\\amash\\anaconda3\\envs\\strive\\lib\\site-packages (from argon2-cffi->notebook; extra == \"all\"->ipython[all]) (1.14.4)\n",
      "Requirement already satisfied: pytz>=2015.7 in c:\\users\\amash\\anaconda3\\envs\\strive\\lib\\site-packages (from babel>=1.3->Sphinx>=1.3; extra == \"all\"->ipython[all]) (2020.5)\n",
      "Requirement already satisfied: pyparsing>=2.0.2 in c:\\users\\amash\\anaconda3\\envs\\strive\\lib\\site-packages (from packaging->Sphinx>=1.3; extra == \"all\"->ipython[all]) (2.4.7)\n",
      "Requirement already satisfied: attrs>=17.4.0 in c:\\users\\amash\\anaconda3\\envs\\strive\\lib\\site-packages (from jsonschema!=2.5.0,>=2.4->nbformat; extra == \"all\"->ipython[all]) (20.3.0)\n",
      "Requirement already satisfied: pyrsistent>=0.14.0 in c:\\users\\amash\\anaconda3\\envs\\strive\\lib\\site-packages (from jsonschema!=2.5.0,>=2.4->nbformat; extra == \"all\"->ipython[all]) (0.17.3)\n",
      "Requirement already satisfied: nest-asyncio in c:\\users\\amash\\anaconda3\\envs\\strive\\lib\\site-packages (from nbclient<0.6.0,>=0.5.0->nbconvert; extra == \"all\"->ipython[all]) (1.4.3)\n",
      "Requirement already satisfied: async-generator in c:\\users\\amash\\anaconda3\\envs\\strive\\lib\\site-packages (from nbclient<0.6.0,>=0.5.0->nbconvert; extra == \"all\"->ipython[all]) (1.10)\n",
      "Requirement already satisfied: webencodings in c:\\users\\amash\\anaconda3\\envs\\strive\\lib\\site-packages (from bleach->nbconvert; extra == \"all\"->ipython[all]) (0.5.1)\n",
      "Requirement already satisfied: pycparser in c:\\users\\amash\\anaconda3\\envs\\strive\\lib\\site-packages (from cffi>=1.0.0->argon2-cffi->notebook; extra == \"all\"->ipython[all]) (2.20)\n"
     ]
    },
    {
     "name": "stderr",
     "output_type": "stream",
     "text": [
      "WARNING: Error parsing requirements for matplotlib: [Errno 2] No such file or directory: 'c:\\\\users\\\\amash\\\\anaconda3\\\\envs\\\\strive\\\\lib\\\\site-packages\\\\matplotlib-3.3.3.dist-info\\\\METADATA'\n"
     ]
    }
   ],
   "source": [
    "!pip install ipython[all]\n"
   ],
   "metadata": {
    "collapsed": false,
    "pycharm": {
     "name": "#%%\n"
    }
   }
  },
  {
   "cell_type": "code",
   "execution_count": null,
   "outputs": [],
   "source": [],
   "metadata": {
    "collapsed": false,
    "pycharm": {
     "name": "#%%\n"
    }
   }
  }
 ],
 "metadata": {
  "kernelspec": {
   "name": "python3",
   "language": "python",
   "display_name": "Python 3"
  },
  "language_info": {
   "codemirror_mode": {
    "name": "ipython",
    "version": 2
   },
   "file_extension": ".py",
   "mimetype": "text/x-python",
   "name": "python",
   "nbconvert_exporter": "python",
   "pygments_lexer": "ipython2",
   "version": "2.7.6"
  }
 },
 "nbformat": 4,
 "nbformat_minor": 0
}