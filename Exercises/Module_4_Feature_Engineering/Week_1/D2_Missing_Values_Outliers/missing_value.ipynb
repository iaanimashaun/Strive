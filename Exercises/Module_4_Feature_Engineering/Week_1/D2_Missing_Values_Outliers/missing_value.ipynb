{
 "metadata": {
  "language_info": {
   "codemirror_mode": {
    "name": "ipython",
    "version": 3
   },
   "file_extension": ".py",
   "mimetype": "text/x-python",
   "name": "python",
   "nbconvert_exporter": "python",
   "pygments_lexer": "ipython3",
   "version": "3.8.5-final"
  },
  "orig_nbformat": 2,
  "kernelspec": {
   "name": "pycharm-896277a2",
   "language": "python",
   "display_name": "PyCharm (Strive)"
  }
 },
 "nbformat": 4,
 "nbformat_minor": 2,
 "cells": [
  {
   "source": [
    "### ❓ Missing values\n",
    "\n",
    "1. What is the missing datatype used in pandas?\n",
    "2. How to replace all occurences of the value 9999 to missing in pandas?\n",
    "3. How to get the absolute number of missings for each variable in pandas?\n",
    "4. How to get the percentage of missings for each variable in pandas?\n",
    "5. How to drop rows with missing values?\n",
    "6. How to drop variables with missing values?\n",
    "7. What is the univariate imputation method in sklearn?\n",
    "8. What is the multivariate imputation method in sklearn?\n",
    "9. What is the best univariate imputation method to categorical variables? (Explain why)\n",
    "10. What is the best univariate imputation method to numerical variables? (Explain why)"
   ],
   "cell_type": "markdown",
   "metadata": {}
  },
  {
   "source": [
    "### Answers\n",
    "\n",
    "1. NaN\n",
    "2. use the function replace()\n",
    "3. use the function isna().sum()\n",
    "4. use the function (isna().sum() / len(df)) * 100\n",
    "5. use the function dropna(axis=0)\n",
    "6. use the function dropna(axis=1)\n",
    "7. SimpleImputer()\n",
    "8. IterativeImputer(), KNNImputer()\n",
    "9. most_frequent\n",
    "10. mean/median"
   ],
   "cell_type": "markdown",
   "metadata": {}
  },
  {
   "cell_type": "code",
   "execution_count": null,
   "metadata": {},
   "outputs": [],
   "source": []
  },
  {
   "source": [
    "### 🔎 Outliers\n",
    "\n",
    "1. What is an outlier?\n",
    "2. What is a simple method to detect and deal with outliers of a numerical variable?\n",
    "3. What is novelty detection?\n",
    "4. Name 4 advanced methods of outlier detection in sklearn.\n"
   ],
   "cell_type": "markdown",
   "metadata": {}
  },
  {
   "cell_type": "code",
   "execution_count": null,
   "metadata": {},
   "outputs": [],
   "source": []
  },
  {
   "source": [
    "### Answers\n",
    "\n",
    "1. An outlier is an observation that is far from the others. They are rare values\n",
    "2. Using a histogram, a boxplot to show the distribution\n",
    "3. Novelty detection is the identification of new or\n",
    "unknown data that a machine learning system is\n",
    "not aware of during training. It try\n",
    "to identify outliers that differ from the distribution of\n",
    "ordinary data.\n",
    "4. Robust covariance, One Class SVM, Isolation Forest, Local Outlier Factor\n"
   ],
   "cell_type": "markdown",
   "metadata": {}
  },
  {
   "cell_type": "code",
   "execution_count": null,
   "metadata": {},
   "outputs": [],
   "source": []
  },
  {
   "source": [
    "### 🖋 Typos\n",
    "\n",
    "1. What is a typo?\n",
    "2. What is a good method of automatically detect typos?"
   ],
   "cell_type": "markdown",
   "metadata": {}
  },
  {
   "source": [
    "### Answers\n",
    "1. Errors introduced during data entry\n",
    "2. Use fuzzywuzzy"
   ],
   "cell_type": "markdown",
   "metadata": {}
  },
  {
   "cell_type": "code",
   "execution_count": null,
   "metadata": {},
   "outputs": [],
   "source": []
  },
  {
   "source": [
    "## Practical Case"
   ],
   "cell_type": "markdown",
   "metadata": {}
  },
  {
   "cell_type": "code",
   "execution_count": 1,
   "metadata": {},
   "outputs": [],
   "source": [
    "import pandas as pd \n",
    "import numpy as np \n",
    "import matplotlib.pyplot as plt \n",
    "import seaborn as sns\n"
   ]
  },
  {
   "cell_type": "code",
   "execution_count": 2,
   "metadata": {},
   "outputs": [],
   "source": [
    "df = pd.read_csv('Building_Permits.csv')"
   ]
  },
  {
   "cell_type": "code",
   "execution_count": 3,
   "metadata": {},
   "outputs": [
    {
     "output_type": "execute_result",
     "data": {
      "text/plain": [
       "  Permit Number  Permit Type            Permit Type Definition  \\\n",
       "0  201505065519            4                      sign - erect   \n",
       "1  201604195146            4                      sign - erect   \n",
       "2  201605278609            3  additions alterations or repairs   \n",
       "3  201611072166            8            otc alterations permit   \n",
       "4  201611283529            6                       demolitions   \n",
       "\n",
       "  Permit Creation Date Block  Lot  Street Number Street Number Suffix  \\\n",
       "0           05/06/2015  0326  023            140                  NaN   \n",
       "1           04/19/2016  0306  007            440                  NaN   \n",
       "2           05/27/2016  0595  203           1647                  NaN   \n",
       "3           11/07/2016  0156  011           1230                  NaN   \n",
       "4           11/28/2016  0342  001            950                  NaN   \n",
       "\n",
       "  Street Name Street Suffix  ...  Existing Construction Type  \\\n",
       "0       Ellis            St  ...                         3.0   \n",
       "1       Geary            St  ...                         3.0   \n",
       "2     Pacific            Av  ...                         1.0   \n",
       "3     Pacific            Av  ...                         5.0   \n",
       "4      Market            St  ...                         3.0   \n",
       "\n",
       "  Existing Construction Type Description Proposed Construction Type  \\\n",
       "0                          constr type 3                        NaN   \n",
       "1                          constr type 3                        NaN   \n",
       "2                          constr type 1                        1.0   \n",
       "3                         wood frame (5)                        5.0   \n",
       "4                          constr type 3                        NaN   \n",
       "\n",
       "  Proposed Construction Type Description Site Permit Supervisor District  \\\n",
       "0                                    NaN         NaN                 3.0   \n",
       "1                                    NaN         NaN                 3.0   \n",
       "2                          constr type 1         NaN                 3.0   \n",
       "3                         wood frame (5)         NaN                 3.0   \n",
       "4                                    NaN         NaN                 6.0   \n",
       "\n",
       "  Neighborhoods - Analysis Boundaries  Zipcode  \\\n",
       "0                          Tenderloin  94102.0   \n",
       "1                          Tenderloin  94102.0   \n",
       "2                        Russian Hill  94109.0   \n",
       "3                            Nob Hill  94109.0   \n",
       "4                          Tenderloin  94102.0   \n",
       "\n",
       "                                    Location      Record ID  \n",
       "0  (37.785719256680785, -122.40852313194863)  1380611233945  \n",
       "1   (37.78733980600732, -122.41063199757738)  1420164406718  \n",
       "2    (37.7946573324287, -122.42232562979227)  1424856504716  \n",
       "3   (37.79595867909168, -122.41557405519474)  1443574295566  \n",
       "4   (37.78315261897309, -122.40950883997789)   144548169992  \n",
       "\n",
       "[5 rows x 43 columns]"
      ],
      "text/html": "<div>\n<style scoped>\n    .dataframe tbody tr th:only-of-type {\n        vertical-align: middle;\n    }\n\n    .dataframe tbody tr th {\n        vertical-align: top;\n    }\n\n    .dataframe thead th {\n        text-align: right;\n    }\n</style>\n<table border=\"1\" class=\"dataframe\">\n  <thead>\n    <tr style=\"text-align: right;\">\n      <th></th>\n      <th>Permit Number</th>\n      <th>Permit Type</th>\n      <th>Permit Type Definition</th>\n      <th>Permit Creation Date</th>\n      <th>Block</th>\n      <th>Lot</th>\n      <th>Street Number</th>\n      <th>Street Number Suffix</th>\n      <th>Street Name</th>\n      <th>Street Suffix</th>\n      <th>...</th>\n      <th>Existing Construction Type</th>\n      <th>Existing Construction Type Description</th>\n      <th>Proposed Construction Type</th>\n      <th>Proposed Construction Type Description</th>\n      <th>Site Permit</th>\n      <th>Supervisor District</th>\n      <th>Neighborhoods - Analysis Boundaries</th>\n      <th>Zipcode</th>\n      <th>Location</th>\n      <th>Record ID</th>\n    </tr>\n  </thead>\n  <tbody>\n    <tr>\n      <th>0</th>\n      <td>201505065519</td>\n      <td>4</td>\n      <td>sign - erect</td>\n      <td>05/06/2015</td>\n      <td>0326</td>\n      <td>023</td>\n      <td>140</td>\n      <td>NaN</td>\n      <td>Ellis</td>\n      <td>St</td>\n      <td>...</td>\n      <td>3.0</td>\n      <td>constr type 3</td>\n      <td>NaN</td>\n      <td>NaN</td>\n      <td>NaN</td>\n      <td>3.0</td>\n      <td>Tenderloin</td>\n      <td>94102.0</td>\n      <td>(37.785719256680785, -122.40852313194863)</td>\n      <td>1380611233945</td>\n    </tr>\n    <tr>\n      <th>1</th>\n      <td>201604195146</td>\n      <td>4</td>\n      <td>sign - erect</td>\n      <td>04/19/2016</td>\n      <td>0306</td>\n      <td>007</td>\n      <td>440</td>\n      <td>NaN</td>\n      <td>Geary</td>\n      <td>St</td>\n      <td>...</td>\n      <td>3.0</td>\n      <td>constr type 3</td>\n      <td>NaN</td>\n      <td>NaN</td>\n      <td>NaN</td>\n      <td>3.0</td>\n      <td>Tenderloin</td>\n      <td>94102.0</td>\n      <td>(37.78733980600732, -122.41063199757738)</td>\n      <td>1420164406718</td>\n    </tr>\n    <tr>\n      <th>2</th>\n      <td>201605278609</td>\n      <td>3</td>\n      <td>additions alterations or repairs</td>\n      <td>05/27/2016</td>\n      <td>0595</td>\n      <td>203</td>\n      <td>1647</td>\n      <td>NaN</td>\n      <td>Pacific</td>\n      <td>Av</td>\n      <td>...</td>\n      <td>1.0</td>\n      <td>constr type 1</td>\n      <td>1.0</td>\n      <td>constr type 1</td>\n      <td>NaN</td>\n      <td>3.0</td>\n      <td>Russian Hill</td>\n      <td>94109.0</td>\n      <td>(37.7946573324287, -122.42232562979227)</td>\n      <td>1424856504716</td>\n    </tr>\n    <tr>\n      <th>3</th>\n      <td>201611072166</td>\n      <td>8</td>\n      <td>otc alterations permit</td>\n      <td>11/07/2016</td>\n      <td>0156</td>\n      <td>011</td>\n      <td>1230</td>\n      <td>NaN</td>\n      <td>Pacific</td>\n      <td>Av</td>\n      <td>...</td>\n      <td>5.0</td>\n      <td>wood frame (5)</td>\n      <td>5.0</td>\n      <td>wood frame (5)</td>\n      <td>NaN</td>\n      <td>3.0</td>\n      <td>Nob Hill</td>\n      <td>94109.0</td>\n      <td>(37.79595867909168, -122.41557405519474)</td>\n      <td>1443574295566</td>\n    </tr>\n    <tr>\n      <th>4</th>\n      <td>201611283529</td>\n      <td>6</td>\n      <td>demolitions</td>\n      <td>11/28/2016</td>\n      <td>0342</td>\n      <td>001</td>\n      <td>950</td>\n      <td>NaN</td>\n      <td>Market</td>\n      <td>St</td>\n      <td>...</td>\n      <td>3.0</td>\n      <td>constr type 3</td>\n      <td>NaN</td>\n      <td>NaN</td>\n      <td>NaN</td>\n      <td>6.0</td>\n      <td>Tenderloin</td>\n      <td>94102.0</td>\n      <td>(37.78315261897309, -122.40950883997789)</td>\n      <td>144548169992</td>\n    </tr>\n  </tbody>\n</table>\n<p>5 rows × 43 columns</p>\n</div>"
     },
     "metadata": {},
     "execution_count": 3
    }
   ],
   "source": [
    "df.head()"
   ]
  },
  {
   "source": [
    "df.shape"
   ],
   "cell_type": "markdown",
   "metadata": {}
  },
  {
   "cell_type": "code",
   "execution_count": 22,
   "metadata": {},
   "outputs": [
    {
     "output_type": "execute_result",
     "data": {
      "text/plain": [
       "Permit Number                                  0\n",
       "Permit Type                                    0\n",
       "Permit Type Definition                         0\n",
       "Permit Creation Date                           0\n",
       "Block                                          0\n",
       "Lot                                            0\n",
       "Street Number                                  0\n",
       "Street Number Suffix                      196684\n",
       "Street Name                                    0\n",
       "Street Suffix                               2768\n",
       "Unit                                      169421\n",
       "Unit Suffix                               196939\n",
       "Description                                  290\n",
       "Current Status                                 0\n",
       "Current Status Date                            0\n",
       "Filed Date                                     0\n",
       "Issued Date                                14940\n",
       "Completed Date                            101709\n",
       "First Construction Document Date           14946\n",
       "Structural Notification                   191978\n",
       "Number of Existing Stories                 42784\n",
       "Number of Proposed Stories                 42868\n",
       "Voluntary Soft-Story Retrofit             198865\n",
       "Fire Only Permit                          180073\n",
       "Permit Expiration Date                     51880\n",
       "Estimated Cost                             38066\n",
       "Revised Cost                                6066\n",
       "Existing Use                               41114\n",
       "Existing Units                             51538\n",
       "Proposed Use                               42439\n",
       "Proposed Units                             50911\n",
       "Plansets                                   37309\n",
       "TIDF Compliance                           198898\n",
       "Existing Construction Type                 43366\n",
       "Existing Construction Type Description     43366\n",
       "Proposed Construction Type                 43162\n",
       "Proposed Construction Type Description     43162\n",
       "Site Permit                               193541\n",
       "Supervisor District                         1717\n",
       "Neighborhoods - Analysis Boundaries         1725\n",
       "Zipcode                                     1716\n",
       "Location                                    1700\n",
       "Record ID                                      0\n",
       "dtype: int64"
      ]
     },
     "metadata": {},
     "execution_count": 22
    }
   ],
   "source": [
    "df.isna().sum()"
   ]
  },
  {
   "cell_type": "code",
   "execution_count": 10,
   "metadata": {},
   "outputs": [
    {
     "output_type": "execute_result",
     "data": {
      "text/plain": [
       "(198900, 43)"
      ]
     },
     "metadata": {},
     "execution_count": 10
    }
   ],
   "source": [
    "df.shape"
   ]
  },
  {
   "cell_type": "code",
   "execution_count": 9,
   "metadata": {},
   "outputs": [
    {
     "output_type": "execute_result",
     "data": {
      "text/plain": [
       "       Permit Number  Permit Type  Permit Type Definition  \\\n",
       "452          M866367            8  otc alterations permit   \n",
       "464          M845627            8  otc alterations permit   \n",
       "577          M364427            8  otc alterations permit   \n",
       "731     201301047237            8  otc alterations permit   \n",
       "864     201301077331            8  otc alterations permit   \n",
       "...              ...          ...                     ...   \n",
       "198895       M862628            8  otc alterations permit   \n",
       "198896  201712055595            8  otc alterations permit   \n",
       "198897       M863507            8  otc alterations permit   \n",
       "198898       M863747            8  otc alterations permit   \n",
       "198899       M864287            8  otc alterations permit   \n",
       "\n",
       "       Permit Creation Date  Block   Lot  Street Number Street Number Suffix  \\\n",
       "452              12/13/2017   0552   017           2550                  NaN   \n",
       "464              10/18/2017  5286A   021           2241                  NaN   \n",
       "577              01/02/2013   0779   028           1235                  NaN   \n",
       "731              01/04/2013   6515   017           1387                  NaN   \n",
       "864              01/07/2013   3706   095             55                  NaN   \n",
       "...                     ...    ...   ...            ...                  ...   \n",
       "198895           12/05/2017   0113  017A           1228                  NaN   \n",
       "198896           12/05/2017   0271   014            580                  NaN   \n",
       "198897           12/06/2017   4318   019           1568                  NaN   \n",
       "198898           12/06/2017   0298   029            795                  NaN   \n",
       "198899           12/07/2017   0160   006            838                  NaN   \n",
       "\n",
       "       Street Name Street Suffix  ...  Existing Construction Type  \\\n",
       "452          Gough            St  ...                         NaN   \n",
       "464        Jerrold            Av  ...                         NaN   \n",
       "577     Mcallister            St  ...                         NaN   \n",
       "731       Valencia            St  ...                         5.0   \n",
       "864           04th            St  ...                         1.0   \n",
       "...            ...           ...  ...                         ...   \n",
       "198895  Montgomery            St  ...                         NaN   \n",
       "198896        Bush            St  ...                         5.0   \n",
       "198897     Indiana            St  ...                         NaN   \n",
       "198898      Sutter            St  ...                         NaN   \n",
       "198899     Pacific            Av  ...                         NaN   \n",
       "\n",
       "       Existing Construction Type Description Proposed Construction Type  \\\n",
       "452                                       NaN                        NaN   \n",
       "464                                       NaN                        NaN   \n",
       "577                                       NaN                        NaN   \n",
       "731                            wood frame (5)                        5.0   \n",
       "864                             constr type 1                        1.0   \n",
       "...                                       ...                        ...   \n",
       "198895                                    NaN                        NaN   \n",
       "198896                         wood frame (5)                        5.0   \n",
       "198897                                    NaN                        NaN   \n",
       "198898                                    NaN                        NaN   \n",
       "198899                                    NaN                        NaN   \n",
       "\n",
       "       Proposed Construction Type Description Site Permit Supervisor District  \\\n",
       "452                                       NaN         NaN                 NaN   \n",
       "464                                       NaN         NaN                 NaN   \n",
       "577                                       NaN         NaN                 NaN   \n",
       "731                            wood frame (5)         NaN                 NaN   \n",
       "864                             constr type 1         NaN                 NaN   \n",
       "...                                       ...         ...                 ...   \n",
       "198895                                    NaN         NaN                 NaN   \n",
       "198896                         wood frame (5)         NaN                 NaN   \n",
       "198897                                    NaN         NaN                 NaN   \n",
       "198898                                    NaN         NaN                 NaN   \n",
       "198899                                    NaN         NaN                 NaN   \n",
       "\n",
       "       Neighborhoods - Analysis Boundaries Zipcode Location      Record ID  \n",
       "452                                    NaN     NaN      NaN  1490471235302  \n",
       "464                                    NaN     NaN      NaN  1490955510104  \n",
       "577                                    NaN     NaN      NaN   129220681682  \n",
       "731                                    NaN     NaN      NaN  1292365379064  \n",
       "864                                    NaN     NaN      NaN  1292500249105  \n",
       "...                                    ...     ...      ...            ...  \n",
       "198895                                 NaN     NaN      NaN  1489337276729  \n",
       "198896                                 NaN     NaN      NaN  1489462354993  \n",
       "198897                                 NaN     NaN      NaN  1489539379952  \n",
       "198898                                 NaN     NaN      NaN  1489608233656  \n",
       "198899                                 NaN     NaN      NaN  1489796283803  \n",
       "\n",
       "[1716 rows x 43 columns]"
      ],
      "text/html": "<div>\n<style scoped>\n    .dataframe tbody tr th:only-of-type {\n        vertical-align: middle;\n    }\n\n    .dataframe tbody tr th {\n        vertical-align: top;\n    }\n\n    .dataframe thead th {\n        text-align: right;\n    }\n</style>\n<table border=\"1\" class=\"dataframe\">\n  <thead>\n    <tr style=\"text-align: right;\">\n      <th></th>\n      <th>Permit Number</th>\n      <th>Permit Type</th>\n      <th>Permit Type Definition</th>\n      <th>Permit Creation Date</th>\n      <th>Block</th>\n      <th>Lot</th>\n      <th>Street Number</th>\n      <th>Street Number Suffix</th>\n      <th>Street Name</th>\n      <th>Street Suffix</th>\n      <th>...</th>\n      <th>Existing Construction Type</th>\n      <th>Existing Construction Type Description</th>\n      <th>Proposed Construction Type</th>\n      <th>Proposed Construction Type Description</th>\n      <th>Site Permit</th>\n      <th>Supervisor District</th>\n      <th>Neighborhoods - Analysis Boundaries</th>\n      <th>Zipcode</th>\n      <th>Location</th>\n      <th>Record ID</th>\n    </tr>\n  </thead>\n  <tbody>\n    <tr>\n      <th>452</th>\n      <td>M866367</td>\n      <td>8</td>\n      <td>otc alterations permit</td>\n      <td>12/13/2017</td>\n      <td>0552</td>\n      <td>017</td>\n      <td>2550</td>\n      <td>NaN</td>\n      <td>Gough</td>\n      <td>St</td>\n      <td>...</td>\n      <td>NaN</td>\n      <td>NaN</td>\n      <td>NaN</td>\n      <td>NaN</td>\n      <td>NaN</td>\n      <td>NaN</td>\n      <td>NaN</td>\n      <td>NaN</td>\n      <td>NaN</td>\n      <td>1490471235302</td>\n    </tr>\n    <tr>\n      <th>464</th>\n      <td>M845627</td>\n      <td>8</td>\n      <td>otc alterations permit</td>\n      <td>10/18/2017</td>\n      <td>5286A</td>\n      <td>021</td>\n      <td>2241</td>\n      <td>NaN</td>\n      <td>Jerrold</td>\n      <td>Av</td>\n      <td>...</td>\n      <td>NaN</td>\n      <td>NaN</td>\n      <td>NaN</td>\n      <td>NaN</td>\n      <td>NaN</td>\n      <td>NaN</td>\n      <td>NaN</td>\n      <td>NaN</td>\n      <td>NaN</td>\n      <td>1490955510104</td>\n    </tr>\n    <tr>\n      <th>577</th>\n      <td>M364427</td>\n      <td>8</td>\n      <td>otc alterations permit</td>\n      <td>01/02/2013</td>\n      <td>0779</td>\n      <td>028</td>\n      <td>1235</td>\n      <td>NaN</td>\n      <td>Mcallister</td>\n      <td>St</td>\n      <td>...</td>\n      <td>NaN</td>\n      <td>NaN</td>\n      <td>NaN</td>\n      <td>NaN</td>\n      <td>NaN</td>\n      <td>NaN</td>\n      <td>NaN</td>\n      <td>NaN</td>\n      <td>NaN</td>\n      <td>129220681682</td>\n    </tr>\n    <tr>\n      <th>731</th>\n      <td>201301047237</td>\n      <td>8</td>\n      <td>otc alterations permit</td>\n      <td>01/04/2013</td>\n      <td>6515</td>\n      <td>017</td>\n      <td>1387</td>\n      <td>NaN</td>\n      <td>Valencia</td>\n      <td>St</td>\n      <td>...</td>\n      <td>5.0</td>\n      <td>wood frame (5)</td>\n      <td>5.0</td>\n      <td>wood frame (5)</td>\n      <td>NaN</td>\n      <td>NaN</td>\n      <td>NaN</td>\n      <td>NaN</td>\n      <td>NaN</td>\n      <td>1292365379064</td>\n    </tr>\n    <tr>\n      <th>864</th>\n      <td>201301077331</td>\n      <td>8</td>\n      <td>otc alterations permit</td>\n      <td>01/07/2013</td>\n      <td>3706</td>\n      <td>095</td>\n      <td>55</td>\n      <td>NaN</td>\n      <td>04th</td>\n      <td>St</td>\n      <td>...</td>\n      <td>1.0</td>\n      <td>constr type 1</td>\n      <td>1.0</td>\n      <td>constr type 1</td>\n      <td>NaN</td>\n      <td>NaN</td>\n      <td>NaN</td>\n      <td>NaN</td>\n      <td>NaN</td>\n      <td>1292500249105</td>\n    </tr>\n    <tr>\n      <th>...</th>\n      <td>...</td>\n      <td>...</td>\n      <td>...</td>\n      <td>...</td>\n      <td>...</td>\n      <td>...</td>\n      <td>...</td>\n      <td>...</td>\n      <td>...</td>\n      <td>...</td>\n      <td>...</td>\n      <td>...</td>\n      <td>...</td>\n      <td>...</td>\n      <td>...</td>\n      <td>...</td>\n      <td>...</td>\n      <td>...</td>\n      <td>...</td>\n      <td>...</td>\n      <td>...</td>\n    </tr>\n    <tr>\n      <th>198895</th>\n      <td>M862628</td>\n      <td>8</td>\n      <td>otc alterations permit</td>\n      <td>12/05/2017</td>\n      <td>0113</td>\n      <td>017A</td>\n      <td>1228</td>\n      <td>NaN</td>\n      <td>Montgomery</td>\n      <td>St</td>\n      <td>...</td>\n      <td>NaN</td>\n      <td>NaN</td>\n      <td>NaN</td>\n      <td>NaN</td>\n      <td>NaN</td>\n      <td>NaN</td>\n      <td>NaN</td>\n      <td>NaN</td>\n      <td>NaN</td>\n      <td>1489337276729</td>\n    </tr>\n    <tr>\n      <th>198896</th>\n      <td>201712055595</td>\n      <td>8</td>\n      <td>otc alterations permit</td>\n      <td>12/05/2017</td>\n      <td>0271</td>\n      <td>014</td>\n      <td>580</td>\n      <td>NaN</td>\n      <td>Bush</td>\n      <td>St</td>\n      <td>...</td>\n      <td>5.0</td>\n      <td>wood frame (5)</td>\n      <td>5.0</td>\n      <td>wood frame (5)</td>\n      <td>NaN</td>\n      <td>NaN</td>\n      <td>NaN</td>\n      <td>NaN</td>\n      <td>NaN</td>\n      <td>1489462354993</td>\n    </tr>\n    <tr>\n      <th>198897</th>\n      <td>M863507</td>\n      <td>8</td>\n      <td>otc alterations permit</td>\n      <td>12/06/2017</td>\n      <td>4318</td>\n      <td>019</td>\n      <td>1568</td>\n      <td>NaN</td>\n      <td>Indiana</td>\n      <td>St</td>\n      <td>...</td>\n      <td>NaN</td>\n      <td>NaN</td>\n      <td>NaN</td>\n      <td>NaN</td>\n      <td>NaN</td>\n      <td>NaN</td>\n      <td>NaN</td>\n      <td>NaN</td>\n      <td>NaN</td>\n      <td>1489539379952</td>\n    </tr>\n    <tr>\n      <th>198898</th>\n      <td>M863747</td>\n      <td>8</td>\n      <td>otc alterations permit</td>\n      <td>12/06/2017</td>\n      <td>0298</td>\n      <td>029</td>\n      <td>795</td>\n      <td>NaN</td>\n      <td>Sutter</td>\n      <td>St</td>\n      <td>...</td>\n      <td>NaN</td>\n      <td>NaN</td>\n      <td>NaN</td>\n      <td>NaN</td>\n      <td>NaN</td>\n      <td>NaN</td>\n      <td>NaN</td>\n      <td>NaN</td>\n      <td>NaN</td>\n      <td>1489608233656</td>\n    </tr>\n    <tr>\n      <th>198899</th>\n      <td>M864287</td>\n      <td>8</td>\n      <td>otc alterations permit</td>\n      <td>12/07/2017</td>\n      <td>0160</td>\n      <td>006</td>\n      <td>838</td>\n      <td>NaN</td>\n      <td>Pacific</td>\n      <td>Av</td>\n      <td>...</td>\n      <td>NaN</td>\n      <td>NaN</td>\n      <td>NaN</td>\n      <td>NaN</td>\n      <td>NaN</td>\n      <td>NaN</td>\n      <td>NaN</td>\n      <td>NaN</td>\n      <td>NaN</td>\n      <td>1489796283803</td>\n    </tr>\n  </tbody>\n</table>\n<p>1716 rows × 43 columns</p>\n</div>"
     },
     "metadata": {},
     "execution_count": 9
    }
   ],
   "source": [
    "df[df['Zipcode'].isna()]"
   ]
  },
  {
   "cell_type": "code",
   "execution_count": 17,
   "metadata": {},
   "outputs": [
    {
     "output_type": "execute_result",
     "data": {
      "text/plain": [
       "  Street Number Suffix Block  Lot  Street Number Street Name Street Suffix  \\\n",
       "0                  NaN  0326  023            140       Ellis            St   \n",
       "1                  NaN  0306  007            440       Geary            St   \n",
       "2                  NaN  0595  203           1647     Pacific            Av   \n",
       "3                  NaN  0156  011           1230     Pacific            Av   \n",
       "4                  NaN  0342  001            950      Market            St   \n",
       "\n",
       "   Zipcode  \n",
       "0  94102.0  \n",
       "1  94102.0  \n",
       "2  94109.0  \n",
       "3  94109.0  \n",
       "4  94102.0  "
      ],
      "text/html": "<div>\n<style scoped>\n    .dataframe tbody tr th:only-of-type {\n        vertical-align: middle;\n    }\n\n    .dataframe tbody tr th {\n        vertical-align: top;\n    }\n\n    .dataframe thead th {\n        text-align: right;\n    }\n</style>\n<table border=\"1\" class=\"dataframe\">\n  <thead>\n    <tr style=\"text-align: right;\">\n      <th></th>\n      <th>Street Number Suffix</th>\n      <th>Block</th>\n      <th>Lot</th>\n      <th>Street Number</th>\n      <th>Street Name</th>\n      <th>Street Suffix</th>\n      <th>Zipcode</th>\n    </tr>\n  </thead>\n  <tbody>\n    <tr>\n      <th>0</th>\n      <td>NaN</td>\n      <td>0326</td>\n      <td>023</td>\n      <td>140</td>\n      <td>Ellis</td>\n      <td>St</td>\n      <td>94102.0</td>\n    </tr>\n    <tr>\n      <th>1</th>\n      <td>NaN</td>\n      <td>0306</td>\n      <td>007</td>\n      <td>440</td>\n      <td>Geary</td>\n      <td>St</td>\n      <td>94102.0</td>\n    </tr>\n    <tr>\n      <th>2</th>\n      <td>NaN</td>\n      <td>0595</td>\n      <td>203</td>\n      <td>1647</td>\n      <td>Pacific</td>\n      <td>Av</td>\n      <td>94109.0</td>\n    </tr>\n    <tr>\n      <th>3</th>\n      <td>NaN</td>\n      <td>0156</td>\n      <td>011</td>\n      <td>1230</td>\n      <td>Pacific</td>\n      <td>Av</td>\n      <td>94109.0</td>\n    </tr>\n    <tr>\n      <th>4</th>\n      <td>NaN</td>\n      <td>0342</td>\n      <td>001</td>\n      <td>950</td>\n      <td>Market</td>\n      <td>St</td>\n      <td>94102.0</td>\n    </tr>\n  </tbody>\n</table>\n</div>"
     },
     "metadata": {},
     "execution_count": 17
    }
   ],
   "source": [
    "df[df['Street Number Suffix'].isna()][['Street Number Suffix', 'Block', 'Lot', 'Street Number', 'Street Name', 'Street Suffix', 'Zipcode']][:5]"
   ]
  },
  {
   "cell_type": "code",
   "execution_count": 18,
   "metadata": {},
   "outputs": [
    {
     "output_type": "execute_result",
     "data": {
      "text/plain": [
       "    Street Number Suffix  Block  Lot  Street Number Street Name Street Suffix  \\\n",
       "452                  NaN   0552  017           2550       Gough            St   \n",
       "464                  NaN  5286A  021           2241     Jerrold            Av   \n",
       "577                  NaN   0779  028           1235  Mcallister            St   \n",
       "731                  NaN   6515  017           1387    Valencia            St   \n",
       "864                  NaN   3706  095             55        04th            St   \n",
       "\n",
       "     Zipcode  \n",
       "452      NaN  \n",
       "464      NaN  \n",
       "577      NaN  \n",
       "731      NaN  \n",
       "864      NaN  "
      ],
      "text/html": "<div>\n<style scoped>\n    .dataframe tbody tr th:only-of-type {\n        vertical-align: middle;\n    }\n\n    .dataframe tbody tr th {\n        vertical-align: top;\n    }\n\n    .dataframe thead th {\n        text-align: right;\n    }\n</style>\n<table border=\"1\" class=\"dataframe\">\n  <thead>\n    <tr style=\"text-align: right;\">\n      <th></th>\n      <th>Street Number Suffix</th>\n      <th>Block</th>\n      <th>Lot</th>\n      <th>Street Number</th>\n      <th>Street Name</th>\n      <th>Street Suffix</th>\n      <th>Zipcode</th>\n    </tr>\n  </thead>\n  <tbody>\n    <tr>\n      <th>452</th>\n      <td>NaN</td>\n      <td>0552</td>\n      <td>017</td>\n      <td>2550</td>\n      <td>Gough</td>\n      <td>St</td>\n      <td>NaN</td>\n    </tr>\n    <tr>\n      <th>464</th>\n      <td>NaN</td>\n      <td>5286A</td>\n      <td>021</td>\n      <td>2241</td>\n      <td>Jerrold</td>\n      <td>Av</td>\n      <td>NaN</td>\n    </tr>\n    <tr>\n      <th>577</th>\n      <td>NaN</td>\n      <td>0779</td>\n      <td>028</td>\n      <td>1235</td>\n      <td>Mcallister</td>\n      <td>St</td>\n      <td>NaN</td>\n    </tr>\n    <tr>\n      <th>731</th>\n      <td>NaN</td>\n      <td>6515</td>\n      <td>017</td>\n      <td>1387</td>\n      <td>Valencia</td>\n      <td>St</td>\n      <td>NaN</td>\n    </tr>\n    <tr>\n      <th>864</th>\n      <td>NaN</td>\n      <td>3706</td>\n      <td>095</td>\n      <td>55</td>\n      <td>04th</td>\n      <td>St</td>\n      <td>NaN</td>\n    </tr>\n  </tbody>\n</table>\n</div>"
     },
     "metadata": {},
     "execution_count": 18
    }
   ],
   "source": [
    "df[df['Zipcode'].isna()][['Street Number Suffix', 'Block', 'Lot', 'Street Number', 'Street Name', 'Street Suffix', 'Zipcode']][:5]"
   ]
  },
  {
   "cell_type": "code",
   "execution_count": 12,
   "metadata": {},
   "outputs": [
    {
     "output_type": "execute_result",
     "data": {
      "text/plain": [
       "Index(['Permit Number', 'Permit Type', 'Permit Type Definition',\n",
       "       'Permit Creation Date', 'Block', 'Lot', 'Street Number',\n",
       "       'Street Number Suffix', 'Street Name', 'Street Suffix', 'Unit',\n",
       "       'Unit Suffix', 'Description', 'Current Status', 'Current Status Date',\n",
       "       'Filed Date', 'Issued Date', 'Completed Date',\n",
       "       'First Construction Document Date', 'Structural Notification',\n",
       "       'Number of Existing Stories', 'Number of Proposed Stories',\n",
       "       'Voluntary Soft-Story Retrofit', 'Fire Only Permit',\n",
       "       'Permit Expiration Date', 'Estimated Cost', 'Revised Cost',\n",
       "       'Existing Use', 'Existing Units', 'Proposed Use', 'Proposed Units',\n",
       "       'Plansets', 'TIDF Compliance', 'Existing Construction Type',\n",
       "       'Existing Construction Type Description', 'Proposed Construction Type',\n",
       "       'Proposed Construction Type Description', 'Site Permit',\n",
       "       'Supervisor District', 'Neighborhoods - Analysis Boundaries', 'Zipcode',\n",
       "       'Location', 'Record ID'],\n",
       "      dtype='object')"
      ]
     },
     "metadata": {},
     "execution_count": 12
    }
   ],
   "source": [
    "df.columns"
   ]
  },
  {
   "source": [
    "## Zipcode missing values because they were not recorded\n",
    "\n",
    "## Street number suffix missing values because they don't exist"
   ],
   "cell_type": "markdown",
   "metadata": {}
  },
  {
   "cell_type": "code",
   "execution_count": null,
   "metadata": {},
   "outputs": [],
   "source": []
  }
 ]
}