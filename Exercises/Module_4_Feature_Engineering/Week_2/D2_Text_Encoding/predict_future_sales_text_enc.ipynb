{
 "metadata": {
  "language_info": {
   "codemirror_mode": {
    "name": "ipython",
    "version": 3
   },
   "file_extension": ".py",
   "mimetype": "text/x-python",
   "name": "python",
   "nbconvert_exporter": "python",
   "pygments_lexer": "ipython3",
   "version": "3.8.5-final"
  },
  "orig_nbformat": 2,
  "kernelspec": {
   "name": "python3",
   "display_name": "Python 3"
  }
 },
 "nbformat": 4,
 "nbformat_minor": 2,
 "cells": [
  {
   "cell_type": "code",
   "execution_count": 8,
   "metadata": {},
   "outputs": [],
   "source": [
    "import pandas as pd \n",
    "import numpy as np \n",
    "import matplotlib.pyplot as plt \n",
    "import seaborn as sns                                                                                                                                                                            \n",
    "from sklearn.feature_extraction.text import CountVectorizer\n",
    "from sklearn.feature_extraction.text import TfidfVectorizer\n",
    "from glob import glob\n"
   ]
  },
  {
   "cell_type": "code",
   "execution_count": 84,
   "metadata": {},
   "outputs": [],
   "source": [
    "import re"
   ]
  },
  {
   "cell_type": "code",
   "execution_count": 143,
   "metadata": {},
   "outputs": [],
   "source": [
    "def create_bow_df(series, vectorizer):\n",
    "    matrix = vectorizer.fit_transform(series)\n",
    "    return pd.DataFrame(matrix.toarray(), columns=vectorizer.get_feature_names())"
   ]
  },
  {
   "cell_type": "code",
   "execution_count": 10,
   "metadata": {},
   "outputs": [],
   "source": [
    "path = r'C:\\Users\\Amash\\Projects\\Strive\\Exercises\\Module_4_Feature_Engineering\\Week_2\\D1_06. Geoposition_Enc\\data'"
   ]
  },
  {
   "cell_type": "code",
   "execution_count": 11,
   "metadata": {},
   "outputs": [],
   "source": [
    "files = glob(path + '\\*.csv')"
   ]
  },
  {
   "cell_type": "code",
   "execution_count": 12,
   "metadata": {},
   "outputs": [],
   "source": [
    "dfs = []\n",
    "for file in files:\n",
    "    df_name = file[105:-4]\n",
    "    dfs.append(df_name)\n",
    "    vars()[file[105:-4]] = pd.read_csv(file)"
   ]
  },
  {
   "cell_type": "code",
   "execution_count": 14,
   "metadata": {},
   "outputs": [
    {
     "output_type": "execute_result",
     "data": {
      "text/plain": [
       "   item_id                               item_name_translated\n",
       "0        0             !! IN THE POWER OF HAPPINESS (PLAST) D\n",
       "1        1  ! ABBYY FineReader 12 Professional Edition Ful...\n",
       "2        2              *** IN THE GLORY OF THE GLORY (UNV) D\n",
       "3        3                             *** BLUE WAVE (Univ) D\n",
       "4        4                                  *** BOX (GLASS) D"
      ],
      "text/html": "<div>\n<style scoped>\n    .dataframe tbody tr th:only-of-type {\n        vertical-align: middle;\n    }\n\n    .dataframe tbody tr th {\n        vertical-align: top;\n    }\n\n    .dataframe thead th {\n        text-align: right;\n    }\n</style>\n<table border=\"1\" class=\"dataframe\">\n  <thead>\n    <tr style=\"text-align: right;\">\n      <th></th>\n      <th>item_id</th>\n      <th>item_name_translated</th>\n    </tr>\n  </thead>\n  <tbody>\n    <tr>\n      <th>0</th>\n      <td>0</td>\n      <td>!! IN THE POWER OF HAPPINESS (PLAST) D</td>\n    </tr>\n    <tr>\n      <th>1</th>\n      <td>1</td>\n      <td>! ABBYY FineReader 12 Professional Edition Ful...</td>\n    </tr>\n    <tr>\n      <th>2</th>\n      <td>2</td>\n      <td>*** IN THE GLORY OF THE GLORY (UNV) D</td>\n    </tr>\n    <tr>\n      <th>3</th>\n      <td>3</td>\n      <td>*** BLUE WAVE (Univ) D</td>\n    </tr>\n    <tr>\n      <th>4</th>\n      <td>4</td>\n      <td>*** BOX (GLASS) D</td>\n    </tr>\n  </tbody>\n</table>\n</div>"
     },
     "metadata": {},
     "execution_count": 14
    }
   ],
   "source": [
    "items_translated.head()"
   ]
  },
  {
   "cell_type": "code",
   "execution_count": null,
   "metadata": {},
   "outputs": [],
   "source": []
  },
  {
   "cell_type": "code",
   "execution_count": 152,
   "metadata": {},
   "outputs": [
    {
     "output_type": "execute_result",
     "data": {
      "text/plain": [
       "   item_category_id item_category_name_translated\n",
       "0                 0    PC - Headsets / Headphones\n",
       "1                 1             Accessories - PS2\n",
       "2                 2             Accessories - PS3\n",
       "3                 3             Accessories - PS4\n",
       "4                 4             Accessories - PSP"
      ],
      "text/html": "<div>\n<style scoped>\n    .dataframe tbody tr th:only-of-type {\n        vertical-align: middle;\n    }\n\n    .dataframe tbody tr th {\n        vertical-align: top;\n    }\n\n    .dataframe thead th {\n        text-align: right;\n    }\n</style>\n<table border=\"1\" class=\"dataframe\">\n  <thead>\n    <tr style=\"text-align: right;\">\n      <th></th>\n      <th>item_category_id</th>\n      <th>item_category_name_translated</th>\n    </tr>\n  </thead>\n  <tbody>\n    <tr>\n      <th>0</th>\n      <td>0</td>\n      <td>PC - Headsets / Headphones</td>\n    </tr>\n    <tr>\n      <th>1</th>\n      <td>1</td>\n      <td>Accessories - PS2</td>\n    </tr>\n    <tr>\n      <th>2</th>\n      <td>2</td>\n      <td>Accessories - PS3</td>\n    </tr>\n    <tr>\n      <th>3</th>\n      <td>3</td>\n      <td>Accessories - PS4</td>\n    </tr>\n    <tr>\n      <th>4</th>\n      <td>4</td>\n      <td>Accessories - PSP</td>\n    </tr>\n  </tbody>\n</table>\n</div>"
     },
     "metadata": {},
     "execution_count": 152
    }
   ],
   "source": [
    "item_categories_translated.head()"
   ]
  },
  {
   "cell_type": "code",
   "execution_count": 83,
   "metadata": {},
   "outputs": [],
   "source": [
    "main_category = item_categories_translated['item_category_name_translated'].apply(lambda x: x.split('-')[0])"
   ]
  },
  {
   "cell_type": "code",
   "execution_count": 159,
   "metadata": {},
   "outputs": [
    {
     "output_type": "execute_result",
     "data": {
      "text/plain": [
       "{'Accessories ',\n",
       " 'Android games ',\n",
       " 'Books ',\n",
       " 'Cinema ',\n",
       " 'Clean carriers (spire)',\n",
       " 'Clean media (piece)',\n",
       " 'Delivery of goods',\n",
       " 'Elements of a food',\n",
       " 'Game Consoles ',\n",
       " 'Games ',\n",
       " 'Gifts ',\n",
       " 'MAC Games ',\n",
       " 'Music ',\n",
       " 'Office',\n",
       " 'Official ',\n",
       " 'PC ',\n",
       " 'PC Games ',\n",
       " 'Payment Cards ',\n",
       " 'Payment cards ',\n",
       " 'Payment cards (Movies, Music, Games)',\n",
       " 'Programs ',\n",
       " 'Tickets (figure)',\n",
       " 'Книги '}"
      ]
     },
     "metadata": {},
     "execution_count": 159
    }
   ],
   "source": [
    "set(main_category)"
   ]
  },
  {
   "cell_type": "code",
   "execution_count": 101,
   "metadata": {},
   "outputs": [],
   "source": [
    "sub_categories =  item_categories_translated['item_category_name_translated'].apply(lambda x: ((re.split('\\(|\\)|-', x)[1].strip())) if (len(re.split('\\(|\\)|-', x)) > 1) else None)"
   ]
  },
  {
   "cell_type": "code",
   "execution_count": 160,
   "metadata": {},
   "outputs": [
    {
     "output_type": "execute_result",
     "data": {
      "text/plain": [
       "{'1C: Enterprise 8',\n",
       " 'Accessories for games',\n",
       " 'Additional Edition',\n",
       " 'Artbook, encyclopedia',\n",
       " 'Attributes',\n",
       " 'Audiobooks',\n",
       " 'Audiobooks 1C',\n",
       " 'Bags, Albums, Mouse pads',\n",
       " 'Blu',\n",
       " 'Board Games',\n",
       " 'Board games',\n",
       " 'Business Literature',\n",
       " 'CD of branded production',\n",
       " 'CD of local production',\n",
       " 'Certificates, services',\n",
       " 'Cognitive Literature',\n",
       " \"Collector's\",\n",
       " \"Collector's Edition\",\n",
       " 'Comics, manga',\n",
       " 'Computer Literature',\n",
       " 'DVD',\n",
       " 'Development',\n",
       " 'Digit',\n",
       " 'Fiction',\n",
       " 'Figures',\n",
       " 'Gadgets, robots, sports',\n",
       " 'Gift edition',\n",
       " 'Headsets / Headphones',\n",
       " 'Home and Office',\n",
       " 'Live!',\n",
       " 'MAC',\n",
       " 'MP3',\n",
       " 'Methodical materials 1С',\n",
       " 'Movies, Music, Games',\n",
       " 'Musical video',\n",
       " None,\n",
       " 'Number',\n",
       " 'Other',\n",
       " 'PS2',\n",
       " 'PS3',\n",
       " 'PS4',\n",
       " 'PSN',\n",
       " 'PSP',\n",
       " 'PSVita',\n",
       " 'Postcards',\n",
       " 'Postcards, stickers',\n",
       " 'Soft toys',\n",
       " 'Souvenirs',\n",
       " 'Standard Edition',\n",
       " 'Teaching',\n",
       " 'Tickets',\n",
       " 'Vinyl',\n",
       " 'Windows',\n",
       " 'XBOX 360',\n",
       " 'XBOX ONE',\n",
       " 'figure',\n",
       " 'piece',\n",
       " 'spire',\n",
       " 'Путеводители'}"
      ]
     },
     "metadata": {},
     "execution_count": 160
    }
   ],
   "source": [
    "set(sub_categories)"
   ]
  },
  {
   "cell_type": "code",
   "execution_count": 146,
   "metadata": {},
   "outputs": [],
   "source": [
    "item_names = items_translated['item_name_translated']"
   ]
  },
  {
   "cell_type": "code",
   "execution_count": 147,
   "metadata": {},
   "outputs": [],
   "source": [
    "bow = CountVectorizer()\n",
    "bow1 = CountVectorizer(stop_words='english', min_df=0.01, max_df=0.5)\n"
   ]
  },
  {
   "cell_type": "code",
   "execution_count": 161,
   "metadata": {},
   "outputs": [
    {
     "output_type": "execute_result",
     "data": {
      "text/plain": [
       "       00  000  00002  00003  00005  00006  00007  00008  00009h  00010  ...  \\\n",
       "0       0    0      0      0      0      0      0      0       0      0  ...   \n",
       "1       0    0      0      0      0      0      0      0       0      0  ...   \n",
       "2       0    0      0      0      0      0      0      0       0      0  ...   \n",
       "3       0    0      0      0      0      0      0      0       0      0  ...   \n",
       "4       0    0      0      0      0      0      0      0       0      0  ...   \n",
       "...    ..  ...    ...    ...    ...    ...    ...    ...     ...    ...  ...   \n",
       "22165   0    0      0      0      0      0      0      0       0      0  ...   \n",
       "22166   0    0      0      0      0      0      0      0       0      0  ...   \n",
       "22167   0    0      0      0      0      0      0      0       0      0  ...   \n",
       "22168   0    0      0      0      0      0      0      0       0      0  ...   \n",
       "22169   0    0      0      0      0      0      0      0       0      0  ...   \n",
       "\n",
       "       энд  энигма  эпик  эргагон  эстрада  эсхато  яблоко  янка  ёлка  ёрш  \n",
       "0        0       0     0        0        0       0       0     0     0    0  \n",
       "1        0       0     0        0        0       0       0     0     0    0  \n",
       "2        0       0     0        0        0       0       0     0     0    0  \n",
       "3        0       0     0        0        0       0       0     0     0    0  \n",
       "4        0       0     0        0        0       0       0     0     0    0  \n",
       "...    ...     ...   ...      ...      ...     ...     ...   ...   ...  ...  \n",
       "22165    0       0     0        0        0       0       0     0     0    0  \n",
       "22166    0       0     0        0        0       0       0     0     0    0  \n",
       "22167    0       0     0        0        0       0       0     0     0    0  \n",
       "22168    0       0     0        0        0       0       0     0     0    0  \n",
       "22169    0       0     0        0        0       0       0     0     0    0  \n",
       "\n",
       "[22170 rows x 14505 columns]"
      ],
      "text/html": "<div>\n<style scoped>\n    .dataframe tbody tr th:only-of-type {\n        vertical-align: middle;\n    }\n\n    .dataframe tbody tr th {\n        vertical-align: top;\n    }\n\n    .dataframe thead th {\n        text-align: right;\n    }\n</style>\n<table border=\"1\" class=\"dataframe\">\n  <thead>\n    <tr style=\"text-align: right;\">\n      <th></th>\n      <th>00</th>\n      <th>000</th>\n      <th>00002</th>\n      <th>00003</th>\n      <th>00005</th>\n      <th>00006</th>\n      <th>00007</th>\n      <th>00008</th>\n      <th>00009h</th>\n      <th>00010</th>\n      <th>...</th>\n      <th>энд</th>\n      <th>энигма</th>\n      <th>эпик</th>\n      <th>эргагон</th>\n      <th>эстрада</th>\n      <th>эсхато</th>\n      <th>яблоко</th>\n      <th>янка</th>\n      <th>ёлка</th>\n      <th>ёрш</th>\n    </tr>\n  </thead>\n  <tbody>\n    <tr>\n      <th>0</th>\n      <td>0</td>\n      <td>0</td>\n      <td>0</td>\n      <td>0</td>\n      <td>0</td>\n      <td>0</td>\n      <td>0</td>\n      <td>0</td>\n      <td>0</td>\n      <td>0</td>\n      <td>...</td>\n      <td>0</td>\n      <td>0</td>\n      <td>0</td>\n      <td>0</td>\n      <td>0</td>\n      <td>0</td>\n      <td>0</td>\n      <td>0</td>\n      <td>0</td>\n      <td>0</td>\n    </tr>\n    <tr>\n      <th>1</th>\n      <td>0</td>\n      <td>0</td>\n      <td>0</td>\n      <td>0</td>\n      <td>0</td>\n      <td>0</td>\n      <td>0</td>\n      <td>0</td>\n      <td>0</td>\n      <td>0</td>\n      <td>...</td>\n      <td>0</td>\n      <td>0</td>\n      <td>0</td>\n      <td>0</td>\n      <td>0</td>\n      <td>0</td>\n      <td>0</td>\n      <td>0</td>\n      <td>0</td>\n      <td>0</td>\n    </tr>\n    <tr>\n      <th>2</th>\n      <td>0</td>\n      <td>0</td>\n      <td>0</td>\n      <td>0</td>\n      <td>0</td>\n      <td>0</td>\n      <td>0</td>\n      <td>0</td>\n      <td>0</td>\n      <td>0</td>\n      <td>...</td>\n      <td>0</td>\n      <td>0</td>\n      <td>0</td>\n      <td>0</td>\n      <td>0</td>\n      <td>0</td>\n      <td>0</td>\n      <td>0</td>\n      <td>0</td>\n      <td>0</td>\n    </tr>\n    <tr>\n      <th>3</th>\n      <td>0</td>\n      <td>0</td>\n      <td>0</td>\n      <td>0</td>\n      <td>0</td>\n      <td>0</td>\n      <td>0</td>\n      <td>0</td>\n      <td>0</td>\n      <td>0</td>\n      <td>...</td>\n      <td>0</td>\n      <td>0</td>\n      <td>0</td>\n      <td>0</td>\n      <td>0</td>\n      <td>0</td>\n      <td>0</td>\n      <td>0</td>\n      <td>0</td>\n      <td>0</td>\n    </tr>\n    <tr>\n      <th>4</th>\n      <td>0</td>\n      <td>0</td>\n      <td>0</td>\n      <td>0</td>\n      <td>0</td>\n      <td>0</td>\n      <td>0</td>\n      <td>0</td>\n      <td>0</td>\n      <td>0</td>\n      <td>...</td>\n      <td>0</td>\n      <td>0</td>\n      <td>0</td>\n      <td>0</td>\n      <td>0</td>\n      <td>0</td>\n      <td>0</td>\n      <td>0</td>\n      <td>0</td>\n      <td>0</td>\n    </tr>\n    <tr>\n      <th>...</th>\n      <td>...</td>\n      <td>...</td>\n      <td>...</td>\n      <td>...</td>\n      <td>...</td>\n      <td>...</td>\n      <td>...</td>\n      <td>...</td>\n      <td>...</td>\n      <td>...</td>\n      <td>...</td>\n      <td>...</td>\n      <td>...</td>\n      <td>...</td>\n      <td>...</td>\n      <td>...</td>\n      <td>...</td>\n      <td>...</td>\n      <td>...</td>\n      <td>...</td>\n      <td>...</td>\n    </tr>\n    <tr>\n      <th>22165</th>\n      <td>0</td>\n      <td>0</td>\n      <td>0</td>\n      <td>0</td>\n      <td>0</td>\n      <td>0</td>\n      <td>0</td>\n      <td>0</td>\n      <td>0</td>\n      <td>0</td>\n      <td>...</td>\n      <td>0</td>\n      <td>0</td>\n      <td>0</td>\n      <td>0</td>\n      <td>0</td>\n      <td>0</td>\n      <td>0</td>\n      <td>0</td>\n      <td>0</td>\n      <td>0</td>\n    </tr>\n    <tr>\n      <th>22166</th>\n      <td>0</td>\n      <td>0</td>\n      <td>0</td>\n      <td>0</td>\n      <td>0</td>\n      <td>0</td>\n      <td>0</td>\n      <td>0</td>\n      <td>0</td>\n      <td>0</td>\n      <td>...</td>\n      <td>0</td>\n      <td>0</td>\n      <td>0</td>\n      <td>0</td>\n      <td>0</td>\n      <td>0</td>\n      <td>0</td>\n      <td>0</td>\n      <td>0</td>\n      <td>0</td>\n    </tr>\n    <tr>\n      <th>22167</th>\n      <td>0</td>\n      <td>0</td>\n      <td>0</td>\n      <td>0</td>\n      <td>0</td>\n      <td>0</td>\n      <td>0</td>\n      <td>0</td>\n      <td>0</td>\n      <td>0</td>\n      <td>...</td>\n      <td>0</td>\n      <td>0</td>\n      <td>0</td>\n      <td>0</td>\n      <td>0</td>\n      <td>0</td>\n      <td>0</td>\n      <td>0</td>\n      <td>0</td>\n      <td>0</td>\n    </tr>\n    <tr>\n      <th>22168</th>\n      <td>0</td>\n      <td>0</td>\n      <td>0</td>\n      <td>0</td>\n      <td>0</td>\n      <td>0</td>\n      <td>0</td>\n      <td>0</td>\n      <td>0</td>\n      <td>0</td>\n      <td>...</td>\n      <td>0</td>\n      <td>0</td>\n      <td>0</td>\n      <td>0</td>\n      <td>0</td>\n      <td>0</td>\n      <td>0</td>\n      <td>0</td>\n      <td>0</td>\n      <td>0</td>\n    </tr>\n    <tr>\n      <th>22169</th>\n      <td>0</td>\n      <td>0</td>\n      <td>0</td>\n      <td>0</td>\n      <td>0</td>\n      <td>0</td>\n      <td>0</td>\n      <td>0</td>\n      <td>0</td>\n      <td>0</td>\n      <td>...</td>\n      <td>0</td>\n      <td>0</td>\n      <td>0</td>\n      <td>0</td>\n      <td>0</td>\n      <td>0</td>\n      <td>0</td>\n      <td>0</td>\n      <td>0</td>\n      <td>0</td>\n    </tr>\n  </tbody>\n</table>\n<p>22170 rows × 14505 columns</p>\n</div>"
     },
     "metadata": {},
     "execution_count": 161
    }
   ],
   "source": [
    "create_bow_df(item_names, bow)"
   ]
  },
  {
   "cell_type": "code",
   "execution_count": 138,
   "metadata": {},
   "outputs": [
    {
     "output_type": "execute_result",
     "data": {
      "text/plain": [
       "       1c  1c audiobooks  2cd  360  360 russian  3d  3d bd  and  art  \\\n",
       "0       0              0    0    0            0   0      0    0    0   \n",
       "1       0              0    0    0            0   0      0    0    0   \n",
       "2       0              0    0    0            0   0      0    0    0   \n",
       "3       0              0    0    0            0   0      0    0    0   \n",
       "4       0              0    0    0            0   0      0    0    0   \n",
       "...    ..            ...  ...  ...          ...  ..    ...  ...  ...   \n",
       "22165   0              0    0    0            0   0      0    0    0   \n",
       "22166   1              0    0    0            0   0      0    0    0   \n",
       "22167   1              0    0    0            0   0      0    0    0   \n",
       "22168   0              0    0    0            0   0      0    0    0   \n",
       "22169   0              0    0    0            0   0      0    0    0   \n",
       "\n",
       "       assassin  ...  toy  version  war  with  world  xbox  xbox 360  year  \\\n",
       "0             0  ...    0        0    0     0      0     0         0     0   \n",
       "1             0  ...    0        1    0     0      0     0         0     0   \n",
       "2             0  ...    0        0    0     0      0     0         0     0   \n",
       "3             0  ...    0        0    0     0      0     0         0     0   \n",
       "4             0  ...    0        0    0     0      0     0         0     0   \n",
       "...         ...  ...  ...      ...  ...   ...    ...   ...       ...   ...   \n",
       "22165         0  ...    0        1    0     0      0     0         0     0   \n",
       "22166         0  ...    0        1    0     0      0     0         0     0   \n",
       "22167         0  ...    0        0    0     0      0     0         0     0   \n",
       "22168         0  ...    0        0    0     0      0     0         0     0   \n",
       "22169         0  ...    0        0    0     0      0     0         0     0   \n",
       "\n",
       "       фигурка  фирм  \n",
       "0            0     0  \n",
       "1            0     0  \n",
       "2            0     0  \n",
       "3            0     0  \n",
       "4            0     0  \n",
       "...        ...   ...  \n",
       "22165        0     0  \n",
       "22166        0     0  \n",
       "22167        0     0  \n",
       "22168        0     0  \n",
       "22169        0     0  \n",
       "\n",
       "[22170 rows x 80 columns]"
      ],
      "text/html": "<div>\n<style scoped>\n    .dataframe tbody tr th:only-of-type {\n        vertical-align: middle;\n    }\n\n    .dataframe tbody tr th {\n        vertical-align: top;\n    }\n\n    .dataframe thead th {\n        text-align: right;\n    }\n</style>\n<table border=\"1\" class=\"dataframe\">\n  <thead>\n    <tr style=\"text-align: right;\">\n      <th></th>\n      <th>1c</th>\n      <th>1c audiobooks</th>\n      <th>2cd</th>\n      <th>360</th>\n      <th>360 russian</th>\n      <th>3d</th>\n      <th>3d bd</th>\n      <th>and</th>\n      <th>art</th>\n      <th>assassin</th>\n      <th>...</th>\n      <th>toy</th>\n      <th>version</th>\n      <th>war</th>\n      <th>with</th>\n      <th>world</th>\n      <th>xbox</th>\n      <th>xbox 360</th>\n      <th>year</th>\n      <th>фигурка</th>\n      <th>фирм</th>\n    </tr>\n  </thead>\n  <tbody>\n    <tr>\n      <th>0</th>\n      <td>0</td>\n      <td>0</td>\n      <td>0</td>\n      <td>0</td>\n      <td>0</td>\n      <td>0</td>\n      <td>0</td>\n      <td>0</td>\n      <td>0</td>\n      <td>0</td>\n      <td>...</td>\n      <td>0</td>\n      <td>0</td>\n      <td>0</td>\n      <td>0</td>\n      <td>0</td>\n      <td>0</td>\n      <td>0</td>\n      <td>0</td>\n      <td>0</td>\n      <td>0</td>\n    </tr>\n    <tr>\n      <th>1</th>\n      <td>0</td>\n      <td>0</td>\n      <td>0</td>\n      <td>0</td>\n      <td>0</td>\n      <td>0</td>\n      <td>0</td>\n      <td>0</td>\n      <td>0</td>\n      <td>0</td>\n      <td>...</td>\n      <td>0</td>\n      <td>1</td>\n      <td>0</td>\n      <td>0</td>\n      <td>0</td>\n      <td>0</td>\n      <td>0</td>\n      <td>0</td>\n      <td>0</td>\n      <td>0</td>\n    </tr>\n    <tr>\n      <th>2</th>\n      <td>0</td>\n      <td>0</td>\n      <td>0</td>\n      <td>0</td>\n      <td>0</td>\n      <td>0</td>\n      <td>0</td>\n      <td>0</td>\n      <td>0</td>\n      <td>0</td>\n      <td>...</td>\n      <td>0</td>\n      <td>0</td>\n      <td>0</td>\n      <td>0</td>\n      <td>0</td>\n      <td>0</td>\n      <td>0</td>\n      <td>0</td>\n      <td>0</td>\n      <td>0</td>\n    </tr>\n    <tr>\n      <th>3</th>\n      <td>0</td>\n      <td>0</td>\n      <td>0</td>\n      <td>0</td>\n      <td>0</td>\n      <td>0</td>\n      <td>0</td>\n      <td>0</td>\n      <td>0</td>\n      <td>0</td>\n      <td>...</td>\n      <td>0</td>\n      <td>0</td>\n      <td>0</td>\n      <td>0</td>\n      <td>0</td>\n      <td>0</td>\n      <td>0</td>\n      <td>0</td>\n      <td>0</td>\n      <td>0</td>\n    </tr>\n    <tr>\n      <th>4</th>\n      <td>0</td>\n      <td>0</td>\n      <td>0</td>\n      <td>0</td>\n      <td>0</td>\n      <td>0</td>\n      <td>0</td>\n      <td>0</td>\n      <td>0</td>\n      <td>0</td>\n      <td>...</td>\n      <td>0</td>\n      <td>0</td>\n      <td>0</td>\n      <td>0</td>\n      <td>0</td>\n      <td>0</td>\n      <td>0</td>\n      <td>0</td>\n      <td>0</td>\n      <td>0</td>\n    </tr>\n    <tr>\n      <th>...</th>\n      <td>...</td>\n      <td>...</td>\n      <td>...</td>\n      <td>...</td>\n      <td>...</td>\n      <td>...</td>\n      <td>...</td>\n      <td>...</td>\n      <td>...</td>\n      <td>...</td>\n      <td>...</td>\n      <td>...</td>\n      <td>...</td>\n      <td>...</td>\n      <td>...</td>\n      <td>...</td>\n      <td>...</td>\n      <td>...</td>\n      <td>...</td>\n      <td>...</td>\n      <td>...</td>\n    </tr>\n    <tr>\n      <th>22165</th>\n      <td>0</td>\n      <td>0</td>\n      <td>0</td>\n      <td>0</td>\n      <td>0</td>\n      <td>0</td>\n      <td>0</td>\n      <td>0</td>\n      <td>0</td>\n      <td>0</td>\n      <td>...</td>\n      <td>0</td>\n      <td>1</td>\n      <td>0</td>\n      <td>0</td>\n      <td>0</td>\n      <td>0</td>\n      <td>0</td>\n      <td>0</td>\n      <td>0</td>\n      <td>0</td>\n    </tr>\n    <tr>\n      <th>22166</th>\n      <td>1</td>\n      <td>0</td>\n      <td>0</td>\n      <td>0</td>\n      <td>0</td>\n      <td>0</td>\n      <td>0</td>\n      <td>0</td>\n      <td>0</td>\n      <td>0</td>\n      <td>...</td>\n      <td>0</td>\n      <td>1</td>\n      <td>0</td>\n      <td>0</td>\n      <td>0</td>\n      <td>0</td>\n      <td>0</td>\n      <td>0</td>\n      <td>0</td>\n      <td>0</td>\n    </tr>\n    <tr>\n      <th>22167</th>\n      <td>1</td>\n      <td>0</td>\n      <td>0</td>\n      <td>0</td>\n      <td>0</td>\n      <td>0</td>\n      <td>0</td>\n      <td>0</td>\n      <td>0</td>\n      <td>0</td>\n      <td>...</td>\n      <td>0</td>\n      <td>0</td>\n      <td>0</td>\n      <td>0</td>\n      <td>0</td>\n      <td>0</td>\n      <td>0</td>\n      <td>0</td>\n      <td>0</td>\n      <td>0</td>\n    </tr>\n    <tr>\n      <th>22168</th>\n      <td>0</td>\n      <td>0</td>\n      <td>0</td>\n      <td>0</td>\n      <td>0</td>\n      <td>0</td>\n      <td>0</td>\n      <td>0</td>\n      <td>0</td>\n      <td>0</td>\n      <td>...</td>\n      <td>0</td>\n      <td>0</td>\n      <td>0</td>\n      <td>0</td>\n      <td>0</td>\n      <td>0</td>\n      <td>0</td>\n      <td>0</td>\n      <td>0</td>\n      <td>0</td>\n    </tr>\n    <tr>\n      <th>22169</th>\n      <td>0</td>\n      <td>0</td>\n      <td>0</td>\n      <td>0</td>\n      <td>0</td>\n      <td>0</td>\n      <td>0</td>\n      <td>0</td>\n      <td>0</td>\n      <td>0</td>\n      <td>...</td>\n      <td>0</td>\n      <td>0</td>\n      <td>0</td>\n      <td>0</td>\n      <td>0</td>\n      <td>0</td>\n      <td>0</td>\n      <td>0</td>\n      <td>0</td>\n      <td>0</td>\n    </tr>\n  </tbody>\n</table>\n<p>22170 rows × 80 columns</p>\n</div>"
     },
     "metadata": {},
     "execution_count": 138
    }
   ],
   "source": [
    "bow_ngram = CountVectorizer(ngram_range=(1, 2), min_df=0.01, max_df=0.5)\n",
    "create_bow_df(item_names, bow_ngram)"
   ]
  },
  {
   "cell_type": "code",
   "execution_count": 148,
   "metadata": {},
   "outputs": [],
   "source": [
    "tfidf = TfidfVectorizer()"
   ]
  },
  {
   "cell_type": "code",
   "execution_count": 149,
   "metadata": {},
   "outputs": [
    {
     "output_type": "execute_result",
     "data": {
      "text/plain": [
       "        00  000  00002  00003  00005  00006  00007  00008  00009h  00010  ...  \\\n",
       "0      0.0  0.0    0.0    0.0    0.0    0.0    0.0    0.0     0.0    0.0  ...   \n",
       "1      0.0  0.0    0.0    0.0    0.0    0.0    0.0    0.0     0.0    0.0  ...   \n",
       "2      0.0  0.0    0.0    0.0    0.0    0.0    0.0    0.0     0.0    0.0  ...   \n",
       "3      0.0  0.0    0.0    0.0    0.0    0.0    0.0    0.0     0.0    0.0  ...   \n",
       "4      0.0  0.0    0.0    0.0    0.0    0.0    0.0    0.0     0.0    0.0  ...   \n",
       "...    ...  ...    ...    ...    ...    ...    ...    ...     ...    ...  ...   \n",
       "22165  0.0  0.0    0.0    0.0    0.0    0.0    0.0    0.0     0.0    0.0  ...   \n",
       "22166  0.0  0.0    0.0    0.0    0.0    0.0    0.0    0.0     0.0    0.0  ...   \n",
       "22167  0.0  0.0    0.0    0.0    0.0    0.0    0.0    0.0     0.0    0.0  ...   \n",
       "22168  0.0  0.0    0.0    0.0    0.0    0.0    0.0    0.0     0.0    0.0  ...   \n",
       "22169  0.0  0.0    0.0    0.0    0.0    0.0    0.0    0.0     0.0    0.0  ...   \n",
       "\n",
       "       энд  энигма  эпик  эргагон  эстрада  эсхато  яблоко  янка  ёлка  ёрш  \n",
       "0      0.0     0.0   0.0      0.0      0.0     0.0     0.0   0.0   0.0  0.0  \n",
       "1      0.0     0.0   0.0      0.0      0.0     0.0     0.0   0.0   0.0  0.0  \n",
       "2      0.0     0.0   0.0      0.0      0.0     0.0     0.0   0.0   0.0  0.0  \n",
       "3      0.0     0.0   0.0      0.0      0.0     0.0     0.0   0.0   0.0  0.0  \n",
       "4      0.0     0.0   0.0      0.0      0.0     0.0     0.0   0.0   0.0  0.0  \n",
       "...    ...     ...   ...      ...      ...     ...     ...   ...   ...  ...  \n",
       "22165  0.0     0.0   0.0      0.0      0.0     0.0     0.0   0.0   0.0  0.0  \n",
       "22166  0.0     0.0   0.0      0.0      0.0     0.0     0.0   0.0   0.0  0.0  \n",
       "22167  0.0     0.0   0.0      0.0      0.0     0.0     0.0   0.0   0.0  0.0  \n",
       "22168  0.0     0.0   0.0      0.0      0.0     0.0     0.0   0.0   0.0  0.0  \n",
       "22169  0.0     0.0   0.0      0.0      0.0     0.0     0.0   0.0   0.0  0.0  \n",
       "\n",
       "[22170 rows x 14505 columns]"
      ],
      "text/html": "<div>\n<style scoped>\n    .dataframe tbody tr th:only-of-type {\n        vertical-align: middle;\n    }\n\n    .dataframe tbody tr th {\n        vertical-align: top;\n    }\n\n    .dataframe thead th {\n        text-align: right;\n    }\n</style>\n<table border=\"1\" class=\"dataframe\">\n  <thead>\n    <tr style=\"text-align: right;\">\n      <th></th>\n      <th>00</th>\n      <th>000</th>\n      <th>00002</th>\n      <th>00003</th>\n      <th>00005</th>\n      <th>00006</th>\n      <th>00007</th>\n      <th>00008</th>\n      <th>00009h</th>\n      <th>00010</th>\n      <th>...</th>\n      <th>энд</th>\n      <th>энигма</th>\n      <th>эпик</th>\n      <th>эргагон</th>\n      <th>эстрада</th>\n      <th>эсхато</th>\n      <th>яблоко</th>\n      <th>янка</th>\n      <th>ёлка</th>\n      <th>ёрш</th>\n    </tr>\n  </thead>\n  <tbody>\n    <tr>\n      <th>0</th>\n      <td>0.0</td>\n      <td>0.0</td>\n      <td>0.0</td>\n      <td>0.0</td>\n      <td>0.0</td>\n      <td>0.0</td>\n      <td>0.0</td>\n      <td>0.0</td>\n      <td>0.0</td>\n      <td>0.0</td>\n      <td>...</td>\n      <td>0.0</td>\n      <td>0.0</td>\n      <td>0.0</td>\n      <td>0.0</td>\n      <td>0.0</td>\n      <td>0.0</td>\n      <td>0.0</td>\n      <td>0.0</td>\n      <td>0.0</td>\n      <td>0.0</td>\n    </tr>\n    <tr>\n      <th>1</th>\n      <td>0.0</td>\n      <td>0.0</td>\n      <td>0.0</td>\n      <td>0.0</td>\n      <td>0.0</td>\n      <td>0.0</td>\n      <td>0.0</td>\n      <td>0.0</td>\n      <td>0.0</td>\n      <td>0.0</td>\n      <td>...</td>\n      <td>0.0</td>\n      <td>0.0</td>\n      <td>0.0</td>\n      <td>0.0</td>\n      <td>0.0</td>\n      <td>0.0</td>\n      <td>0.0</td>\n      <td>0.0</td>\n      <td>0.0</td>\n      <td>0.0</td>\n    </tr>\n    <tr>\n      <th>2</th>\n      <td>0.0</td>\n      <td>0.0</td>\n      <td>0.0</td>\n      <td>0.0</td>\n      <td>0.0</td>\n      <td>0.0</td>\n      <td>0.0</td>\n      <td>0.0</td>\n      <td>0.0</td>\n      <td>0.0</td>\n      <td>...</td>\n      <td>0.0</td>\n      <td>0.0</td>\n      <td>0.0</td>\n      <td>0.0</td>\n      <td>0.0</td>\n      <td>0.0</td>\n      <td>0.0</td>\n      <td>0.0</td>\n      <td>0.0</td>\n      <td>0.0</td>\n    </tr>\n    <tr>\n      <th>3</th>\n      <td>0.0</td>\n      <td>0.0</td>\n      <td>0.0</td>\n      <td>0.0</td>\n      <td>0.0</td>\n      <td>0.0</td>\n      <td>0.0</td>\n      <td>0.0</td>\n      <td>0.0</td>\n      <td>0.0</td>\n      <td>...</td>\n      <td>0.0</td>\n      <td>0.0</td>\n      <td>0.0</td>\n      <td>0.0</td>\n      <td>0.0</td>\n      <td>0.0</td>\n      <td>0.0</td>\n      <td>0.0</td>\n      <td>0.0</td>\n      <td>0.0</td>\n    </tr>\n    <tr>\n      <th>4</th>\n      <td>0.0</td>\n      <td>0.0</td>\n      <td>0.0</td>\n      <td>0.0</td>\n      <td>0.0</td>\n      <td>0.0</td>\n      <td>0.0</td>\n      <td>0.0</td>\n      <td>0.0</td>\n      <td>0.0</td>\n      <td>...</td>\n      <td>0.0</td>\n      <td>0.0</td>\n      <td>0.0</td>\n      <td>0.0</td>\n      <td>0.0</td>\n      <td>0.0</td>\n      <td>0.0</td>\n      <td>0.0</td>\n      <td>0.0</td>\n      <td>0.0</td>\n    </tr>\n    <tr>\n      <th>...</th>\n      <td>...</td>\n      <td>...</td>\n      <td>...</td>\n      <td>...</td>\n      <td>...</td>\n      <td>...</td>\n      <td>...</td>\n      <td>...</td>\n      <td>...</td>\n      <td>...</td>\n      <td>...</td>\n      <td>...</td>\n      <td>...</td>\n      <td>...</td>\n      <td>...</td>\n      <td>...</td>\n      <td>...</td>\n      <td>...</td>\n      <td>...</td>\n      <td>...</td>\n      <td>...</td>\n    </tr>\n    <tr>\n      <th>22165</th>\n      <td>0.0</td>\n      <td>0.0</td>\n      <td>0.0</td>\n      <td>0.0</td>\n      <td>0.0</td>\n      <td>0.0</td>\n      <td>0.0</td>\n      <td>0.0</td>\n      <td>0.0</td>\n      <td>0.0</td>\n      <td>...</td>\n      <td>0.0</td>\n      <td>0.0</td>\n      <td>0.0</td>\n      <td>0.0</td>\n      <td>0.0</td>\n      <td>0.0</td>\n      <td>0.0</td>\n      <td>0.0</td>\n      <td>0.0</td>\n      <td>0.0</td>\n    </tr>\n    <tr>\n      <th>22166</th>\n      <td>0.0</td>\n      <td>0.0</td>\n      <td>0.0</td>\n      <td>0.0</td>\n      <td>0.0</td>\n      <td>0.0</td>\n      <td>0.0</td>\n      <td>0.0</td>\n      <td>0.0</td>\n      <td>0.0</td>\n      <td>...</td>\n      <td>0.0</td>\n      <td>0.0</td>\n      <td>0.0</td>\n      <td>0.0</td>\n      <td>0.0</td>\n      <td>0.0</td>\n      <td>0.0</td>\n      <td>0.0</td>\n      <td>0.0</td>\n      <td>0.0</td>\n    </tr>\n    <tr>\n      <th>22167</th>\n      <td>0.0</td>\n      <td>0.0</td>\n      <td>0.0</td>\n      <td>0.0</td>\n      <td>0.0</td>\n      <td>0.0</td>\n      <td>0.0</td>\n      <td>0.0</td>\n      <td>0.0</td>\n      <td>0.0</td>\n      <td>...</td>\n      <td>0.0</td>\n      <td>0.0</td>\n      <td>0.0</td>\n      <td>0.0</td>\n      <td>0.0</td>\n      <td>0.0</td>\n      <td>0.0</td>\n      <td>0.0</td>\n      <td>0.0</td>\n      <td>0.0</td>\n    </tr>\n    <tr>\n      <th>22168</th>\n      <td>0.0</td>\n      <td>0.0</td>\n      <td>0.0</td>\n      <td>0.0</td>\n      <td>0.0</td>\n      <td>0.0</td>\n      <td>0.0</td>\n      <td>0.0</td>\n      <td>0.0</td>\n      <td>0.0</td>\n      <td>...</td>\n      <td>0.0</td>\n      <td>0.0</td>\n      <td>0.0</td>\n      <td>0.0</td>\n      <td>0.0</td>\n      <td>0.0</td>\n      <td>0.0</td>\n      <td>0.0</td>\n      <td>0.0</td>\n      <td>0.0</td>\n    </tr>\n    <tr>\n      <th>22169</th>\n      <td>0.0</td>\n      <td>0.0</td>\n      <td>0.0</td>\n      <td>0.0</td>\n      <td>0.0</td>\n      <td>0.0</td>\n      <td>0.0</td>\n      <td>0.0</td>\n      <td>0.0</td>\n      <td>0.0</td>\n      <td>...</td>\n      <td>0.0</td>\n      <td>0.0</td>\n      <td>0.0</td>\n      <td>0.0</td>\n      <td>0.0</td>\n      <td>0.0</td>\n      <td>0.0</td>\n      <td>0.0</td>\n      <td>0.0</td>\n      <td>0.0</td>\n    </tr>\n  </tbody>\n</table>\n<p>22170 rows × 14505 columns</p>\n</div>"
     },
     "metadata": {},
     "execution_count": 149
    }
   ],
   "source": [
    "create_bow_df(item_names, tfidf)"
   ]
  },
  {
   "cell_type": "code",
   "execution_count": 156,
   "metadata": {},
   "outputs": [
    {
     "output_type": "execute_result",
     "data": {
      "text/plain": [
       "       and   bd   digital  digital version  jewel        of        pc  \\\n",
       "0      0.0  0.0  0.000000         0.000000    0.0  0.712592  0.000000   \n",
       "1      0.0  0.0  0.465480         0.468781    0.0  0.000000  0.419179   \n",
       "2      0.0  0.0  0.000000         0.000000    0.0  0.452803  0.000000   \n",
       "3      0.0  0.0  0.000000         0.000000    0.0  0.000000  0.000000   \n",
       "4      0.0  0.0  0.000000         0.000000    0.0  0.000000  0.000000   \n",
       "...    ...  ...       ...              ...    ...       ...       ...   \n",
       "22165  0.0  0.0  0.465480         0.468781    0.0  0.000000  0.419179   \n",
       "22166  0.0  0.0  0.606285         0.610585    0.0  0.000000  0.000000   \n",
       "22167  0.0  0.0  0.000000         0.000000    0.0  0.000000  0.000000   \n",
       "22168  0.0  0.0  0.000000         0.000000    0.0  0.000000  0.000000   \n",
       "22169  0.0  0.0  0.000000         0.000000    0.0  0.897183  0.000000   \n",
       "\n",
       "       pc digital  region  russian       the   version  \n",
       "0          0.0000     0.0      0.0  0.701579  0.000000  \n",
       "1          0.4846     0.0      0.0  0.000000  0.391183  \n",
       "2          0.0000     0.0      0.0  0.891610  0.000000  \n",
       "3          0.0000     0.0      0.0  0.000000  0.000000  \n",
       "4          0.0000     0.0      0.0  0.000000  0.000000  \n",
       "...           ...     ...      ...       ...       ...  \n",
       "22165      0.4846     0.0      0.0  0.000000  0.391183  \n",
       "22166      0.0000     0.0      0.0  0.000000  0.509514  \n",
       "22167      0.0000     0.0      0.0  1.000000  0.000000  \n",
       "22168      0.0000     0.0      0.0  0.000000  0.000000  \n",
       "22169      0.0000     0.0      0.0  0.441658  0.000000  \n",
       "\n",
       "[22170 rows x 12 columns]"
      ],
      "text/html": "<div>\n<style scoped>\n    .dataframe tbody tr th:only-of-type {\n        vertical-align: middle;\n    }\n\n    .dataframe tbody tr th {\n        vertical-align: top;\n    }\n\n    .dataframe thead th {\n        text-align: right;\n    }\n</style>\n<table border=\"1\" class=\"dataframe\">\n  <thead>\n    <tr style=\"text-align: right;\">\n      <th></th>\n      <th>and</th>\n      <th>bd</th>\n      <th>digital</th>\n      <th>digital version</th>\n      <th>jewel</th>\n      <th>of</th>\n      <th>pc</th>\n      <th>pc digital</th>\n      <th>region</th>\n      <th>russian</th>\n      <th>the</th>\n      <th>version</th>\n    </tr>\n  </thead>\n  <tbody>\n    <tr>\n      <th>0</th>\n      <td>0.0</td>\n      <td>0.0</td>\n      <td>0.000000</td>\n      <td>0.000000</td>\n      <td>0.0</td>\n      <td>0.712592</td>\n      <td>0.000000</td>\n      <td>0.0000</td>\n      <td>0.0</td>\n      <td>0.0</td>\n      <td>0.701579</td>\n      <td>0.000000</td>\n    </tr>\n    <tr>\n      <th>1</th>\n      <td>0.0</td>\n      <td>0.0</td>\n      <td>0.465480</td>\n      <td>0.468781</td>\n      <td>0.0</td>\n      <td>0.000000</td>\n      <td>0.419179</td>\n      <td>0.4846</td>\n      <td>0.0</td>\n      <td>0.0</td>\n      <td>0.000000</td>\n      <td>0.391183</td>\n    </tr>\n    <tr>\n      <th>2</th>\n      <td>0.0</td>\n      <td>0.0</td>\n      <td>0.000000</td>\n      <td>0.000000</td>\n      <td>0.0</td>\n      <td>0.452803</td>\n      <td>0.000000</td>\n      <td>0.0000</td>\n      <td>0.0</td>\n      <td>0.0</td>\n      <td>0.891610</td>\n      <td>0.000000</td>\n    </tr>\n    <tr>\n      <th>3</th>\n      <td>0.0</td>\n      <td>0.0</td>\n      <td>0.000000</td>\n      <td>0.000000</td>\n      <td>0.0</td>\n      <td>0.000000</td>\n      <td>0.000000</td>\n      <td>0.0000</td>\n      <td>0.0</td>\n      <td>0.0</td>\n      <td>0.000000</td>\n      <td>0.000000</td>\n    </tr>\n    <tr>\n      <th>4</th>\n      <td>0.0</td>\n      <td>0.0</td>\n      <td>0.000000</td>\n      <td>0.000000</td>\n      <td>0.0</td>\n      <td>0.000000</td>\n      <td>0.000000</td>\n      <td>0.0000</td>\n      <td>0.0</td>\n      <td>0.0</td>\n      <td>0.000000</td>\n      <td>0.000000</td>\n    </tr>\n    <tr>\n      <th>...</th>\n      <td>...</td>\n      <td>...</td>\n      <td>...</td>\n      <td>...</td>\n      <td>...</td>\n      <td>...</td>\n      <td>...</td>\n      <td>...</td>\n      <td>...</td>\n      <td>...</td>\n      <td>...</td>\n      <td>...</td>\n    </tr>\n    <tr>\n      <th>22165</th>\n      <td>0.0</td>\n      <td>0.0</td>\n      <td>0.465480</td>\n      <td>0.468781</td>\n      <td>0.0</td>\n      <td>0.000000</td>\n      <td>0.419179</td>\n      <td>0.4846</td>\n      <td>0.0</td>\n      <td>0.0</td>\n      <td>0.000000</td>\n      <td>0.391183</td>\n    </tr>\n    <tr>\n      <th>22166</th>\n      <td>0.0</td>\n      <td>0.0</td>\n      <td>0.606285</td>\n      <td>0.610585</td>\n      <td>0.0</td>\n      <td>0.000000</td>\n      <td>0.000000</td>\n      <td>0.0000</td>\n      <td>0.0</td>\n      <td>0.0</td>\n      <td>0.000000</td>\n      <td>0.509514</td>\n    </tr>\n    <tr>\n      <th>22167</th>\n      <td>0.0</td>\n      <td>0.0</td>\n      <td>0.000000</td>\n      <td>0.000000</td>\n      <td>0.0</td>\n      <td>0.000000</td>\n      <td>0.000000</td>\n      <td>0.0000</td>\n      <td>0.0</td>\n      <td>0.0</td>\n      <td>1.000000</td>\n      <td>0.000000</td>\n    </tr>\n    <tr>\n      <th>22168</th>\n      <td>0.0</td>\n      <td>0.0</td>\n      <td>0.000000</td>\n      <td>0.000000</td>\n      <td>0.0</td>\n      <td>0.000000</td>\n      <td>0.000000</td>\n      <td>0.0000</td>\n      <td>0.0</td>\n      <td>0.0</td>\n      <td>0.000000</td>\n      <td>0.000000</td>\n    </tr>\n    <tr>\n      <th>22169</th>\n      <td>0.0</td>\n      <td>0.0</td>\n      <td>0.000000</td>\n      <td>0.000000</td>\n      <td>0.0</td>\n      <td>0.897183</td>\n      <td>0.000000</td>\n      <td>0.0000</td>\n      <td>0.0</td>\n      <td>0.0</td>\n      <td>0.441658</td>\n      <td>0.000000</td>\n    </tr>\n  </tbody>\n</table>\n<p>22170 rows × 12 columns</p>\n</div>"
     },
     "metadata": {},
     "execution_count": 156
    }
   ],
   "source": [
    "tfidf_ngram = TfidfVectorizer(ngram_range=(1, 2), min_df=0.05, max_df=0.5, use_idf=True)\n",
    "create_bow_df(item_names, tfidf_ngram)"
   ]
  },
  {
   "cell_type": "code",
   "execution_count": 157,
   "metadata": {},
   "outputs": [
    {
     "output_type": "execute_result",
     "data": {
      "text/plain": [
       "       and   bd   digital  digital version  jewel        of        pc  \\\n",
       "0      0.0  0.0  0.000000         0.000000    0.0  0.707107  0.000000   \n",
       "1      0.0  0.0  0.447214         0.447214    0.0  0.000000  0.447214   \n",
       "2      0.0  0.0  0.000000         0.000000    0.0  0.447214  0.000000   \n",
       "3      0.0  0.0  0.000000         0.000000    0.0  0.000000  0.000000   \n",
       "4      0.0  0.0  0.000000         0.000000    0.0  0.000000  0.000000   \n",
       "...    ...  ...       ...              ...    ...       ...       ...   \n",
       "22165  0.0  0.0  0.447214         0.447214    0.0  0.000000  0.447214   \n",
       "22166  0.0  0.0  0.577350         0.577350    0.0  0.000000  0.000000   \n",
       "22167  0.0  0.0  0.000000         0.000000    0.0  0.000000  0.000000   \n",
       "22168  0.0  0.0  0.000000         0.000000    0.0  0.000000  0.000000   \n",
       "22169  0.0  0.0  0.000000         0.000000    0.0  0.894427  0.000000   \n",
       "\n",
       "       pc digital  region  russian       the   version  \n",
       "0        0.000000     0.0      0.0  0.707107  0.000000  \n",
       "1        0.447214     0.0      0.0  0.000000  0.447214  \n",
       "2        0.000000     0.0      0.0  0.894427  0.000000  \n",
       "3        0.000000     0.0      0.0  0.000000  0.000000  \n",
       "4        0.000000     0.0      0.0  0.000000  0.000000  \n",
       "...           ...     ...      ...       ...       ...  \n",
       "22165    0.447214     0.0      0.0  0.000000  0.447214  \n",
       "22166    0.000000     0.0      0.0  0.000000  0.577350  \n",
       "22167    0.000000     0.0      0.0  1.000000  0.000000  \n",
       "22168    0.000000     0.0      0.0  0.000000  0.000000  \n",
       "22169    0.000000     0.0      0.0  0.447214  0.000000  \n",
       "\n",
       "[22170 rows x 12 columns]"
      ],
      "text/html": "<div>\n<style scoped>\n    .dataframe tbody tr th:only-of-type {\n        vertical-align: middle;\n    }\n\n    .dataframe tbody tr th {\n        vertical-align: top;\n    }\n\n    .dataframe thead th {\n        text-align: right;\n    }\n</style>\n<table border=\"1\" class=\"dataframe\">\n  <thead>\n    <tr style=\"text-align: right;\">\n      <th></th>\n      <th>and</th>\n      <th>bd</th>\n      <th>digital</th>\n      <th>digital version</th>\n      <th>jewel</th>\n      <th>of</th>\n      <th>pc</th>\n      <th>pc digital</th>\n      <th>region</th>\n      <th>russian</th>\n      <th>the</th>\n      <th>version</th>\n    </tr>\n  </thead>\n  <tbody>\n    <tr>\n      <th>0</th>\n      <td>0.0</td>\n      <td>0.0</td>\n      <td>0.000000</td>\n      <td>0.000000</td>\n      <td>0.0</td>\n      <td>0.707107</td>\n      <td>0.000000</td>\n      <td>0.000000</td>\n      <td>0.0</td>\n      <td>0.0</td>\n      <td>0.707107</td>\n      <td>0.000000</td>\n    </tr>\n    <tr>\n      <th>1</th>\n      <td>0.0</td>\n      <td>0.0</td>\n      <td>0.447214</td>\n      <td>0.447214</td>\n      <td>0.0</td>\n      <td>0.000000</td>\n      <td>0.447214</td>\n      <td>0.447214</td>\n      <td>0.0</td>\n      <td>0.0</td>\n      <td>0.000000</td>\n      <td>0.447214</td>\n    </tr>\n    <tr>\n      <th>2</th>\n      <td>0.0</td>\n      <td>0.0</td>\n      <td>0.000000</td>\n      <td>0.000000</td>\n      <td>0.0</td>\n      <td>0.447214</td>\n      <td>0.000000</td>\n      <td>0.000000</td>\n      <td>0.0</td>\n      <td>0.0</td>\n      <td>0.894427</td>\n      <td>0.000000</td>\n    </tr>\n    <tr>\n      <th>3</th>\n      <td>0.0</td>\n      <td>0.0</td>\n      <td>0.000000</td>\n      <td>0.000000</td>\n      <td>0.0</td>\n      <td>0.000000</td>\n      <td>0.000000</td>\n      <td>0.000000</td>\n      <td>0.0</td>\n      <td>0.0</td>\n      <td>0.000000</td>\n      <td>0.000000</td>\n    </tr>\n    <tr>\n      <th>4</th>\n      <td>0.0</td>\n      <td>0.0</td>\n      <td>0.000000</td>\n      <td>0.000000</td>\n      <td>0.0</td>\n      <td>0.000000</td>\n      <td>0.000000</td>\n      <td>0.000000</td>\n      <td>0.0</td>\n      <td>0.0</td>\n      <td>0.000000</td>\n      <td>0.000000</td>\n    </tr>\n    <tr>\n      <th>...</th>\n      <td>...</td>\n      <td>...</td>\n      <td>...</td>\n      <td>...</td>\n      <td>...</td>\n      <td>...</td>\n      <td>...</td>\n      <td>...</td>\n      <td>...</td>\n      <td>...</td>\n      <td>...</td>\n      <td>...</td>\n    </tr>\n    <tr>\n      <th>22165</th>\n      <td>0.0</td>\n      <td>0.0</td>\n      <td>0.447214</td>\n      <td>0.447214</td>\n      <td>0.0</td>\n      <td>0.000000</td>\n      <td>0.447214</td>\n      <td>0.447214</td>\n      <td>0.0</td>\n      <td>0.0</td>\n      <td>0.000000</td>\n      <td>0.447214</td>\n    </tr>\n    <tr>\n      <th>22166</th>\n      <td>0.0</td>\n      <td>0.0</td>\n      <td>0.577350</td>\n      <td>0.577350</td>\n      <td>0.0</td>\n      <td>0.000000</td>\n      <td>0.000000</td>\n      <td>0.000000</td>\n      <td>0.0</td>\n      <td>0.0</td>\n      <td>0.000000</td>\n      <td>0.577350</td>\n    </tr>\n    <tr>\n      <th>22167</th>\n      <td>0.0</td>\n      <td>0.0</td>\n      <td>0.000000</td>\n      <td>0.000000</td>\n      <td>0.0</td>\n      <td>0.000000</td>\n      <td>0.000000</td>\n      <td>0.000000</td>\n      <td>0.0</td>\n      <td>0.0</td>\n      <td>1.000000</td>\n      <td>0.000000</td>\n    </tr>\n    <tr>\n      <th>22168</th>\n      <td>0.0</td>\n      <td>0.0</td>\n      <td>0.000000</td>\n      <td>0.000000</td>\n      <td>0.0</td>\n      <td>0.000000</td>\n      <td>0.000000</td>\n      <td>0.000000</td>\n      <td>0.0</td>\n      <td>0.0</td>\n      <td>0.000000</td>\n      <td>0.000000</td>\n    </tr>\n    <tr>\n      <th>22169</th>\n      <td>0.0</td>\n      <td>0.0</td>\n      <td>0.000000</td>\n      <td>0.000000</td>\n      <td>0.0</td>\n      <td>0.894427</td>\n      <td>0.000000</td>\n      <td>0.000000</td>\n      <td>0.0</td>\n      <td>0.0</td>\n      <td>0.447214</td>\n      <td>0.000000</td>\n    </tr>\n  </tbody>\n</table>\n<p>22170 rows × 12 columns</p>\n</div>"
     },
     "metadata": {},
     "execution_count": 157
    }
   ],
   "source": [
    "tfidf_ngram = TfidfVectorizer(ngram_range=(1, 2), min_df=0.05, max_df=0.5, use_idf=False)\n",
    "create_bow_df(item_names, tfidf_ngram)"
   ]
  },
  {
   "cell_type": "code",
   "execution_count": null,
   "metadata": {},
   "outputs": [],
   "source": [
    "                                                                                                                  "
   ]
  }
 ]
}