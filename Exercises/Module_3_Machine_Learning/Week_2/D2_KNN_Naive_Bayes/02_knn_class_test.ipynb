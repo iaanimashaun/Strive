version https://git-lfs.github.com/spec/v1
oid sha256:64dc8e8942097dd898b9ec1ea8576d3a28312d854b0ea526c5becd82e25542ea
size 146780
