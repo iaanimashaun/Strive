version https://git-lfs.github.com/spec/v1
oid sha256:dd83abbbba43f65ccd0cefbed11a6145f6803176bbffafe04e34bca12d1b1151
size 155699
