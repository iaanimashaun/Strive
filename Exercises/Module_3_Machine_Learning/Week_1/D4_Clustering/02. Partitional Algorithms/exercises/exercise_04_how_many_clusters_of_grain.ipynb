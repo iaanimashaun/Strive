version https://git-lfs.github.com/spec/v1
oid sha256:67312777a91c69593f866acaaba1330454079c5fe731980aa9eb5eadd3a9430e
size 85838
