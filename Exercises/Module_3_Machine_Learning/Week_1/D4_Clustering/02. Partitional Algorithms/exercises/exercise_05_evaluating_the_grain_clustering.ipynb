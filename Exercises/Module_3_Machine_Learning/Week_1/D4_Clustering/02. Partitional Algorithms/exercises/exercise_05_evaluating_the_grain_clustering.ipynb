version https://git-lfs.github.com/spec/v1
oid sha256:c885e8b36f111207b0b4a4d4f3e9e99177cae5c4e96f48d20d1dbe2dd68d6a9a
size 5515
