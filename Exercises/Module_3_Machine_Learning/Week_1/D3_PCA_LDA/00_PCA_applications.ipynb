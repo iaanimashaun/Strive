version https://git-lfs.github.com/spec/v1
oid sha256:4fb7da8a3a62962d8005a38a27dc5f83b1ed40b352541f1e88bd4f0ce2639b48
size 1159308
