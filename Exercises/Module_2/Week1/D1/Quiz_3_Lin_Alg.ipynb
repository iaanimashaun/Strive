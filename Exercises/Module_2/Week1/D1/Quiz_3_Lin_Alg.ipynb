{
 "cells": [
  {
   "cell_type": "markdown",
   "metadata": {},
   "source": [
    "## Linear Algebra Quiz #3\n",
    "\n",
    "![title](./img/3_0.jpeg)\n",
    "\n",
    "We strongly suggest working with numpy :)"
   ]
  },
  {
   "cell_type": "code",
   "execution_count": 1,
   "metadata": {},
   "outputs": [],
   "source": [
    "#Do your imports here\n",
    "import numpy as np \n"
   ]
  },
  {
   "cell_type": "code",
   "execution_count": null,
   "metadata": {},
   "outputs": [],
   "source": []
  },
  {
   "cell_type": "markdown",
   "metadata": {},
   "source": [
    "![title](./img/3_2.png)\n",
    "![title](./img/3_3.png)\n",
    "Create a program that can output\n",
    "\n",
    "- What is the value of element c23​ of Matrix C where C=A x B ?\n",
    "- What is the value of element c23​ of Matrix C where C=B x A ?"
   ]
  },
  {
   "cell_type": "code",
   "execution_count": 2,
   "metadata": {},
   "outputs": [],
   "source": [
    "A = np.array([3,1,2,-5,4,1,0,3,-8]).reshape((3,3))\n",
    "B = np.array([0,5,-1,3,2,-1,10,0.5,-4]).reshape((3,3))\n",
    "\n",
    "C = np.dot(np.matrix(A), np.matrix(B))"
   ]
  },
  {
   "cell_type": "code",
   "execution_count": 3,
   "metadata": {},
   "outputs": [],
   "source": [
    "c_23 = C[1,2]"
   ]
  },
  {
   "cell_type": "code",
   "execution_count": 4,
   "metadata": {},
   "outputs": [
    {
     "output_type": "execute_result",
     "data": {
      "text/plain": [
       "-3.0"
      ]
     },
     "metadata": {},
     "execution_count": 4
    }
   ],
   "source": [
    "c_23"
   ]
  },
  {
   "cell_type": "code",
   "execution_count": 5,
   "metadata": {},
   "outputs": [],
   "source": [
    "C = np.dot(np.matrix(B), np.matrix(A))"
   ]
  },
  {
   "cell_type": "code",
   "execution_count": 6,
   "metadata": {},
   "outputs": [],
   "source": [
    "c_23 = C[1,2]"
   ]
  },
  {
   "cell_type": "code",
   "execution_count": 7,
   "metadata": {},
   "outputs": [
    {
     "output_type": "execute_result",
     "data": {
      "text/plain": [
       "16.0"
      ]
     },
     "metadata": {},
     "execution_count": 7
    }
   ],
   "source": [
    "c_23"
   ]
  },
  {
   "cell_type": "code",
   "execution_count": 5,
   "metadata": {},
   "outputs": [],
   "source": [
    "# okay numpy is great but... how would you inverse a matrix by hand?\n",
    "\n",
    "def inverse_matrix(A):\n",
    "     \n",
    "    return np.linalg.inv(A)"
   ]
  },
  {
   "cell_type": "markdown",
   "metadata": {},
   "source": [
    "![title](./img/3_1.png)\n",
    "Create a program that can output\n",
    "\n",
    "- What is the value of the ijth element if i = 2 and j=3?\n",
    "- What is the value of the ijth element if i = 3 and j=1?"
   ]
  },
  {
   "cell_type": "code",
   "execution_count": null,
   "metadata": {},
   "outputs": [],
   "source": [
    "# Just answer using code --> easy stuff!\n",
    "\n",
    "\n",
    "A = np.array([[3, 0.6, 4, -3],[-1.3,4,0,8.6],[7,0,-8,0.006]])\n",
    "B = np.array([[3, -5.76, 45, 0],[2, -2, 1.3 , 9],[-9, 0,0,0]])\n",
    "C = np.array([[0,1009, -66.7849, 90],[0,5,4,-0.07],[-7.7,0,0,0]])\n",
    "\n",
    "\n",
    "D = A + B - C\n",
    "\n",
    "\n",
    "# Harder\n",
    "# Can you build a matrix solver that can do output the result given n matrices and a sequence of operations such as [add subtract multiply transpose?]\n",
    "#Some ideas on valid operations: Multiplication Addition Subtraction Inverstion Transposed. "
   ]
  },
  {
   "cell_type": "code",
   "execution_count": null,
   "metadata": {},
   "outputs": [],
   "source": [
    "D[1][2]"
   ]
  },
  {
   "cell_type": "code",
   "execution_count": null,
   "metadata": {},
   "outputs": [],
   "source": [
    "D[2][0]"
   ]
  },
  {
   "cell_type": "markdown",
   "metadata": {},
   "source": [
    "![title](./img/3_3.png)\n",
    "Create a program that can output\n",
    "- How many rows will C have?\n",
    "- How many columns will C have?\n",
    "- What will be the value of c13​?"
   ]
  },
  {
   "cell_type": "code",
   "execution_count": 8,
   "metadata": {},
   "outputs": [
    {
     "output_type": "execute_result",
     "data": {
      "text/plain": [
       "array([-102.8,  255.2,  595.6])"
      ]
     },
     "metadata": {},
     "execution_count": 8
    }
   ],
   "source": [
    "A = np.array([0.6,-15,2,5,98])\n",
    "B = np.array([[2,2,-4],[9,-14,0],[13,-0.5,44],[1,9,4],[0,0,5]])\n",
    "\n",
    "C = np.dot(A.T, B)\n",
    "C"
   ]
  },
  {
   "cell_type": "code",
   "execution_count": 12,
   "metadata": {},
   "outputs": [
    {
     "output_type": "execute_result",
     "data": {
      "text/plain": [
       "(3,)"
      ]
     },
     "metadata": {},
     "execution_count": 12
    }
   ],
   "source": [
    "C.shape"
   ]
  },
  {
   "cell_type": "code",
   "execution_count": 16,
   "metadata": {},
   "outputs": [
    {
     "output_type": "execute_result",
     "data": {
      "text/plain": [
       "595.6"
      ]
     },
     "metadata": {},
     "execution_count": 16
    }
   ],
   "source": [
    "C[2]"
   ]
  },
  {
   "cell_type": "code",
   "execution_count": 17,
   "metadata": {},
   "outputs": [
    {
     "output_type": "execute_result",
     "data": {
      "text/plain": [
       "array([4, 6])"
      ]
     },
     "metadata": {},
     "execution_count": 17
    }
   ],
   "source": [
    "np.array([1,2]) + np.array([3,4])"
   ]
  },
  {
   "cell_type": "code",
   "execution_count": null,
   "metadata": {},
   "outputs": [],
   "source": []
  }
 ],
 "metadata": {
  "kernelspec": {
   "display_name": "Python 3",
   "language": "python",
   "name": "python3"
  },
  "language_info": {
   "codemirror_mode": {
    "name": "ipython",
    "version": 3
   },
   "file_extension": ".py",
   "mimetype": "text/x-python",
   "name": "python",
   "nbconvert_exporter": "python",
   "pygments_lexer": "ipython3",
   "version": "3.8.5-final"
  }
 },
 "nbformat": 4,
 "nbformat_minor": 2
}