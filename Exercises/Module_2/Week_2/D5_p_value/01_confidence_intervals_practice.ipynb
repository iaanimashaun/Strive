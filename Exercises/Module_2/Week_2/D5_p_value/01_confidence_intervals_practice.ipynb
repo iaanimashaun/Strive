{
 "cells": [
  {
   "cell_type": "markdown",
   "metadata": {},
   "source": [
    "# Practice notebook for confidence intervals using NHANES data\n",
    "\n",
    "This notebook will give you the opportunity to practice working with confidence intervals using the NHANES data.\n",
    "\n",
    "You can enter your code into the cells that say \"enter your code here\", and you can type responses to the questions into the cells that say \"Type Markdown and Latex\".\n",
    "\n",
    "Note that most of the code that you will need to write below is very similar to code that appears in the case study notebook.  You will need to edit code from that notebook in small ways to adapt it to the prompts below.\n",
    "\n",
    "To get started, we will use the same module imports and read the data in the same way as we did in the case study:"
   ]
  },
  {
   "cell_type": "code",
   "execution_count": 2,
   "metadata": {},
   "outputs": [],
   "source": [
    "%matplotlib inline\n",
    "import matplotlib.pyplot as plt\n",
    "import pandas as pd\n",
    "import numpy as np\n",
    "import seaborn as sns\n",
    "import statsmodels.api as sm\n",
    "\n",
    "df = pd.read_csv(\"nhanes_2015_2016.csv\")"
   ]
  },
  {
   "cell_type": "markdown",
   "metadata": {},
   "source": [
    "## Question 1\n",
    "\n",
    "Restrict the sample to women between 35 and 50, then use the marital status variable [DMDMARTL](https://wwwn.cdc.gov/Nchs/Nhanes/2015-2016/DEMO_I.htm#DMDMARTL) to partition this sample into two groups - women who are currently married, and women who are not currently married.  Within each of these groups, calculate the proportion of women who have completed college.  Calculate 95% confidence intervals for each of these proportions."
   ]
  },
  {
   "cell_type": "code",
   "execution_count": 3,
   "metadata": {},
   "outputs": [
    {
     "output_type": "execute_result",
     "data": {
      "text/plain": [
       "    SEQN  ALQ101  ALQ110  ALQ130  SMQ020  RIAGENDR  RIDAGEYR  RIDRETH1  \\\n",
       "0  83732     1.0     NaN     1.0       1         1        62         3   \n",
       "1  83733     1.0     NaN     6.0       1         1        53         3   \n",
       "2  83734     1.0     NaN     NaN       1         1        78         3   \n",
       "3  83735     2.0     1.0     1.0       2         2        56         3   \n",
       "4  83736     2.0     1.0     1.0       2         2        42         4   \n",
       "\n",
       "   DMDCITZN  DMDEDUC2  ...  BPXSY2  BPXDI2  BMXWT  BMXHT  BMXBMI  BMXLEG  \\\n",
       "0       1.0       5.0  ...   124.0    64.0   94.8  184.5    27.8    43.3   \n",
       "1       2.0       3.0  ...   140.0    88.0   90.4  171.4    30.8    38.0   \n",
       "2       1.0       3.0  ...   132.0    44.0   83.4  170.1    28.8    35.6   \n",
       "3       1.0       5.0  ...   134.0    68.0  109.8  160.9    42.4    38.5   \n",
       "4       1.0       4.0  ...   114.0    54.0   55.2  164.9    20.3    37.4   \n",
       "\n",
       "   BMXARML  BMXARMC  BMXWAIST  HIQ210  \n",
       "0     43.6     35.9     101.1     2.0  \n",
       "1     40.0     33.2     107.9     NaN  \n",
       "2     37.0     31.0     116.5     2.0  \n",
       "3     37.7     38.3     110.1     2.0  \n",
       "4     36.0     27.2      80.4     2.0  \n",
       "\n",
       "[5 rows x 28 columns]"
      ],
      "text/html": "<div>\n<style scoped>\n    .dataframe tbody tr th:only-of-type {\n        vertical-align: middle;\n    }\n\n    .dataframe tbody tr th {\n        vertical-align: top;\n    }\n\n    .dataframe thead th {\n        text-align: right;\n    }\n</style>\n<table border=\"1\" class=\"dataframe\">\n  <thead>\n    <tr style=\"text-align: right;\">\n      <th></th>\n      <th>SEQN</th>\n      <th>ALQ101</th>\n      <th>ALQ110</th>\n      <th>ALQ130</th>\n      <th>SMQ020</th>\n      <th>RIAGENDR</th>\n      <th>RIDAGEYR</th>\n      <th>RIDRETH1</th>\n      <th>DMDCITZN</th>\n      <th>DMDEDUC2</th>\n      <th>...</th>\n      <th>BPXSY2</th>\n      <th>BPXDI2</th>\n      <th>BMXWT</th>\n      <th>BMXHT</th>\n      <th>BMXBMI</th>\n      <th>BMXLEG</th>\n      <th>BMXARML</th>\n      <th>BMXARMC</th>\n      <th>BMXWAIST</th>\n      <th>HIQ210</th>\n    </tr>\n  </thead>\n  <tbody>\n    <tr>\n      <th>0</th>\n      <td>83732</td>\n      <td>1.0</td>\n      <td>NaN</td>\n      <td>1.0</td>\n      <td>1</td>\n      <td>1</td>\n      <td>62</td>\n      <td>3</td>\n      <td>1.0</td>\n      <td>5.0</td>\n      <td>...</td>\n      <td>124.0</td>\n      <td>64.0</td>\n      <td>94.8</td>\n      <td>184.5</td>\n      <td>27.8</td>\n      <td>43.3</td>\n      <td>43.6</td>\n      <td>35.9</td>\n      <td>101.1</td>\n      <td>2.0</td>\n    </tr>\n    <tr>\n      <th>1</th>\n      <td>83733</td>\n      <td>1.0</td>\n      <td>NaN</td>\n      <td>6.0</td>\n      <td>1</td>\n      <td>1</td>\n      <td>53</td>\n      <td>3</td>\n      <td>2.0</td>\n      <td>3.0</td>\n      <td>...</td>\n      <td>140.0</td>\n      <td>88.0</td>\n      <td>90.4</td>\n      <td>171.4</td>\n      <td>30.8</td>\n      <td>38.0</td>\n      <td>40.0</td>\n      <td>33.2</td>\n      <td>107.9</td>\n      <td>NaN</td>\n    </tr>\n    <tr>\n      <th>2</th>\n      <td>83734</td>\n      <td>1.0</td>\n      <td>NaN</td>\n      <td>NaN</td>\n      <td>1</td>\n      <td>1</td>\n      <td>78</td>\n      <td>3</td>\n      <td>1.0</td>\n      <td>3.0</td>\n      <td>...</td>\n      <td>132.0</td>\n      <td>44.0</td>\n      <td>83.4</td>\n      <td>170.1</td>\n      <td>28.8</td>\n      <td>35.6</td>\n      <td>37.0</td>\n      <td>31.0</td>\n      <td>116.5</td>\n      <td>2.0</td>\n    </tr>\n    <tr>\n      <th>3</th>\n      <td>83735</td>\n      <td>2.0</td>\n      <td>1.0</td>\n      <td>1.0</td>\n      <td>2</td>\n      <td>2</td>\n      <td>56</td>\n      <td>3</td>\n      <td>1.0</td>\n      <td>5.0</td>\n      <td>...</td>\n      <td>134.0</td>\n      <td>68.0</td>\n      <td>109.8</td>\n      <td>160.9</td>\n      <td>42.4</td>\n      <td>38.5</td>\n      <td>37.7</td>\n      <td>38.3</td>\n      <td>110.1</td>\n      <td>2.0</td>\n    </tr>\n    <tr>\n      <th>4</th>\n      <td>83736</td>\n      <td>2.0</td>\n      <td>1.0</td>\n      <td>1.0</td>\n      <td>2</td>\n      <td>2</td>\n      <td>42</td>\n      <td>4</td>\n      <td>1.0</td>\n      <td>4.0</td>\n      <td>...</td>\n      <td>114.0</td>\n      <td>54.0</td>\n      <td>55.2</td>\n      <td>164.9</td>\n      <td>20.3</td>\n      <td>37.4</td>\n      <td>36.0</td>\n      <td>27.2</td>\n      <td>80.4</td>\n      <td>2.0</td>\n    </tr>\n  </tbody>\n</table>\n<p>5 rows × 28 columns</p>\n</div>"
     },
     "metadata": {},
     "execution_count": 3
    }
   ],
   "source": [
    "# enter your code here\n",
    "df.head()"
   ]
  },
  {
   "cell_type": "code",
   "execution_count": 15,
   "metadata": {},
   "outputs": [],
   "source": [
    "mask = (da['RIDAGEYR'] >= 35) & (da['RIDAGEYR'] <= 50) & (da['RIAGENDR'] == 2)"
   ]
  },
  {
   "cell_type": "code",
   "execution_count": 16,
   "metadata": {},
   "outputs": [],
   "source": [
    "female_35_50 = df[mask]"
   ]
  },
  {
   "source": [],
   "cell_type": "markdown",
   "metadata": {}
  },
  {
   "cell_type": "code",
   "execution_count": 17,
   "metadata": {},
   "outputs": [
    {
     "output_type": "execute_result",
     "data": {
      "text/plain": [
       "     SEQN  ALQ101  ALQ110  ALQ130  SMQ020  RIAGENDR  RIDAGEYR  RIDRETH1  \\\n",
       "4   83736     2.0     1.0     1.0       2         2        42         4   \n",
       "34  83799     NaN     NaN     NaN       2         2        37         2   \n",
       "50  83828     1.0     NaN     2.0       2         2        39         1   \n",
       "52  83832     2.0     1.0     4.0       2         2        50         1   \n",
       "55  83837     2.0     2.0     NaN       2         2        45         1   \n",
       "\n",
       "    DMDCITZN  DMDEDUC2  ...  BPXSY2  BPXDI2  BMXWT  BMXHT  BMXBMI  BMXLEG  \\\n",
       "4        1.0       4.0  ...   114.0    54.0   55.2  164.9    20.3    37.4   \n",
       "34       1.0       4.0  ...   110.0    72.0   66.6  161.6    25.5     NaN   \n",
       "50       2.0       3.0  ...   100.0    62.0   71.3  162.0    27.2    36.8   \n",
       "52       2.0       1.0  ...     NaN     NaN  105.9  157.7    42.6    29.2   \n",
       "55       1.0       2.0  ...   114.0    68.0   77.5  148.3    35.2    30.5   \n",
       "\n",
       "    BMXARML  BMXARMC  BMXWAIST  HIQ210  \n",
       "4      36.0     27.2      80.4     2.0  \n",
       "34      NaN      NaN       NaN     2.0  \n",
       "50     34.6     29.1      94.6     NaN  \n",
       "52     35.0     40.7     129.1     NaN  \n",
       "55     34.0     34.4     107.6     2.0  \n",
       "\n",
       "[5 rows x 28 columns]"
      ],
      "text/html": "<div>\n<style scoped>\n    .dataframe tbody tr th:only-of-type {\n        vertical-align: middle;\n    }\n\n    .dataframe tbody tr th {\n        vertical-align: top;\n    }\n\n    .dataframe thead th {\n        text-align: right;\n    }\n</style>\n<table border=\"1\" class=\"dataframe\">\n  <thead>\n    <tr style=\"text-align: right;\">\n      <th></th>\n      <th>SEQN</th>\n      <th>ALQ101</th>\n      <th>ALQ110</th>\n      <th>ALQ130</th>\n      <th>SMQ020</th>\n      <th>RIAGENDR</th>\n      <th>RIDAGEYR</th>\n      <th>RIDRETH1</th>\n      <th>DMDCITZN</th>\n      <th>DMDEDUC2</th>\n      <th>...</th>\n      <th>BPXSY2</th>\n      <th>BPXDI2</th>\n      <th>BMXWT</th>\n      <th>BMXHT</th>\n      <th>BMXBMI</th>\n      <th>BMXLEG</th>\n      <th>BMXARML</th>\n      <th>BMXARMC</th>\n      <th>BMXWAIST</th>\n      <th>HIQ210</th>\n    </tr>\n  </thead>\n  <tbody>\n    <tr>\n      <th>4</th>\n      <td>83736</td>\n      <td>2.0</td>\n      <td>1.0</td>\n      <td>1.0</td>\n      <td>2</td>\n      <td>2</td>\n      <td>42</td>\n      <td>4</td>\n      <td>1.0</td>\n      <td>4.0</td>\n      <td>...</td>\n      <td>114.0</td>\n      <td>54.0</td>\n      <td>55.2</td>\n      <td>164.9</td>\n      <td>20.3</td>\n      <td>37.4</td>\n      <td>36.0</td>\n      <td>27.2</td>\n      <td>80.4</td>\n      <td>2.0</td>\n    </tr>\n    <tr>\n      <th>34</th>\n      <td>83799</td>\n      <td>NaN</td>\n      <td>NaN</td>\n      <td>NaN</td>\n      <td>2</td>\n      <td>2</td>\n      <td>37</td>\n      <td>2</td>\n      <td>1.0</td>\n      <td>4.0</td>\n      <td>...</td>\n      <td>110.0</td>\n      <td>72.0</td>\n      <td>66.6</td>\n      <td>161.6</td>\n      <td>25.5</td>\n      <td>NaN</td>\n      <td>NaN</td>\n      <td>NaN</td>\n      <td>NaN</td>\n      <td>2.0</td>\n    </tr>\n    <tr>\n      <th>50</th>\n      <td>83828</td>\n      <td>1.0</td>\n      <td>NaN</td>\n      <td>2.0</td>\n      <td>2</td>\n      <td>2</td>\n      <td>39</td>\n      <td>1</td>\n      <td>2.0</td>\n      <td>3.0</td>\n      <td>...</td>\n      <td>100.0</td>\n      <td>62.0</td>\n      <td>71.3</td>\n      <td>162.0</td>\n      <td>27.2</td>\n      <td>36.8</td>\n      <td>34.6</td>\n      <td>29.1</td>\n      <td>94.6</td>\n      <td>NaN</td>\n    </tr>\n    <tr>\n      <th>52</th>\n      <td>83832</td>\n      <td>2.0</td>\n      <td>1.0</td>\n      <td>4.0</td>\n      <td>2</td>\n      <td>2</td>\n      <td>50</td>\n      <td>1</td>\n      <td>2.0</td>\n      <td>1.0</td>\n      <td>...</td>\n      <td>NaN</td>\n      <td>NaN</td>\n      <td>105.9</td>\n      <td>157.7</td>\n      <td>42.6</td>\n      <td>29.2</td>\n      <td>35.0</td>\n      <td>40.7</td>\n      <td>129.1</td>\n      <td>NaN</td>\n    </tr>\n    <tr>\n      <th>55</th>\n      <td>83837</td>\n      <td>2.0</td>\n      <td>2.0</td>\n      <td>NaN</td>\n      <td>2</td>\n      <td>2</td>\n      <td>45</td>\n      <td>1</td>\n      <td>1.0</td>\n      <td>2.0</td>\n      <td>...</td>\n      <td>114.0</td>\n      <td>68.0</td>\n      <td>77.5</td>\n      <td>148.3</td>\n      <td>35.2</td>\n      <td>30.5</td>\n      <td>34.0</td>\n      <td>34.4</td>\n      <td>107.6</td>\n      <td>2.0</td>\n    </tr>\n  </tbody>\n</table>\n<p>5 rows × 28 columns</p>\n</div>"
     },
     "metadata": {},
     "execution_count": 17
    }
   ],
   "source": [
    "female_35_50.head()"
   ]
  },
  {
   "source": [
    "### DMDEDUC2\n",
    "##### less than 9th grade education, 9-11th grade education (includes 12th grade and no diploma), High school graduate/GED, some college or associates (AA) degree, and college graduate or higher"
   ],
   "cell_type": "markdown",
   "metadata": {}
  },
  {
   "cell_type": "code",
   "execution_count": 18,
   "metadata": {},
   "outputs": [],
   "source": [
    "female_35_50['DMDEDUC2'] = female_35_50['DMDEDUC2'].replace([1.0,2.0,3.0,4.0,5.0,7.0, 9.0], ['incomplete_college', 'incomplete_college', 'incomplete_college', 'incomplete_college', 'complete_college', 'incomplete_college', 'incomplete_college'])"
   ]
  },
  {
   "cell_type": "code",
   "execution_count": 19,
   "metadata": {},
   "outputs": [],
   "source": [
    "female_35_50['DMDMARTL'] = female_35_50['DMDMARTL'].replace([1.0,2.0,3.0,4.0,5.0,6.0,77.0, 99.0], ['married', 'not_married', 'not_married', 'not_married', 'not_married', 'not_married', 'not_married', 'not_married'])"
   ]
  },
  {
   "cell_type": "code",
   "execution_count": 20,
   "metadata": {},
   "outputs": [
    {
     "output_type": "execute_result",
     "data": {
      "text/plain": [
       "       SEQN  ALQ101  ALQ110  ALQ130  SMQ020  RIAGENDR  RIDAGEYR  RIDRETH1  \\\n",
       "4     83736     2.0     1.0     1.0       2         2        42         4   \n",
       "34    83799     NaN     NaN     NaN       2         2        37         2   \n",
       "50    83828     1.0     NaN     2.0       2         2        39         1   \n",
       "52    83832     2.0     1.0     4.0       2         2        50         1   \n",
       "55    83837     2.0     2.0     NaN       2         2        45         1   \n",
       "...     ...     ...     ...     ...     ...       ...       ...       ...   \n",
       "5658  93568     1.0     NaN     1.0       1         2        46         3   \n",
       "5685  93612     2.0     2.0     NaN       2         2        36         5   \n",
       "5689  93619     NaN     NaN     NaN       2         2        44         5   \n",
       "5721  93676     1.0     NaN     2.0       2         2        35         4   \n",
       "5724  93682     NaN     NaN     NaN       2         2        41         5   \n",
       "\n",
       "      DMDCITZN            DMDEDUC2  ... BPXSY2  BPXDI2  BMXWT  BMXHT  BMXBMI  \\\n",
       "4          1.0  incomplete_college  ...  114.0    54.0   55.2  164.9    20.3   \n",
       "34         1.0  incomplete_college  ...  110.0    72.0   66.6  161.6    25.5   \n",
       "50         2.0  incomplete_college  ...  100.0    62.0   71.3  162.0    27.2   \n",
       "52         2.0  incomplete_college  ...    NaN     NaN  105.9  157.7    42.6   \n",
       "55         1.0  incomplete_college  ...  114.0    68.0   77.5  148.3    35.2   \n",
       "...        ...                 ...  ...    ...     ...    ...    ...     ...   \n",
       "5658       1.0  incomplete_college  ...  128.0    84.0   85.5  152.4    36.8   \n",
       "5685       1.0    complete_college  ...  112.0    74.0   65.7  162.4    24.9   \n",
       "5689       2.0  incomplete_college  ...  118.0    78.0   51.9  149.3    23.3   \n",
       "5721       1.0    complete_college  ...  114.0    76.0   92.2  161.7    35.3   \n",
       "5724       1.0    complete_college  ...  122.0    84.0   58.2  166.9    20.9   \n",
       "\n",
       "      BMXLEG  BMXARML  BMXARMC  BMXWAIST  HIQ210  \n",
       "4       37.4     36.0     27.2      80.4     2.0  \n",
       "34       NaN      NaN      NaN       NaN     2.0  \n",
       "50      36.8     34.6     29.1      94.6     NaN  \n",
       "52      29.2     35.0     40.7     129.1     NaN  \n",
       "55      30.5     34.0     34.4     107.6     2.0  \n",
       "...      ...      ...      ...       ...     ...  \n",
       "5658    26.0     33.5     34.7     116.5     2.0  \n",
       "5685    37.2     36.0     29.8      89.0     2.0  \n",
       "5689    31.9     32.0     26.2      81.4     1.0  \n",
       "5721    41.5     37.5     38.9     110.9     2.0  \n",
       "5724    37.1     35.3     26.9      80.8     2.0  \n",
       "\n",
       "[787 rows x 28 columns]"
      ],
      "text/html": "<div>\n<style scoped>\n    .dataframe tbody tr th:only-of-type {\n        vertical-align: middle;\n    }\n\n    .dataframe tbody tr th {\n        vertical-align: top;\n    }\n\n    .dataframe thead th {\n        text-align: right;\n    }\n</style>\n<table border=\"1\" class=\"dataframe\">\n  <thead>\n    <tr style=\"text-align: right;\">\n      <th></th>\n      <th>SEQN</th>\n      <th>ALQ101</th>\n      <th>ALQ110</th>\n      <th>ALQ130</th>\n      <th>SMQ020</th>\n      <th>RIAGENDR</th>\n      <th>RIDAGEYR</th>\n      <th>RIDRETH1</th>\n      <th>DMDCITZN</th>\n      <th>DMDEDUC2</th>\n      <th>...</th>\n      <th>BPXSY2</th>\n      <th>BPXDI2</th>\n      <th>BMXWT</th>\n      <th>BMXHT</th>\n      <th>BMXBMI</th>\n      <th>BMXLEG</th>\n      <th>BMXARML</th>\n      <th>BMXARMC</th>\n      <th>BMXWAIST</th>\n      <th>HIQ210</th>\n    </tr>\n  </thead>\n  <tbody>\n    <tr>\n      <th>4</th>\n      <td>83736</td>\n      <td>2.0</td>\n      <td>1.0</td>\n      <td>1.0</td>\n      <td>2</td>\n      <td>2</td>\n      <td>42</td>\n      <td>4</td>\n      <td>1.0</td>\n      <td>incomplete_college</td>\n      <td>...</td>\n      <td>114.0</td>\n      <td>54.0</td>\n      <td>55.2</td>\n      <td>164.9</td>\n      <td>20.3</td>\n      <td>37.4</td>\n      <td>36.0</td>\n      <td>27.2</td>\n      <td>80.4</td>\n      <td>2.0</td>\n    </tr>\n    <tr>\n      <th>34</th>\n      <td>83799</td>\n      <td>NaN</td>\n      <td>NaN</td>\n      <td>NaN</td>\n      <td>2</td>\n      <td>2</td>\n      <td>37</td>\n      <td>2</td>\n      <td>1.0</td>\n      <td>incomplete_college</td>\n      <td>...</td>\n      <td>110.0</td>\n      <td>72.0</td>\n      <td>66.6</td>\n      <td>161.6</td>\n      <td>25.5</td>\n      <td>NaN</td>\n      <td>NaN</td>\n      <td>NaN</td>\n      <td>NaN</td>\n      <td>2.0</td>\n    </tr>\n    <tr>\n      <th>50</th>\n      <td>83828</td>\n      <td>1.0</td>\n      <td>NaN</td>\n      <td>2.0</td>\n      <td>2</td>\n      <td>2</td>\n      <td>39</td>\n      <td>1</td>\n      <td>2.0</td>\n      <td>incomplete_college</td>\n      <td>...</td>\n      <td>100.0</td>\n      <td>62.0</td>\n      <td>71.3</td>\n      <td>162.0</td>\n      <td>27.2</td>\n      <td>36.8</td>\n      <td>34.6</td>\n      <td>29.1</td>\n      <td>94.6</td>\n      <td>NaN</td>\n    </tr>\n    <tr>\n      <th>52</th>\n      <td>83832</td>\n      <td>2.0</td>\n      <td>1.0</td>\n      <td>4.0</td>\n      <td>2</td>\n      <td>2</td>\n      <td>50</td>\n      <td>1</td>\n      <td>2.0</td>\n      <td>incomplete_college</td>\n      <td>...</td>\n      <td>NaN</td>\n      <td>NaN</td>\n      <td>105.9</td>\n      <td>157.7</td>\n      <td>42.6</td>\n      <td>29.2</td>\n      <td>35.0</td>\n      <td>40.7</td>\n      <td>129.1</td>\n      <td>NaN</td>\n    </tr>\n    <tr>\n      <th>55</th>\n      <td>83837</td>\n      <td>2.0</td>\n      <td>2.0</td>\n      <td>NaN</td>\n      <td>2</td>\n      <td>2</td>\n      <td>45</td>\n      <td>1</td>\n      <td>1.0</td>\n      <td>incomplete_college</td>\n      <td>...</td>\n      <td>114.0</td>\n      <td>68.0</td>\n      <td>77.5</td>\n      <td>148.3</td>\n      <td>35.2</td>\n      <td>30.5</td>\n      <td>34.0</td>\n      <td>34.4</td>\n      <td>107.6</td>\n      <td>2.0</td>\n    </tr>\n    <tr>\n      <th>...</th>\n      <td>...</td>\n      <td>...</td>\n      <td>...</td>\n      <td>...</td>\n      <td>...</td>\n      <td>...</td>\n      <td>...</td>\n      <td>...</td>\n      <td>...</td>\n      <td>...</td>\n      <td>...</td>\n      <td>...</td>\n      <td>...</td>\n      <td>...</td>\n      <td>...</td>\n      <td>...</td>\n      <td>...</td>\n      <td>...</td>\n      <td>...</td>\n      <td>...</td>\n      <td>...</td>\n    </tr>\n    <tr>\n      <th>5658</th>\n      <td>93568</td>\n      <td>1.0</td>\n      <td>NaN</td>\n      <td>1.0</td>\n      <td>1</td>\n      <td>2</td>\n      <td>46</td>\n      <td>3</td>\n      <td>1.0</td>\n      <td>incomplete_college</td>\n      <td>...</td>\n      <td>128.0</td>\n      <td>84.0</td>\n      <td>85.5</td>\n      <td>152.4</td>\n      <td>36.8</td>\n      <td>26.0</td>\n      <td>33.5</td>\n      <td>34.7</td>\n      <td>116.5</td>\n      <td>2.0</td>\n    </tr>\n    <tr>\n      <th>5685</th>\n      <td>93612</td>\n      <td>2.0</td>\n      <td>2.0</td>\n      <td>NaN</td>\n      <td>2</td>\n      <td>2</td>\n      <td>36</td>\n      <td>5</td>\n      <td>1.0</td>\n      <td>complete_college</td>\n      <td>...</td>\n      <td>112.0</td>\n      <td>74.0</td>\n      <td>65.7</td>\n      <td>162.4</td>\n      <td>24.9</td>\n      <td>37.2</td>\n      <td>36.0</td>\n      <td>29.8</td>\n      <td>89.0</td>\n      <td>2.0</td>\n    </tr>\n    <tr>\n      <th>5689</th>\n      <td>93619</td>\n      <td>NaN</td>\n      <td>NaN</td>\n      <td>NaN</td>\n      <td>2</td>\n      <td>2</td>\n      <td>44</td>\n      <td>5</td>\n      <td>2.0</td>\n      <td>incomplete_college</td>\n      <td>...</td>\n      <td>118.0</td>\n      <td>78.0</td>\n      <td>51.9</td>\n      <td>149.3</td>\n      <td>23.3</td>\n      <td>31.9</td>\n      <td>32.0</td>\n      <td>26.2</td>\n      <td>81.4</td>\n      <td>1.0</td>\n    </tr>\n    <tr>\n      <th>5721</th>\n      <td>93676</td>\n      <td>1.0</td>\n      <td>NaN</td>\n      <td>2.0</td>\n      <td>2</td>\n      <td>2</td>\n      <td>35</td>\n      <td>4</td>\n      <td>1.0</td>\n      <td>complete_college</td>\n      <td>...</td>\n      <td>114.0</td>\n      <td>76.0</td>\n      <td>92.2</td>\n      <td>161.7</td>\n      <td>35.3</td>\n      <td>41.5</td>\n      <td>37.5</td>\n      <td>38.9</td>\n      <td>110.9</td>\n      <td>2.0</td>\n    </tr>\n    <tr>\n      <th>5724</th>\n      <td>93682</td>\n      <td>NaN</td>\n      <td>NaN</td>\n      <td>NaN</td>\n      <td>2</td>\n      <td>2</td>\n      <td>41</td>\n      <td>5</td>\n      <td>1.0</td>\n      <td>complete_college</td>\n      <td>...</td>\n      <td>122.0</td>\n      <td>84.0</td>\n      <td>58.2</td>\n      <td>166.9</td>\n      <td>20.9</td>\n      <td>37.1</td>\n      <td>35.3</td>\n      <td>26.9</td>\n      <td>80.8</td>\n      <td>2.0</td>\n    </tr>\n  </tbody>\n</table>\n<p>787 rows × 28 columns</p>\n</div>"
     },
     "metadata": {},
     "execution_count": 20
    }
   ],
   "source": [
    "female_35_50"
   ]
  },
  {
   "cell_type": "code",
   "execution_count": 101,
   "metadata": {},
   "outputs": [
    {
     "output_type": "execute_result",
     "data": {
      "text/plain": [
       "                               DMDEDUC2\n",
       "                                   size\n",
       "DMDMARTL    DMDEDUC2                   \n",
       "married     complete_college        162\n",
       "            incomplete_college      287\n",
       "not_married complete_college         72\n",
       "            incomplete_college      266"
      ],
      "text/html": "<div>\n<style scoped>\n    .dataframe tbody tr th:only-of-type {\n        vertical-align: middle;\n    }\n\n    .dataframe tbody tr th {\n        vertical-align: top;\n    }\n\n    .dataframe thead tr th {\n        text-align: left;\n    }\n\n    .dataframe thead tr:last-of-type th {\n        text-align: right;\n    }\n</style>\n<table border=\"1\" class=\"dataframe\">\n  <thead>\n    <tr>\n      <th></th>\n      <th></th>\n      <th>DMDEDUC2</th>\n    </tr>\n    <tr>\n      <th></th>\n      <th></th>\n      <th>size</th>\n    </tr>\n    <tr>\n      <th>DMDMARTL</th>\n      <th>DMDEDUC2</th>\n      <th></th>\n    </tr>\n  </thead>\n  <tbody>\n    <tr>\n      <th rowspan=\"2\" valign=\"top\">married</th>\n      <th>complete_college</th>\n      <td>162</td>\n    </tr>\n    <tr>\n      <th>incomplete_college</th>\n      <td>287</td>\n    </tr>\n    <tr>\n      <th rowspan=\"2\" valign=\"top\">not_married</th>\n      <th>complete_college</th>\n      <td>72</td>\n    </tr>\n    <tr>\n      <th>incomplete_college</th>\n      <td>266</td>\n    </tr>\n  </tbody>\n</table>\n</div>"
     },
     "metadata": {},
     "execution_count": 101
    }
   ],
   "source": [
    "female_35_50.groupby(['DMDMARTL', 'DMDEDUC2']).agg({'DMDEDUC2': [np.size]})"
   ]
  },
  {
   "cell_type": "code",
   "execution_count": 108,
   "metadata": {},
   "outputs": [],
   "source": [
    "#female_35_50.groupby(['DMDMARTL', 'DMDEDUC2']).agg({'DMDEDUC2': [np.size], 'DMDMARTL': [np.size, len]})# / len(female_35_50)"
   ]
  },
  {
   "cell_type": "code",
   "execution_count": 37,
   "metadata": {},
   "outputs": [],
   "source": [
    "female_35_50_MC = pd.crosstab(female_35_50['DMDMARTL'], female_35_50['DMDEDUC2'])"
   ]
  },
  {
   "cell_type": "code",
   "execution_count": 39,
   "metadata": {},
   "outputs": [
    {
     "output_type": "execute_result",
     "data": {
      "text/plain": [
       "DMDEDUC2     complete_college  incomplete_college\n",
       "DMDMARTL                                         \n",
       "married                   162                 287\n",
       "not_married                72                 266"
      ],
      "text/html": "<div>\n<style scoped>\n    .dataframe tbody tr th:only-of-type {\n        vertical-align: middle;\n    }\n\n    .dataframe tbody tr th {\n        vertical-align: top;\n    }\n\n    .dataframe thead th {\n        text-align: right;\n    }\n</style>\n<table border=\"1\" class=\"dataframe\">\n  <thead>\n    <tr style=\"text-align: right;\">\n      <th>DMDEDUC2</th>\n      <th>complete_college</th>\n      <th>incomplete_college</th>\n    </tr>\n    <tr>\n      <th>DMDMARTL</th>\n      <th></th>\n      <th></th>\n    </tr>\n  </thead>\n  <tbody>\n    <tr>\n      <th>married</th>\n      <td>162</td>\n      <td>287</td>\n    </tr>\n    <tr>\n      <th>not_married</th>\n      <td>72</td>\n      <td>266</td>\n    </tr>\n  </tbody>\n</table>\n</div>"
     },
     "metadata": {},
     "execution_count": 39
    }
   ],
   "source": [
    "female_35_50_MC"
   ]
  },
  {
   "cell_type": "code",
   "execution_count": 47,
   "metadata": {},
   "outputs": [],
   "source": [
    "total = female_35_50_MC.sum(axis=1).sum()\n",
    "married_women = female_35_50_MC.sum(axis=1)[0]\n",
    "unmarried_women = female_35_50_MC.sum(axis=1)[1]\n",
    "unmarried_women_col = female_35_50_MC.iloc[1][0]\n",
    "married_women_col = female_35_50_MC.iloc[0][0]\n"
   ]
  },
  {
   "cell_type": "code",
   "execution_count": 48,
   "metadata": {},
   "outputs": [
    {
     "output_type": "execute_result",
     "data": {
      "text/plain": [
       "787"
      ]
     },
     "metadata": {},
     "execution_count": 48
    }
   ],
   "source": [
    "total"
   ]
  },
  {
   "cell_type": "code",
   "execution_count": 49,
   "metadata": {},
   "outputs": [
    {
     "output_type": "execute_result",
     "data": {
      "text/plain": [
       "(449, 338)"
      ]
     },
     "metadata": {},
     "execution_count": 49
    }
   ],
   "source": [
    "married_women, unmarried_women"
   ]
  },
  {
   "cell_type": "code",
   "execution_count": 50,
   "metadata": {},
   "outputs": [
    {
     "output_type": "execute_result",
     "data": {
      "text/plain": [
       "(162, 72)"
      ]
     },
     "metadata": {},
     "execution_count": 50
    }
   ],
   "source": [
    "married_women_col, unmarried_women_col"
   ]
  },
  {
   "cell_type": "code",
   "execution_count": 51,
   "metadata": {},
   "outputs": [
    {
     "output_type": "execute_result",
     "data": {
      "text/plain": [
       "(0.36080178173719374, 0.21301775147928995)"
      ]
     },
     "metadata": {},
     "execution_count": 51
    }
   ],
   "source": [
    "p_mw_in_col = married_women_col / married_women\n",
    "p_umw_in_col = unmarried_women_col / unmarried_women\n",
    "\n",
    "p_mw_in_col, p_umw_in_col"
   ]
  },
  {
   "cell_type": "code",
   "execution_count": 52,
   "metadata": {},
   "outputs": [
    {
     "output_type": "execute_result",
     "data": {
      "text/plain": [
       "0.03773067783095193"
      ]
     },
     "metadata": {},
     "execution_count": 52
    }
   ],
   "source": [
    "np.sqrt(p_mw_in_col * (1 - p_mw_in_col) / married_women_col)"
   ]
  },
  {
   "cell_type": "code",
   "execution_count": 53,
   "metadata": {},
   "outputs": [
    {
     "output_type": "execute_result",
     "data": {
      "text/plain": [
       "0.04825297760443814"
      ]
     },
     "metadata": {},
     "execution_count": 53
    }
   ],
   "source": [
    "np.sqrt(p_umw_in_col * (1 - p_umw_in_col) / unmarried_women_col)"
   ]
  },
  {
   "source": [
    "\n",
    "### Confidence Interval Formula\n",
    "#### lcb = p - 1.96 * np.sqrt(p * (1 - p) / n)  \n",
    "#### ucb = p + 1.96 * np.sqrt(p * (1 - p) / n) "
   ],
   "cell_type": "markdown",
   "metadata": {}
  },
  {
   "cell_type": "code",
   "execution_count": 54,
   "metadata": {},
   "outputs": [],
   "source": [
    "lcb_mw = p_mw_in_col - 1.96 * np.sqrt(p_mw_in_col * (1 - p_mw_in_col) / married_women)\n",
    "ucb_mw = p_mw_in_col + 1.96 * np.sqrt(p_mw_in_col * (1 - p_mw_in_col) / married_women) "
   ]
  },
  {
   "cell_type": "code",
   "execution_count": 55,
   "metadata": {},
   "outputs": [
    {
     "output_type": "execute_result",
     "data": {
      "text/plain": [
       "(0.3163811208674688, 0.4052224426069187)"
      ]
     },
     "metadata": {},
     "execution_count": 55
    }
   ],
   "source": [
    "lcb_mw, ucb_mw"
   ]
  },
  {
   "cell_type": "code",
   "execution_count": 56,
   "metadata": {},
   "outputs": [
    {
     "output_type": "execute_result",
     "data": {
      "text/plain": [
       "(0.31638193710753626, 0.4052216263668512)"
      ]
     },
     "metadata": {},
     "execution_count": 56
    }
   ],
   "source": [
    "sm.stats.proportion_confint(married_women_col, married_women) "
   ]
  },
  {
   "cell_type": "code",
   "execution_count": 57,
   "metadata": {},
   "outputs": [],
   "source": [
    "lcb_umw = p_umw_in_col - 1.96 * np.sqrt(p_umw_in_col * (1 - p_umw_in_col) / unmarried_women)\n",
    "ucb_umw = p_umw_in_col + 1.96 * np.sqrt(p_umw_in_col * (1 - p_umw_in_col) / unmarried_women) "
   ]
  },
  {
   "cell_type": "code",
   "execution_count": 58,
   "metadata": {},
   "outputs": [
    {
     "output_type": "execute_result",
     "data": {
      "text/plain": [
       "(0.1693673655848136, 0.25666813737376626)"
      ]
     },
     "metadata": {},
     "execution_count": 58
    }
   ],
   "source": [
    "lcb_umw, ucb_umw"
   ]
  },
  {
   "cell_type": "code",
   "execution_count": 59,
   "metadata": {},
   "outputs": [
    {
     "output_type": "execute_result",
     "data": {
      "text/plain": [
       "(0.16936816767089768, 0.2566673352876822)"
      ]
     },
     "metadata": {},
     "execution_count": 59
    }
   ],
   "source": [
    "sm.stats.proportion_confint(unmarried_women_col, unmarried_women) "
   ]
  },
  {
   "cell_type": "markdown",
   "metadata": {},
   "source": [
    "__Q1a.__ Identify which of the two confidence intervals is wider, and explain why this is the case. "
   ]
  },
  {
   "cell_type": "code",
   "execution_count": 60,
   "metadata": {},
   "outputs": [
    {
     "output_type": "execute_result",
     "data": {
      "text/plain": [
       "0.08730077178895265"
      ]
     },
     "metadata": {},
     "execution_count": 60
    }
   ],
   "source": [
    " ci_range1 = ucb_umw -lcb_umw\n",
    " ci_range1"
   ]
  },
  {
   "cell_type": "code",
   "execution_count": 61,
   "metadata": {},
   "outputs": [
    {
     "output_type": "execute_result",
     "data": {
      "text/plain": [
       "0.08884132173944992"
      ]
     },
     "metadata": {},
     "execution_count": 61
    }
   ],
   "source": [
    "ci_range2 = ucb_mw - lcb_mw\n",
    "ci_range2"
   ]
  },
  {
   "source": [
    "### Though, not a great difference from the unmarried women, the confidence interval of the married women is wider. This most likely is due to lesser sample size because there is inverse square root relationship between confidence intervals and sample sizes. Also a higher standard error would translate to a higher confidence interval."
   ],
   "cell_type": "markdown",
   "metadata": {}
  },
  {
   "cell_type": "markdown",
   "metadata": {},
   "source": []
  },
  {
   "cell_type": "markdown",
   "metadata": {},
   "source": [
    "__Q1b.__ Write 1-2 sentences summarizing these findings for an audience that does not know what a confidence interval is (the goal here is to report the substance of what you learned about how marital status and educational attainment are related, not to teach a person what a confidence interval is)."
   ]
  },
  {
   "cell_type": "markdown",
   "metadata": {},
   "source": [
    "There is 95% certainty that out of every 100 women, if unmarried, 78 to 82 would complete college and if married, only 66 to 71 would complete college. \n",
    "From this, we can deduce that unmarried women are more likely to go further in their education."
   ]
  },
  {
   "cell_type": "markdown",
   "metadata": {},
   "source": [
    "## Question 2\n",
    "\n",
    "Construct 95% confidence intervals for the proportion of smokers who are female, and for the proportion of smokers who are male.  Then construct a 95% confidence interval for the difference between these proportions."
   ]
  },
  {
   "cell_type": "code",
   "execution_count": 62,
   "metadata": {},
   "outputs": [
    {
     "output_type": "execute_result",
     "data": {
      "text/plain": [
       "    SEQN  ALQ101  ALQ110  ALQ130  SMQ020  RIAGENDR  RIDAGEYR  RIDRETH1  \\\n",
       "0  83732     1.0     NaN     1.0       1         1        62         3   \n",
       "1  83733     1.0     NaN     6.0       1         1        53         3   \n",
       "2  83734     1.0     NaN     NaN       1         1        78         3   \n",
       "3  83735     2.0     1.0     1.0       2         2        56         3   \n",
       "4  83736     2.0     1.0     1.0       2         2        42         4   \n",
       "\n",
       "   DMDCITZN  DMDEDUC2  ...  BPXSY2  BPXDI2  BMXWT  BMXHT  BMXBMI  BMXLEG  \\\n",
       "0       1.0       5.0  ...   124.0    64.0   94.8  184.5    27.8    43.3   \n",
       "1       2.0       3.0  ...   140.0    88.0   90.4  171.4    30.8    38.0   \n",
       "2       1.0       3.0  ...   132.0    44.0   83.4  170.1    28.8    35.6   \n",
       "3       1.0       5.0  ...   134.0    68.0  109.8  160.9    42.4    38.5   \n",
       "4       1.0       4.0  ...   114.0    54.0   55.2  164.9    20.3    37.4   \n",
       "\n",
       "   BMXARML  BMXARMC  BMXWAIST  HIQ210  \n",
       "0     43.6     35.9     101.1     2.0  \n",
       "1     40.0     33.2     107.9     NaN  \n",
       "2     37.0     31.0     116.5     2.0  \n",
       "3     37.7     38.3     110.1     2.0  \n",
       "4     36.0     27.2      80.4     2.0  \n",
       "\n",
       "[5 rows x 28 columns]"
      ],
      "text/html": "<div>\n<style scoped>\n    .dataframe tbody tr th:only-of-type {\n        vertical-align: middle;\n    }\n\n    .dataframe tbody tr th {\n        vertical-align: top;\n    }\n\n    .dataframe thead th {\n        text-align: right;\n    }\n</style>\n<table border=\"1\" class=\"dataframe\">\n  <thead>\n    <tr style=\"text-align: right;\">\n      <th></th>\n      <th>SEQN</th>\n      <th>ALQ101</th>\n      <th>ALQ110</th>\n      <th>ALQ130</th>\n      <th>SMQ020</th>\n      <th>RIAGENDR</th>\n      <th>RIDAGEYR</th>\n      <th>RIDRETH1</th>\n      <th>DMDCITZN</th>\n      <th>DMDEDUC2</th>\n      <th>...</th>\n      <th>BPXSY2</th>\n      <th>BPXDI2</th>\n      <th>BMXWT</th>\n      <th>BMXHT</th>\n      <th>BMXBMI</th>\n      <th>BMXLEG</th>\n      <th>BMXARML</th>\n      <th>BMXARMC</th>\n      <th>BMXWAIST</th>\n      <th>HIQ210</th>\n    </tr>\n  </thead>\n  <tbody>\n    <tr>\n      <th>0</th>\n      <td>83732</td>\n      <td>1.0</td>\n      <td>NaN</td>\n      <td>1.0</td>\n      <td>1</td>\n      <td>1</td>\n      <td>62</td>\n      <td>3</td>\n      <td>1.0</td>\n      <td>5.0</td>\n      <td>...</td>\n      <td>124.0</td>\n      <td>64.0</td>\n      <td>94.8</td>\n      <td>184.5</td>\n      <td>27.8</td>\n      <td>43.3</td>\n      <td>43.6</td>\n      <td>35.9</td>\n      <td>101.1</td>\n      <td>2.0</td>\n    </tr>\n    <tr>\n      <th>1</th>\n      <td>83733</td>\n      <td>1.0</td>\n      <td>NaN</td>\n      <td>6.0</td>\n      <td>1</td>\n      <td>1</td>\n      <td>53</td>\n      <td>3</td>\n      <td>2.0</td>\n      <td>3.0</td>\n      <td>...</td>\n      <td>140.0</td>\n      <td>88.0</td>\n      <td>90.4</td>\n      <td>171.4</td>\n      <td>30.8</td>\n      <td>38.0</td>\n      <td>40.0</td>\n      <td>33.2</td>\n      <td>107.9</td>\n      <td>NaN</td>\n    </tr>\n    <tr>\n      <th>2</th>\n      <td>83734</td>\n      <td>1.0</td>\n      <td>NaN</td>\n      <td>NaN</td>\n      <td>1</td>\n      <td>1</td>\n      <td>78</td>\n      <td>3</td>\n      <td>1.0</td>\n      <td>3.0</td>\n      <td>...</td>\n      <td>132.0</td>\n      <td>44.0</td>\n      <td>83.4</td>\n      <td>170.1</td>\n      <td>28.8</td>\n      <td>35.6</td>\n      <td>37.0</td>\n      <td>31.0</td>\n      <td>116.5</td>\n      <td>2.0</td>\n    </tr>\n    <tr>\n      <th>3</th>\n      <td>83735</td>\n      <td>2.0</td>\n      <td>1.0</td>\n      <td>1.0</td>\n      <td>2</td>\n      <td>2</td>\n      <td>56</td>\n      <td>3</td>\n      <td>1.0</td>\n      <td>5.0</td>\n      <td>...</td>\n      <td>134.0</td>\n      <td>68.0</td>\n      <td>109.8</td>\n      <td>160.9</td>\n      <td>42.4</td>\n      <td>38.5</td>\n      <td>37.7</td>\n      <td>38.3</td>\n      <td>110.1</td>\n      <td>2.0</td>\n    </tr>\n    <tr>\n      <th>4</th>\n      <td>83736</td>\n      <td>2.0</td>\n      <td>1.0</td>\n      <td>1.0</td>\n      <td>2</td>\n      <td>2</td>\n      <td>42</td>\n      <td>4</td>\n      <td>1.0</td>\n      <td>4.0</td>\n      <td>...</td>\n      <td>114.0</td>\n      <td>54.0</td>\n      <td>55.2</td>\n      <td>164.9</td>\n      <td>20.3</td>\n      <td>37.4</td>\n      <td>36.0</td>\n      <td>27.2</td>\n      <td>80.4</td>\n      <td>2.0</td>\n    </tr>\n  </tbody>\n</table>\n<p>5 rows × 28 columns</p>\n</div>"
     },
     "metadata": {},
     "execution_count": 62
    }
   ],
   "source": [
    "# enter your code here\n",
    "df.head()"
   ]
  },
  {
   "cell_type": "code",
   "execution_count": 63,
   "metadata": {},
   "outputs": [],
   "source": [
    "df[\"SMQ020x\"] = df.SMQ020.replace({1: \"Yes\", 2: \"No\", 7: np.nan, 9: np.nan})  \n",
    "df[\"RIAGENDRx\"] = df.RIAGENDR.replace({1: \"Male\", 2: \"Female\"})"
   ]
  },
  {
   "cell_type": "code",
   "execution_count": 64,
   "metadata": {},
   "outputs": [
    {
     "output_type": "execute_result",
     "data": {
      "text/plain": [
       "SMQ020x      No   Yes\n",
       "RIAGENDRx            \n",
       "Female     2066   906\n",
       "Male       1340  1413"
      ],
      "text/html": "<div>\n<style scoped>\n    .dataframe tbody tr th:only-of-type {\n        vertical-align: middle;\n    }\n\n    .dataframe tbody tr th {\n        vertical-align: top;\n    }\n\n    .dataframe thead th {\n        text-align: right;\n    }\n</style>\n<table border=\"1\" class=\"dataframe\">\n  <thead>\n    <tr style=\"text-align: right;\">\n      <th>SMQ020x</th>\n      <th>No</th>\n      <th>Yes</th>\n    </tr>\n    <tr>\n      <th>RIAGENDRx</th>\n      <th></th>\n      <th></th>\n    </tr>\n  </thead>\n  <tbody>\n    <tr>\n      <th>Female</th>\n      <td>2066</td>\n      <td>906</td>\n    </tr>\n    <tr>\n      <th>Male</th>\n      <td>1340</td>\n      <td>1413</td>\n    </tr>\n  </tbody>\n</table>\n</div>"
     },
     "metadata": {},
     "execution_count": 64
    }
   ],
   "source": [
    "smokers = df[[\"SMQ020x\", \"RIAGENDRx\"]].dropna()\n",
    "pd.crosstab( smokers.RIAGENDRx, smokers.SMQ020x)"
   ]
  },
  {
   "cell_type": "code",
   "execution_count": 65,
   "metadata": {},
   "outputs": [
    {
     "output_type": "execute_result",
     "data": {
      "text/plain": [
       "           Proportion  Total_n\n",
       "RIAGENDRx                     \n",
       "Female       0.304845     2972\n",
       "Male         0.513258     2753"
      ],
      "text/html": "<div>\n<style scoped>\n    .dataframe tbody tr th:only-of-type {\n        vertical-align: middle;\n    }\n\n    .dataframe tbody tr th {\n        vertical-align: top;\n    }\n\n    .dataframe thead th {\n        text-align: right;\n    }\n</style>\n<table border=\"1\" class=\"dataframe\">\n  <thead>\n    <tr style=\"text-align: right;\">\n      <th></th>\n      <th>Proportion</th>\n      <th>Total_n</th>\n    </tr>\n    <tr>\n      <th>RIAGENDRx</th>\n      <th></th>\n      <th></th>\n    </tr>\n  </thead>\n  <tbody>\n    <tr>\n      <th>Female</th>\n      <td>0.304845</td>\n      <td>2972</td>\n    </tr>\n    <tr>\n      <th>Male</th>\n      <td>0.513258</td>\n      <td>2753</td>\n    </tr>\n  </tbody>\n</table>\n</div>"
     },
     "metadata": {},
     "execution_count": 65
    }
   ],
   "source": [
    "smokers_prop = smokers.groupby(smokers.RIAGENDRx).agg({\"SMQ020x\": [lambda x: np.mean(x==\"Yes\"), np.size]})\n",
    "smokers_prop.columns = [\"Proportion\", \"Total_n\"] \n",
    "smokers_prop"
   ]
  },
  {
   "cell_type": "code",
   "execution_count": 66,
   "metadata": {},
   "outputs": [
    {
     "output_type": "stream",
     "name": "stdout",
     "text": [
      "0.008444152146214435\n0.009526078653689868\n"
     ]
    }
   ],
   "source": [
    "p_female = smokers_prop.Proportion.Female \n",
    "n_female = smokers_prop.Total_n.Female \n",
    "se_female = np.sqrt(p_female * (1 - p_female) / n_female)\n",
    "print(se_female)\n",
    "\n",
    "p_male = smokers_prop.Proportion.Male \n",
    "n_male = smokers_prop[\"Total_n\"].Male \n",
    "se_male = np.sqrt(p_male * (1 - p_male) / n_male)\n",
    "print(se_male)"
   ]
  },
  {
   "cell_type": "code",
   "execution_count": 67,
   "metadata": {},
   "outputs": [
    {
     "output_type": "stream",
     "name": "stdout",
     "text": [
      "0.288294683866098 0.32139576027925865\n"
     ]
    }
   ],
   "source": [
    "\n",
    "lcb_female = p_female - 1.96 * np.sqrt(p_female * (1 - p_female) / n_female)  \n",
    "ucb_female = p_female + 1.96 * np.sqrt(p_female * (1 - p_female) / n_female)  \n",
    "print(lcb_female, ucb_female)"
   ]
  },
  {
   "cell_type": "code",
   "execution_count": 68,
   "metadata": {},
   "outputs": [
    {
     "output_type": "stream",
     "name": "stdout",
     "text": [
      "0.49458714955108174 0.531929377873546\n"
     ]
    }
   ],
   "source": [
    "\n",
    "lcb_male = p_male - 1.96 * np.sqrt(p_male * (1 - p_male) / n_male)  \n",
    "ucb_male = p_male + 1.96 * np.sqrt(p_male * (1 - p_male) / n_male)  \n",
    "print(lcb_male, ucb_male)"
   ]
  },
  {
   "cell_type": "code",
   "execution_count": 69,
   "metadata": {},
   "outputs": [
    {
     "output_type": "execute_result",
     "data": {
      "text/plain": [
       "0.012729881381407434"
      ]
     },
     "metadata": {},
     "execution_count": 69
    }
   ],
   "source": [
    "se_diff = np.sqrt(se_female**2 + se_male**2)\n",
    "se_diff"
   ]
  },
  {
   "cell_type": "code",
   "execution_count": 70,
   "metadata": {},
   "outputs": [
    {
     "output_type": "stream",
     "name": "stdout",
     "text": [
      "-0.2338728044024504 -0.18295327887682067\n"
     ]
    }
   ],
   "source": [
    "d = smokers_prop.Proportion.Female - smokers_prop.Proportion.Male\n",
    "lcb = d - 2*se_diff\n",
    "ucb = d + 2*se_diff\n",
    "print(lcb, ucb)"
   ]
  },
  {
   "cell_type": "code",
   "execution_count": null,
   "metadata": {},
   "outputs": [],
   "source": []
  },
  {
   "cell_type": "markdown",
   "metadata": {},
   "source": [
    "__Q2a.__ Discuss why it may be relevant to report the proportions of smokers who are female and male, and contrast this to reporting the proportions of males and females who smoke."
   ]
  },
  {
   "cell_type": "markdown",
   "metadata": {},
   "source": []
  },
  {
   "cell_type": "markdown",
   "metadata": {},
   "source": [
    "\n",
    "__Q2b.__ How does the width of the confidence interval for the difference of the two proportions compare to the widths of the confidence intervals for each proportion separately?"
   ]
  },
  {
   "cell_type": "markdown",
   "metadata": {},
   "source": [
    "### Ans: \n",
    "\n",
    "The 95% confidence interval for the difference of the two proportions  tells us that any value for the difference of population proportions (between females and males) lying between -0.233 and -0.183 is consistent with the observed data"
   ]
  },
  {
   "source": [],
   "cell_type": "markdown",
   "metadata": {}
  },
  {
   "cell_type": "code",
   "execution_count": null,
   "metadata": {},
   "outputs": [],
   "source": []
  },
  {
   "cell_type": "markdown",
   "metadata": {},
   "source": [
    "## Question 3\n",
    "\n",
    "Construct a 95% interval for height ([BMXHT](https://wwwn.cdc.gov/Nchs/Nhanes/2015-2016/BMX_I.htm#BMXHT)) in centimeters.  Then convert height from centimeters to inches by dividing by 2.54, and construct a 95% confidence interval for height in inches.  Finally, convert the endpoints (the lower and upper confidence limits) of the confidence interval from inches to back to centimeters   "
   ]
  },
  {
   "cell_type": "code",
   "execution_count": 71,
   "metadata": {},
   "outputs": [
    {
     "output_type": "execute_result",
     "data": {
      "text/plain": [
       "    SEQN  ALQ101  ALQ110  ALQ130  SMQ020  RIAGENDR  RIDAGEYR  RIDRETH1  \\\n",
       "0  83732     1.0     NaN     1.0       1         1        62         3   \n",
       "1  83733     1.0     NaN     6.0       1         1        53         3   \n",
       "2  83734     1.0     NaN     NaN       1         1        78         3   \n",
       "3  83735     2.0     1.0     1.0       2         2        56         3   \n",
       "4  83736     2.0     1.0     1.0       2         2        42         4   \n",
       "\n",
       "   DMDCITZN  DMDEDUC2  ...  BMXWT  BMXHT  BMXBMI  BMXLEG  BMXARML  BMXARMC  \\\n",
       "0       1.0       5.0  ...   94.8  184.5    27.8    43.3     43.6     35.9   \n",
       "1       2.0       3.0  ...   90.4  171.4    30.8    38.0     40.0     33.2   \n",
       "2       1.0       3.0  ...   83.4  170.1    28.8    35.6     37.0     31.0   \n",
       "3       1.0       5.0  ...  109.8  160.9    42.4    38.5     37.7     38.3   \n",
       "4       1.0       4.0  ...   55.2  164.9    20.3    37.4     36.0     27.2   \n",
       "\n",
       "   BMXWAIST  HIQ210  SMQ020x  RIAGENDRx  \n",
       "0     101.1     2.0      Yes       Male  \n",
       "1     107.9     NaN      Yes       Male  \n",
       "2     116.5     2.0      Yes       Male  \n",
       "3     110.1     2.0       No     Female  \n",
       "4      80.4     2.0       No     Female  \n",
       "\n",
       "[5 rows x 30 columns]"
      ],
      "text/html": "<div>\n<style scoped>\n    .dataframe tbody tr th:only-of-type {\n        vertical-align: middle;\n    }\n\n    .dataframe tbody tr th {\n        vertical-align: top;\n    }\n\n    .dataframe thead th {\n        text-align: right;\n    }\n</style>\n<table border=\"1\" class=\"dataframe\">\n  <thead>\n    <tr style=\"text-align: right;\">\n      <th></th>\n      <th>SEQN</th>\n      <th>ALQ101</th>\n      <th>ALQ110</th>\n      <th>ALQ130</th>\n      <th>SMQ020</th>\n      <th>RIAGENDR</th>\n      <th>RIDAGEYR</th>\n      <th>RIDRETH1</th>\n      <th>DMDCITZN</th>\n      <th>DMDEDUC2</th>\n      <th>...</th>\n      <th>BMXWT</th>\n      <th>BMXHT</th>\n      <th>BMXBMI</th>\n      <th>BMXLEG</th>\n      <th>BMXARML</th>\n      <th>BMXARMC</th>\n      <th>BMXWAIST</th>\n      <th>HIQ210</th>\n      <th>SMQ020x</th>\n      <th>RIAGENDRx</th>\n    </tr>\n  </thead>\n  <tbody>\n    <tr>\n      <th>0</th>\n      <td>83732</td>\n      <td>1.0</td>\n      <td>NaN</td>\n      <td>1.0</td>\n      <td>1</td>\n      <td>1</td>\n      <td>62</td>\n      <td>3</td>\n      <td>1.0</td>\n      <td>5.0</td>\n      <td>...</td>\n      <td>94.8</td>\n      <td>184.5</td>\n      <td>27.8</td>\n      <td>43.3</td>\n      <td>43.6</td>\n      <td>35.9</td>\n      <td>101.1</td>\n      <td>2.0</td>\n      <td>Yes</td>\n      <td>Male</td>\n    </tr>\n    <tr>\n      <th>1</th>\n      <td>83733</td>\n      <td>1.0</td>\n      <td>NaN</td>\n      <td>6.0</td>\n      <td>1</td>\n      <td>1</td>\n      <td>53</td>\n      <td>3</td>\n      <td>2.0</td>\n      <td>3.0</td>\n      <td>...</td>\n      <td>90.4</td>\n      <td>171.4</td>\n      <td>30.8</td>\n      <td>38.0</td>\n      <td>40.0</td>\n      <td>33.2</td>\n      <td>107.9</td>\n      <td>NaN</td>\n      <td>Yes</td>\n      <td>Male</td>\n    </tr>\n    <tr>\n      <th>2</th>\n      <td>83734</td>\n      <td>1.0</td>\n      <td>NaN</td>\n      <td>NaN</td>\n      <td>1</td>\n      <td>1</td>\n      <td>78</td>\n      <td>3</td>\n      <td>1.0</td>\n      <td>3.0</td>\n      <td>...</td>\n      <td>83.4</td>\n      <td>170.1</td>\n      <td>28.8</td>\n      <td>35.6</td>\n      <td>37.0</td>\n      <td>31.0</td>\n      <td>116.5</td>\n      <td>2.0</td>\n      <td>Yes</td>\n      <td>Male</td>\n    </tr>\n    <tr>\n      <th>3</th>\n      <td>83735</td>\n      <td>2.0</td>\n      <td>1.0</td>\n      <td>1.0</td>\n      <td>2</td>\n      <td>2</td>\n      <td>56</td>\n      <td>3</td>\n      <td>1.0</td>\n      <td>5.0</td>\n      <td>...</td>\n      <td>109.8</td>\n      <td>160.9</td>\n      <td>42.4</td>\n      <td>38.5</td>\n      <td>37.7</td>\n      <td>38.3</td>\n      <td>110.1</td>\n      <td>2.0</td>\n      <td>No</td>\n      <td>Female</td>\n    </tr>\n    <tr>\n      <th>4</th>\n      <td>83736</td>\n      <td>2.0</td>\n      <td>1.0</td>\n      <td>1.0</td>\n      <td>2</td>\n      <td>2</td>\n      <td>42</td>\n      <td>4</td>\n      <td>1.0</td>\n      <td>4.0</td>\n      <td>...</td>\n      <td>55.2</td>\n      <td>164.9</td>\n      <td>20.3</td>\n      <td>37.4</td>\n      <td>36.0</td>\n      <td>27.2</td>\n      <td>80.4</td>\n      <td>2.0</td>\n      <td>No</td>\n      <td>Female</td>\n    </tr>\n  </tbody>\n</table>\n<p>5 rows × 30 columns</p>\n</div>"
     },
     "metadata": {},
     "execution_count": 71
    }
   ],
   "source": [
    "# enter your code here\n",
    "df.head()"
   ]
  },
  {
   "cell_type": "code",
   "execution_count": 72,
   "metadata": {},
   "outputs": [],
   "source": [
    "heights = df['BMXHT']\n",
    "height_cm_mean = np.mean(heights)\n",
    "height_cm_std = np.std(heights)"
   ]
  },
  {
   "cell_type": "code",
   "execution_count": 73,
   "metadata": {},
   "outputs": [],
   "source": [
    "height_inches_mean = np.mean(heights / 2.54)\n",
    "height_inches_std = np.std(heights / 2.54)"
   ]
  },
  {
   "cell_type": "code",
   "execution_count": 74,
   "metadata": {},
   "outputs": [
    {
     "output_type": "execute_result",
     "data": {
      "text/plain": [
       "(166.1428344791116, 10.078375319383921)"
      ]
     },
     "metadata": {},
     "execution_count": 74
    }
   ],
   "source": [
    "height_cm_mean, height_cm_std"
   ]
  },
  {
   "cell_type": "code",
   "execution_count": 75,
   "metadata": {},
   "outputs": [
    {
     "output_type": "execute_result",
     "data": {
      "text/plain": [
       "5735"
      ]
     },
     "metadata": {},
     "execution_count": 75
    }
   ],
   "source": [
    "len(heights)"
   ]
  },
  {
   "cell_type": "code",
   "execution_count": 78,
   "metadata": {},
   "outputs": [],
   "source": [
    "lcb_height_cm = height_cm_mean - 1.96 * height_cm_std / np.sqrt(len(heights))\n",
    "ucb_height_cm = height_cm_mean + 1.96 * height_cm_std / np.sqrt(len(heights))"
   ]
  },
  {
   "cell_type": "code",
   "execution_count": 79,
   "metadata": {},
   "outputs": [
    {
     "output_type": "execute_result",
     "data": {
      "text/plain": [
       "(165.88199105792793, 166.40367790029526)"
      ]
     },
     "metadata": {},
     "execution_count": 79
    }
   ],
   "source": [
    "lcb_height_cm, ucb_height_cm"
   ]
  },
  {
   "cell_type": "code",
   "execution_count": 81,
   "metadata": {},
   "outputs": [
    {
     "output_type": "execute_result",
     "data": {
      "text/plain": [
       "(165.88055125872887, 166.40511769949427)"
      ]
     },
     "metadata": {},
     "execution_count": 81
    }
   ],
   "source": [
    "sm.stats.DescrStatsW(da['BMXHT'].dropna()).zconfint_mean()"
   ]
  },
  {
   "cell_type": "code",
   "execution_count": 82,
   "metadata": {},
   "outputs": [],
   "source": [
    "height_inches = da['BMXHT'].dropna() / 2.54"
   ]
  },
  {
   "cell_type": "code",
   "execution_count": 83,
   "metadata": {},
   "outputs": [
    {
     "output_type": "execute_result",
     "data": {
      "text/plain": [
       "(65.30730364516884, 65.51382586594264)"
      ]
     },
     "metadata": {},
     "execution_count": 83
    }
   ],
   "source": [
    "sm.stats.DescrStatsW(height_inches).zconfint_mean()"
   ]
  },
  {
   "cell_type": "code",
   "execution_count": 207,
   "metadata": {},
   "outputs": [],
   "source": [
    "#sm.stats.DescrStatsW.zconfint_mean(da['BMXHT'].values, alpha=0.05)"
   ]
  },
  {
   "cell_type": "code",
   "execution_count": 84,
   "metadata": {},
   "outputs": [],
   "source": [
    "lcb_height_inches = height_inches_mean - 1.96 * height_inches_std / np.sqrt(len(heights))\n",
    "ucb_height_inches = height_inches_mean + 1.96 * height_inches_std / np.sqrt(len(heights))"
   ]
  },
  {
   "cell_type": "code",
   "execution_count": 85,
   "metadata": {},
   "outputs": [
    {
     "output_type": "execute_result",
     "data": {
      "text/plain": [
       "(65.41056475555574, 3.9678642989700483)"
      ]
     },
     "metadata": {},
     "execution_count": 85
    }
   ],
   "source": [
    "height_inches_mean, height_inches_std"
   ]
  },
  {
   "cell_type": "code",
   "execution_count": 86,
   "metadata": {},
   "outputs": [
    {
     "output_type": "execute_result",
     "data": {
      "text/plain": [
       "(65.30787049524722, 65.51325901586426)"
      ]
     },
     "metadata": {},
     "execution_count": 86
    }
   ],
   "source": [
    "lcb_height_inches, ucb_height_inches"
   ]
  },
  {
   "cell_type": "code",
   "execution_count": null,
   "metadata": {},
   "outputs": [],
   "source": []
  },
  {
   "cell_type": "markdown",
   "metadata": {},
   "source": [
    "__Q3a.__ Describe how the confidence interval constructed in centimeters relates to the confidence interval constructed in inches."
   ]
  },
  {
   "cell_type": "markdown",
   "metadata": {},
   "source": []
  },
  {
   "source": [
    "### As illustrated below, the confidence intervals are the same if converted between units i.e centimeters and inches"
   ],
   "cell_type": "markdown",
   "metadata": {}
  },
  {
   "cell_type": "code",
   "execution_count": 150,
   "metadata": {},
   "outputs": [
    {
     "output_type": "execute_result",
     "data": {
      "text/plain": [
       "(165.88199105792793, 166.40367790029526)"
      ]
     },
     "metadata": {},
     "execution_count": 150
    }
   ],
   "source": [
    "lcb_height_cm, ucb_height_cm "
   ]
  },
  {
   "cell_type": "code",
   "execution_count": 151,
   "metadata": {},
   "outputs": [
    {
     "output_type": "execute_result",
     "data": {
      "text/plain": [
       "(65.30787049524722, 65.51325901586426)"
      ]
     },
     "metadata": {},
     "execution_count": 151
    }
   ],
   "source": [
    "lcb_height_inches, ucb_height_inches"
   ]
  },
  {
   "cell_type": "code",
   "execution_count": 154,
   "metadata": {},
   "outputs": [
    {
     "output_type": "execute_result",
     "data": {
      "text/plain": [
       "(165.88199105792793, 166.40367790029524)"
      ]
     },
     "metadata": {},
     "execution_count": 154
    }
   ],
   "source": [
    "lcb_height_inches * 2.54, ucb_height_inches *2.54"
   ]
  },
  {
   "cell_type": "code",
   "execution_count": null,
   "metadata": {},
   "outputs": [],
   "source": []
  },
  {
   "cell_type": "markdown",
   "metadata": {},
   "source": [
    "## Question 4\n",
    "\n",
    "Partition the sample based on 10-year age bands, i.e. the resulting groups will consist of people with ages from 18-28, 29-38, etc. Construct 95% confidence intervals for the difference between the mean BMI for females and for males within each age band."
   ]
  },
  {
   "cell_type": "code",
   "execution_count": 90,
   "metadata": {},
   "outputs": [
    {
     "output_type": "execute_result",
     "data": {
      "text/plain": [
       "(18, 80)"
      ]
     },
     "metadata": {},
     "execution_count": 90
    }
   ],
   "source": [
    "df['RIDAGEYR'].unique().min(), df['RIDAGEYR'].unique().max()"
   ]
  },
  {
   "cell_type": "code",
   "execution_count": 183,
   "metadata": {},
   "outputs": [],
   "source": [
    "# enter your code here\n",
    "#da['Age_grouped'] = pd.cut(da['RIDAGEYR'], bins=list(range(18, 88, 10)))"
   ]
  },
  {
   "cell_type": "code",
   "execution_count": 91,
   "metadata": {},
   "outputs": [],
   "source": [
    "# Calculate the mean, SD, and sample size for BMI within age/gender groups\n",
    "df[\"agegrp\"] = pd.cut(df.RIDAGEYR, [18, 30, 40, 50, 60, 70, 80])\n",
    "pr = df.groupby([\"agegrp\", \"RIAGENDRx\"]).agg({\"BMXBMI\": [np.mean, np.std, np.size]}).unstack()\n",
    "\n",
    "# Calculate the Standard Error of Mean for females and for males within each age band\n",
    "pr[\"BMXBMI\", \"sem\", \"Female\"] = pr[\"BMXBMI\", \"std\", \"Female\"] / np.sqrt(pr[\"BMXBMI\", \"size\", \"Female\"]) \n",
    "pr[\"BMXBMI\", \"sem\", \"Male\"] = pr[\"BMXBMI\", \"std\", \"Male\"] / np.sqrt(pr[\"BMXBMI\", \"size\", \"Male\"]) \n",
    "\n",
    "# Calculate the mean difference of BMI between females and males within each age band, also  calculate\n",
    "# its SE and the lower and upper limits of its 95% CI.\n",
    "pr[\"BMXBMI\", \"mean_diff\", \"\"] = pr[\"BMXBMI\", \"mean\", \"Female\"] - pr[\"BMXBMI\", \"mean\", \"Male\"]\n",
    "pr[\"BMXBMI\", \"sem_diff\", \"\"] = np.sqrt(pr[\"BMXBMI\", \"sem\", \"Female\"]**2 + pr[\"BMXBMI\", \"sem\", \"Male\"]**2) \n",
    "pr[\"BMXBMI\", \"lcb_diff\", \"\"] = pr[\"BMXBMI\", \"mean_diff\", \"\"] - 1.96 * pr[\"BMXBMI\", \"sem_diff\", \"\"] \n",
    "pr[\"BMXBMI\", \"ucb_diff\", \"\"] = pr[\"BMXBMI\", \"mean_diff\", \"\"] + 1.96 * pr[\"BMXBMI\", \"sem_diff\", \"\"]"
   ]
  },
  {
   "cell_type": "code",
   "execution_count": 92,
   "metadata": {},
   "outputs": [
    {
     "output_type": "execute_result",
     "data": {
      "text/plain": [
       "              BMXBMI                                                         \\\n",
       "                mean                  std             size              sem   \n",
       "RIAGENDRx     Female       Male    Female      Male Female   Male    Female   \n",
       "agegrp                                                                        \n",
       "(18, 30]   28.123881  27.391822  7.745893  6.649440  609.0  544.0  0.313879   \n",
       "(30, 40]   30.325586  29.611726  8.315608  6.622412  474.0  458.0  0.381949   \n",
       "(40, 50]   31.160643  29.724623  8.076195  6.407076  502.0  401.0  0.360458   \n",
       "(50, 60]   30.743777  29.231486  7.575848  5.914373  470.0  454.0  0.349448   \n",
       "(60, 70]   31.074828  29.392488  7.604514  5.933307  441.0  437.0  0.362120   \n",
       "(70, 80]   29.138213  27.957692  6.284968  4.974855  410.0  402.0  0.310392   \n",
       "\n",
       "                                                             \n",
       "                    mean_diff  sem_diff  lcb_diff  ucb_diff  \n",
       "RIAGENDRx      Male                                          \n",
       "agegrp                                                       \n",
       "(18, 30]   0.285092  0.732059  0.424026 -0.099032  1.563150  \n",
       "(30, 40]   0.309445  0.713861  0.491570 -0.249616  1.677338  \n",
       "(40, 50]   0.319954  1.436019  0.481976  0.491347  2.380692  \n",
       "(50, 60]   0.277575  1.512291  0.446275  0.637591  2.386991  \n",
       "(60, 70]   0.283829  1.682340  0.460097  0.780550  2.584130  \n",
       "(70, 80]   0.248123  1.180521  0.397377  0.401662  1.959380  "
      ],
      "text/html": "<div>\n<style scoped>\n    .dataframe tbody tr th:only-of-type {\n        vertical-align: middle;\n    }\n\n    .dataframe tbody tr th {\n        vertical-align: top;\n    }\n\n    .dataframe thead tr th {\n        text-align: left;\n    }\n\n    .dataframe thead tr:last-of-type th {\n        text-align: right;\n    }\n</style>\n<table border=\"1\" class=\"dataframe\">\n  <thead>\n    <tr>\n      <th></th>\n      <th colspan=\"12\" halign=\"left\">BMXBMI</th>\n    </tr>\n    <tr>\n      <th></th>\n      <th colspan=\"2\" halign=\"left\">mean</th>\n      <th colspan=\"2\" halign=\"left\">std</th>\n      <th colspan=\"2\" halign=\"left\">size</th>\n      <th colspan=\"2\" halign=\"left\">sem</th>\n      <th>mean_diff</th>\n      <th>sem_diff</th>\n      <th>lcb_diff</th>\n      <th>ucb_diff</th>\n    </tr>\n    <tr>\n      <th>RIAGENDRx</th>\n      <th>Female</th>\n      <th>Male</th>\n      <th>Female</th>\n      <th>Male</th>\n      <th>Female</th>\n      <th>Male</th>\n      <th>Female</th>\n      <th>Male</th>\n      <th></th>\n      <th></th>\n      <th></th>\n      <th></th>\n    </tr>\n    <tr>\n      <th>agegrp</th>\n      <th></th>\n      <th></th>\n      <th></th>\n      <th></th>\n      <th></th>\n      <th></th>\n      <th></th>\n      <th></th>\n      <th></th>\n      <th></th>\n      <th></th>\n      <th></th>\n    </tr>\n  </thead>\n  <tbody>\n    <tr>\n      <th>(18, 30]</th>\n      <td>28.123881</td>\n      <td>27.391822</td>\n      <td>7.745893</td>\n      <td>6.649440</td>\n      <td>609.0</td>\n      <td>544.0</td>\n      <td>0.313879</td>\n      <td>0.285092</td>\n      <td>0.732059</td>\n      <td>0.424026</td>\n      <td>-0.099032</td>\n      <td>1.563150</td>\n    </tr>\n    <tr>\n      <th>(30, 40]</th>\n      <td>30.325586</td>\n      <td>29.611726</td>\n      <td>8.315608</td>\n      <td>6.622412</td>\n      <td>474.0</td>\n      <td>458.0</td>\n      <td>0.381949</td>\n      <td>0.309445</td>\n      <td>0.713861</td>\n      <td>0.491570</td>\n      <td>-0.249616</td>\n      <td>1.677338</td>\n    </tr>\n    <tr>\n      <th>(40, 50]</th>\n      <td>31.160643</td>\n      <td>29.724623</td>\n      <td>8.076195</td>\n      <td>6.407076</td>\n      <td>502.0</td>\n      <td>401.0</td>\n      <td>0.360458</td>\n      <td>0.319954</td>\n      <td>1.436019</td>\n      <td>0.481976</td>\n      <td>0.491347</td>\n      <td>2.380692</td>\n    </tr>\n    <tr>\n      <th>(50, 60]</th>\n      <td>30.743777</td>\n      <td>29.231486</td>\n      <td>7.575848</td>\n      <td>5.914373</td>\n      <td>470.0</td>\n      <td>454.0</td>\n      <td>0.349448</td>\n      <td>0.277575</td>\n      <td>1.512291</td>\n      <td>0.446275</td>\n      <td>0.637591</td>\n      <td>2.386991</td>\n    </tr>\n    <tr>\n      <th>(60, 70]</th>\n      <td>31.074828</td>\n      <td>29.392488</td>\n      <td>7.604514</td>\n      <td>5.933307</td>\n      <td>441.0</td>\n      <td>437.0</td>\n      <td>0.362120</td>\n      <td>0.283829</td>\n      <td>1.682340</td>\n      <td>0.460097</td>\n      <td>0.780550</td>\n      <td>2.584130</td>\n    </tr>\n    <tr>\n      <th>(70, 80]</th>\n      <td>29.138213</td>\n      <td>27.957692</td>\n      <td>6.284968</td>\n      <td>4.974855</td>\n      <td>410.0</td>\n      <td>402.0</td>\n      <td>0.310392</td>\n      <td>0.248123</td>\n      <td>1.180521</td>\n      <td>0.397377</td>\n      <td>0.401662</td>\n      <td>1.959380</td>\n    </tr>\n  </tbody>\n</table>\n</div>"
     },
     "metadata": {},
     "execution_count": 92
    }
   ],
   "source": [
    "pr"
   ]
  },
  {
   "cell_type": "code",
   "execution_count": null,
   "metadata": {},
   "outputs": [],
   "source": []
  },
  {
   "cell_type": "markdown",
   "metadata": {},
   "source": [
    "__Q4a.__ How do the widths of these confidence intervals differ?  Provide an explanation for any substantial diferences in the confidence interval widths that you see."
   ]
  },
  {
   "cell_type": "markdown",
   "metadata": {},
   "source": []
  },
  {
   "cell_type": "markdown",
   "metadata": {},
   "source": [
    "## Question 5\n",
    "\n",
    "Construct a 95% confidence interval for the first and second systolic blood pressure measures, and for the difference between the first and second systolic blood pressure measurements within a subject."
   ]
  },
  {
   "cell_type": "code",
   "execution_count": 185,
   "metadata": {},
   "outputs": [
    {
     "output_type": "execute_result",
     "data": {
      "text/plain": [
       "   patient   sex agegrp  bp_before  bp_after\n",
       "0        1  Male  30-45        143       153\n",
       "1        2  Male  30-45        163       170\n",
       "2        3  Male  30-45        153       168\n",
       "3        4  Male  30-45        153       142\n",
       "4        5  Male  30-45        146       141"
      ],
      "text/html": "<div>\n<style scoped>\n    .dataframe tbody tr th:only-of-type {\n        vertical-align: middle;\n    }\n\n    .dataframe tbody tr th {\n        vertical-align: top;\n    }\n\n    .dataframe thead th {\n        text-align: right;\n    }\n</style>\n<table border=\"1\" class=\"dataframe\">\n  <thead>\n    <tr style=\"text-align: right;\">\n      <th></th>\n      <th>patient</th>\n      <th>sex</th>\n      <th>agegrp</th>\n      <th>bp_before</th>\n      <th>bp_after</th>\n    </tr>\n  </thead>\n  <tbody>\n    <tr>\n      <th>0</th>\n      <td>1</td>\n      <td>Male</td>\n      <td>30-45</td>\n      <td>143</td>\n      <td>153</td>\n    </tr>\n    <tr>\n      <th>1</th>\n      <td>2</td>\n      <td>Male</td>\n      <td>30-45</td>\n      <td>163</td>\n      <td>170</td>\n    </tr>\n    <tr>\n      <th>2</th>\n      <td>3</td>\n      <td>Male</td>\n      <td>30-45</td>\n      <td>153</td>\n      <td>168</td>\n    </tr>\n    <tr>\n      <th>3</th>\n      <td>4</td>\n      <td>Male</td>\n      <td>30-45</td>\n      <td>153</td>\n      <td>142</td>\n    </tr>\n    <tr>\n      <th>4</th>\n      <td>5</td>\n      <td>Male</td>\n      <td>30-45</td>\n      <td>146</td>\n      <td>141</td>\n    </tr>\n  </tbody>\n</table>\n</div>"
     },
     "metadata": {},
     "execution_count": 185
    }
   ],
   "source": [
    "# enter code here\n",
    "bp = pd.read_csv('blood_pressure.csv')\n",
    "bp.head()"
   ]
  },
  {
   "cell_type": "code",
   "execution_count": 208,
   "metadata": {},
   "outputs": [],
   "source": [
    "first_bp = bp['bp_before']\n",
    "second_bp = bp['bp_after']\n",
    "\n",
    "first_bp_mean = np.mean(first_bp)\n",
    "first_bp_std = np.std(first_bp)\n",
    "\n",
    "second_bp_mean = np.mean(second_bp)\n",
    "second_bp_std = np.std(second_bp)\n",
    "\n",
    "n = len(bp)\n"
   ]
  },
  {
   "cell_type": "code",
   "execution_count": 209,
   "metadata": {},
   "outputs": [
    {
     "output_type": "execute_result",
     "data": {
      "text/plain": [
       "120"
      ]
     },
     "metadata": {},
     "execution_count": 209
    }
   ],
   "source": [
    "first_sbp = df['BPXSY1']\n",
    "second_sbp = df['BPXSY2']\n",
    "\n",
    "first_sbp_mean = np.mean(first_sbp)\n",
    "first_sbp_std = np.std(first_sbp)\n",
    "\n",
    "second_sbp_mean = np.mean(second_sbp)\n",
    "second_sbp_std = np.std(second_sbp)\n",
    "\n",
    "sbp_length = len(df)\n"
   ]
  },
  {
   "cell_type": "code",
   "execution_count": 194,
   "metadata": {},
   "outputs": [
    {
     "output_type": "execute_result",
     "data": {
      "text/plain": [
       "(156.45, 151.35833333333332)"
      ]
     },
     "metadata": {},
     "execution_count": 194
    }
   ],
   "source": [
    "\n",
    "first_bp_mean, second_bp_mean"
   ]
  },
  {
   "cell_type": "code",
   "execution_count": 112,
   "metadata": {},
   "outputs": [
    {
     "output_type": "execute_result",
     "data": {
      "text/plain": [
       "(125.08461396037771, 124.78301716350497)"
      ]
     },
     "metadata": {},
     "execution_count": 112
    }
   ],
   "source": [
    "first_sbp_mean, second_sbp_mean"
   ]
  },
  {
   "cell_type": "code",
   "execution_count": 113,
   "metadata": {},
   "outputs": [
    {
     "output_type": "execute_result",
     "data": {
      "text/plain": [
       "(18.479161697371598, 18.525338021233786)"
      ]
     },
     "metadata": {},
     "execution_count": 113
    }
   ],
   "source": [
    "first_sbp_std, second_sbp_std"
   ]
  },
  {
   "cell_type": "code",
   "execution_count": 114,
   "metadata": {},
   "outputs": [],
   "source": [
    "lcb_first_sbp = first_sbp_mean - 1.96 * first_sbp_std / np.sqrt(sbp_length)\n",
    "ucb_first_sbp = first_sbp_mean + 1.96 * first_sbp_std / np.sqrt(sbp_length)"
   ]
  },
  {
   "cell_type": "code",
   "execution_count": 115,
   "metadata": {},
   "outputs": [],
   "source": [
    "lcb_second_sbp = second_sbp_mean - 1.96 * second_sbp_std / np.sqrt(sbp_length)\n",
    "ucb_second_sbp = second_sbp_mean + 1.96 * second_sbp_std / np.sqrt(sbp_length)"
   ]
  },
  {
   "cell_type": "code",
   "execution_count": 111,
   "metadata": {},
   "outputs": [],
   "source": []
  },
  {
   "cell_type": "code",
   "execution_count": 109,
   "metadata": {},
   "outputs": [
    {
     "output_type": "execute_result",
     "data": {
      "text/plain": [
       "Index(['SEQN', 'ALQ101', 'ALQ110', 'ALQ130', 'SMQ020', 'RIAGENDR', 'RIDAGEYR',\n",
       "       'RIDRETH1', 'DMDCITZN', 'DMDEDUC2', 'DMDMARTL', 'DMDHHSIZ', 'WTINT2YR',\n",
       "       'SDMVPSU', 'SDMVSTRA', 'INDFMPIR', 'BPXSY1', 'BPXDI1', 'BPXSY2',\n",
       "       'BPXDI2', 'BMXWT', 'BMXHT', 'BMXBMI', 'BMXLEG', 'BMXARML', 'BMXARMC',\n",
       "       'BMXWAIST', 'HIQ210', 'SMQ020x', 'RIAGENDRx', 'agegrp'],\n",
       "      dtype='object')"
      ]
     },
     "metadata": {},
     "execution_count": 109
    }
   ],
   "source": [
    "df.columns"
   ]
  },
  {
   "cell_type": "code",
   "execution_count": 110,
   "metadata": {},
   "outputs": [
    {
     "output_type": "execute_result",
     "data": {
      "text/plain": [
       "    SEQN  ALQ101  ALQ110  ALQ130  SMQ020  RIAGENDR  RIDAGEYR  RIDRETH1  \\\n",
       "0  83732     1.0     NaN     1.0       1         1        62         3   \n",
       "1  83733     1.0     NaN     6.0       1         1        53         3   \n",
       "2  83734     1.0     NaN     NaN       1         1        78         3   \n",
       "3  83735     2.0     1.0     1.0       2         2        56         3   \n",
       "4  83736     2.0     1.0     1.0       2         2        42         4   \n",
       "\n",
       "   DMDCITZN  DMDEDUC2  ...  BMXHT  BMXBMI  BMXLEG  BMXARML  BMXARMC  BMXWAIST  \\\n",
       "0       1.0       5.0  ...  184.5    27.8    43.3     43.6     35.9     101.1   \n",
       "1       2.0       3.0  ...  171.4    30.8    38.0     40.0     33.2     107.9   \n",
       "2       1.0       3.0  ...  170.1    28.8    35.6     37.0     31.0     116.5   \n",
       "3       1.0       5.0  ...  160.9    42.4    38.5     37.7     38.3     110.1   \n",
       "4       1.0       4.0  ...  164.9    20.3    37.4     36.0     27.2      80.4   \n",
       "\n",
       "   HIQ210  SMQ020x  RIAGENDRx    agegrp  \n",
       "0     2.0      Yes       Male  (60, 70]  \n",
       "1     NaN      Yes       Male  (50, 60]  \n",
       "2     2.0      Yes       Male  (70, 80]  \n",
       "3     2.0       No     Female  (50, 60]  \n",
       "4     2.0       No     Female  (40, 50]  \n",
       "\n",
       "[5 rows x 31 columns]"
      ],
      "text/html": "<div>\n<style scoped>\n    .dataframe tbody tr th:only-of-type {\n        vertical-align: middle;\n    }\n\n    .dataframe tbody tr th {\n        vertical-align: top;\n    }\n\n    .dataframe thead th {\n        text-align: right;\n    }\n</style>\n<table border=\"1\" class=\"dataframe\">\n  <thead>\n    <tr style=\"text-align: right;\">\n      <th></th>\n      <th>SEQN</th>\n      <th>ALQ101</th>\n      <th>ALQ110</th>\n      <th>ALQ130</th>\n      <th>SMQ020</th>\n      <th>RIAGENDR</th>\n      <th>RIDAGEYR</th>\n      <th>RIDRETH1</th>\n      <th>DMDCITZN</th>\n      <th>DMDEDUC2</th>\n      <th>...</th>\n      <th>BMXHT</th>\n      <th>BMXBMI</th>\n      <th>BMXLEG</th>\n      <th>BMXARML</th>\n      <th>BMXARMC</th>\n      <th>BMXWAIST</th>\n      <th>HIQ210</th>\n      <th>SMQ020x</th>\n      <th>RIAGENDRx</th>\n      <th>agegrp</th>\n    </tr>\n  </thead>\n  <tbody>\n    <tr>\n      <th>0</th>\n      <td>83732</td>\n      <td>1.0</td>\n      <td>NaN</td>\n      <td>1.0</td>\n      <td>1</td>\n      <td>1</td>\n      <td>62</td>\n      <td>3</td>\n      <td>1.0</td>\n      <td>5.0</td>\n      <td>...</td>\n      <td>184.5</td>\n      <td>27.8</td>\n      <td>43.3</td>\n      <td>43.6</td>\n      <td>35.9</td>\n      <td>101.1</td>\n      <td>2.0</td>\n      <td>Yes</td>\n      <td>Male</td>\n      <td>(60, 70]</td>\n    </tr>\n    <tr>\n      <th>1</th>\n      <td>83733</td>\n      <td>1.0</td>\n      <td>NaN</td>\n      <td>6.0</td>\n      <td>1</td>\n      <td>1</td>\n      <td>53</td>\n      <td>3</td>\n      <td>2.0</td>\n      <td>3.0</td>\n      <td>...</td>\n      <td>171.4</td>\n      <td>30.8</td>\n      <td>38.0</td>\n      <td>40.0</td>\n      <td>33.2</td>\n      <td>107.9</td>\n      <td>NaN</td>\n      <td>Yes</td>\n      <td>Male</td>\n      <td>(50, 60]</td>\n    </tr>\n    <tr>\n      <th>2</th>\n      <td>83734</td>\n      <td>1.0</td>\n      <td>NaN</td>\n      <td>NaN</td>\n      <td>1</td>\n      <td>1</td>\n      <td>78</td>\n      <td>3</td>\n      <td>1.0</td>\n      <td>3.0</td>\n      <td>...</td>\n      <td>170.1</td>\n      <td>28.8</td>\n      <td>35.6</td>\n      <td>37.0</td>\n      <td>31.0</td>\n      <td>116.5</td>\n      <td>2.0</td>\n      <td>Yes</td>\n      <td>Male</td>\n      <td>(70, 80]</td>\n    </tr>\n    <tr>\n      <th>3</th>\n      <td>83735</td>\n      <td>2.0</td>\n      <td>1.0</td>\n      <td>1.0</td>\n      <td>2</td>\n      <td>2</td>\n      <td>56</td>\n      <td>3</td>\n      <td>1.0</td>\n      <td>5.0</td>\n      <td>...</td>\n      <td>160.9</td>\n      <td>42.4</td>\n      <td>38.5</td>\n      <td>37.7</td>\n      <td>38.3</td>\n      <td>110.1</td>\n      <td>2.0</td>\n      <td>No</td>\n      <td>Female</td>\n      <td>(50, 60]</td>\n    </tr>\n    <tr>\n      <th>4</th>\n      <td>83736</td>\n      <td>2.0</td>\n      <td>1.0</td>\n      <td>1.0</td>\n      <td>2</td>\n      <td>2</td>\n      <td>42</td>\n      <td>4</td>\n      <td>1.0</td>\n      <td>4.0</td>\n      <td>...</td>\n      <td>164.9</td>\n      <td>20.3</td>\n      <td>37.4</td>\n      <td>36.0</td>\n      <td>27.2</td>\n      <td>80.4</td>\n      <td>2.0</td>\n      <td>No</td>\n      <td>Female</td>\n      <td>(40, 50]</td>\n    </tr>\n  </tbody>\n</table>\n<p>5 rows × 31 columns</p>\n</div>"
     },
     "metadata": {},
     "execution_count": 110
    }
   ],
   "source": [
    "df.head()"
   ]
  },
  {
   "cell_type": "code",
   "execution_count": 117,
   "metadata": {},
   "outputs": [
    {
     "output_type": "execute_result",
     "data": {
      "text/plain": [
       "(124.60634562793352, 125.5628822928219)"
      ]
     },
     "metadata": {},
     "execution_count": 117
    }
   ],
   "source": [
    "lcb_first_sbp, ucb_first_sbp"
   ]
  },
  {
   "cell_type": "code",
   "execution_count": 119,
   "metadata": {},
   "outputs": [
    {
     "output_type": "execute_result",
     "data": {
      "text/plain": [
       "(124.59174272058787, 125.57748520016754)"
      ]
     },
     "metadata": {},
     "execution_count": 119
    }
   ],
   "source": [
    "\n",
    "sm.stats.DescrStatsW(df['BPXSY1'].dropna()).zconfint_mean()"
   ]
  },
  {
   "cell_type": "code",
   "execution_count": 122,
   "metadata": {},
   "outputs": [
    {
     "output_type": "execute_result",
     "data": {
      "text/plain": [
       "(124.30355371876219, 125.26248060824774)"
      ]
     },
     "metadata": {},
     "execution_count": 122
    }
   ],
   "source": [
    "lcb_second_sbp, ucb_second_sbp"
   ]
  },
  {
   "cell_type": "code",
   "execution_count": 123,
   "metadata": {},
   "outputs": [
    {
     "output_type": "execute_result",
     "data": {
      "text/plain": [
       "(124.29493306967777, 125.27110125733216)"
      ]
     },
     "metadata": {},
     "execution_count": 123
    }
   ],
   "source": [
    "\n",
    "sm.stats.DescrStatsW(df['BPXSY2'].dropna()).zconfint_mean()"
   ]
  },
  {
   "cell_type": "code",
   "execution_count": 127,
   "metadata": {},
   "outputs": [
    {
     "output_type": "execute_result",
     "data": {
      "text/plain": [
       "0.30159679687274377"
      ]
     },
     "metadata": {},
     "execution_count": 127
    }
   ],
   "source": [
    "sbp_mean_diff = first_sbp_mean - second_sbp_mean\n",
    "sbp_mean_diff"
   ]
  },
  {
   "cell_type": "code",
   "execution_count": 125,
   "metadata": {},
   "outputs": [],
   "source": [
    "sem_first_sbp = first_sbp_std / np.sqrt(sbp_length)\n",
    "sem_second_sbp = second_sbp_std / np.sqrt(sbp_length)"
   ]
  },
  {
   "cell_type": "code",
   "execution_count": 129,
   "metadata": {},
   "outputs": [
    {
     "output_type": "execute_result",
     "data": {
      "text/plain": [
       "0.3455199803423725"
      ]
     },
     "metadata": {},
     "execution_count": 129
    }
   ],
   "source": [
    "sbp_sem_diff_sbp = np.sqrt(sem_first_sbp**2 + sem_second_sbp**2)\n",
    "sbp_sem_diff_sbp"
   ]
  },
  {
   "cell_type": "code",
   "execution_count": 130,
   "metadata": {},
   "outputs": [
    {
     "output_type": "execute_result",
     "data": {
      "text/plain": [
       "(-0.3894431638120013, 0.9926367575574888)"
      ]
     },
     "metadata": {},
     "execution_count": 130
    }
   ],
   "source": [
    "lcb_mean_diff_sbp = sbp_mean_diff - 2*sbp_sem_diff_sbp\n",
    "ucb_mean_diff_sbp = sbp_mean_diff + 2*sbp_sem_diff_sbp\n",
    "lcb_mean_diff_sbp, ucb_mean_diff_sbp"
   ]
  },
  {
   "cell_type": "code",
   "execution_count": null,
   "metadata": {},
   "outputs": [],
   "source": []
  },
  {
   "cell_type": "markdown",
   "metadata": {},
   "source": [
    "__Q5a.__ Based on these confidence intervals, would you say that a difference of zero between the population mean values of the first and second systolic blood pressure measures is consistent with the data?"
   ]
  },
  {
   "cell_type": "markdown",
   "metadata": {},
   "source": []
  },
  {
   "cell_type": "markdown",
   "metadata": {},
   "source": [
    "\n",
    "__Q5b.__ Discuss how the width of the confidence interval for the within-subject difference compares to the widths of the confidence intervals for the first and second measures."
   ]
  },
  {
   "cell_type": "markdown",
   "metadata": {},
   "source": []
  },
  {
   "cell_type": "markdown",
   "metadata": {},
   "source": [
    "## Question 6\n",
    "\n",
    "Construct a 95% confidence interval for the mean difference between the average age of a smoker, and the average age of a non-smoker."
   ]
  },
  {
   "cell_type": "code",
   "execution_count": 234,
   "metadata": {},
   "outputs": [
    {
     "output_type": "execute_result",
     "data": {
      "text/plain": [
       "    SEQN  ALQ101  ALQ110  ALQ130  SMQ020  RIAGENDR  RIDAGEYR  RIDRETH1  \\\n",
       "0  83732     1.0     NaN     1.0       1         1        62         3   \n",
       "1  83733     1.0     NaN     6.0       1         1        53         3   \n",
       "2  83734     1.0     NaN     NaN       1         1        78         3   \n",
       "3  83735     2.0     1.0     1.0       2         2        56         3   \n",
       "4  83736     2.0     1.0     1.0       2         2        42         4   \n",
       "\n",
       "   DMDCITZN  DMDEDUC2  ...  BMXBMI  BMXLEG  BMXARML  BMXARMC  BMXWAIST  \\\n",
       "0       1.0       5.0  ...    27.8    43.3     43.6     35.9     101.1   \n",
       "1       2.0       3.0  ...    30.8    38.0     40.0     33.2     107.9   \n",
       "2       1.0       3.0  ...    28.8    35.6     37.0     31.0     116.5   \n",
       "3       1.0       5.0  ...    42.4    38.5     37.7     38.3     110.1   \n",
       "4       1.0       4.0  ...    20.3    37.4     36.0     27.2      80.4   \n",
       "\n",
       "   HIQ210  SMQ020x  RIAGENDRx  Age_grouped    agegrp  \n",
       "0     2.0      Yes       Male     (58, 68]  (60, 70]  \n",
       "1     NaN      Yes       Male     (48, 58]  (50, 60]  \n",
       "2     2.0      Yes       Male     (68, 78]  (70, 80]  \n",
       "3     2.0       No     Female     (48, 58]  (50, 60]  \n",
       "4     2.0       No     Female     (38, 48]  (40, 50]  \n",
       "\n",
       "[5 rows x 32 columns]"
      ],
      "text/html": "<div>\n<style scoped>\n    .dataframe tbody tr th:only-of-type {\n        vertical-align: middle;\n    }\n\n    .dataframe tbody tr th {\n        vertical-align: top;\n    }\n\n    .dataframe thead th {\n        text-align: right;\n    }\n</style>\n<table border=\"1\" class=\"dataframe\">\n  <thead>\n    <tr style=\"text-align: right;\">\n      <th></th>\n      <th>SEQN</th>\n      <th>ALQ101</th>\n      <th>ALQ110</th>\n      <th>ALQ130</th>\n      <th>SMQ020</th>\n      <th>RIAGENDR</th>\n      <th>RIDAGEYR</th>\n      <th>RIDRETH1</th>\n      <th>DMDCITZN</th>\n      <th>DMDEDUC2</th>\n      <th>...</th>\n      <th>BMXBMI</th>\n      <th>BMXLEG</th>\n      <th>BMXARML</th>\n      <th>BMXARMC</th>\n      <th>BMXWAIST</th>\n      <th>HIQ210</th>\n      <th>SMQ020x</th>\n      <th>RIAGENDRx</th>\n      <th>Age_grouped</th>\n      <th>agegrp</th>\n    </tr>\n  </thead>\n  <tbody>\n    <tr>\n      <th>0</th>\n      <td>83732</td>\n      <td>1.0</td>\n      <td>NaN</td>\n      <td>1.0</td>\n      <td>1</td>\n      <td>1</td>\n      <td>62</td>\n      <td>3</td>\n      <td>1.0</td>\n      <td>5.0</td>\n      <td>...</td>\n      <td>27.8</td>\n      <td>43.3</td>\n      <td>43.6</td>\n      <td>35.9</td>\n      <td>101.1</td>\n      <td>2.0</td>\n      <td>Yes</td>\n      <td>Male</td>\n      <td>(58, 68]</td>\n      <td>(60, 70]</td>\n    </tr>\n    <tr>\n      <th>1</th>\n      <td>83733</td>\n      <td>1.0</td>\n      <td>NaN</td>\n      <td>6.0</td>\n      <td>1</td>\n      <td>1</td>\n      <td>53</td>\n      <td>3</td>\n      <td>2.0</td>\n      <td>3.0</td>\n      <td>...</td>\n      <td>30.8</td>\n      <td>38.0</td>\n      <td>40.0</td>\n      <td>33.2</td>\n      <td>107.9</td>\n      <td>NaN</td>\n      <td>Yes</td>\n      <td>Male</td>\n      <td>(48, 58]</td>\n      <td>(50, 60]</td>\n    </tr>\n    <tr>\n      <th>2</th>\n      <td>83734</td>\n      <td>1.0</td>\n      <td>NaN</td>\n      <td>NaN</td>\n      <td>1</td>\n      <td>1</td>\n      <td>78</td>\n      <td>3</td>\n      <td>1.0</td>\n      <td>3.0</td>\n      <td>...</td>\n      <td>28.8</td>\n      <td>35.6</td>\n      <td>37.0</td>\n      <td>31.0</td>\n      <td>116.5</td>\n      <td>2.0</td>\n      <td>Yes</td>\n      <td>Male</td>\n      <td>(68, 78]</td>\n      <td>(70, 80]</td>\n    </tr>\n    <tr>\n      <th>3</th>\n      <td>83735</td>\n      <td>2.0</td>\n      <td>1.0</td>\n      <td>1.0</td>\n      <td>2</td>\n      <td>2</td>\n      <td>56</td>\n      <td>3</td>\n      <td>1.0</td>\n      <td>5.0</td>\n      <td>...</td>\n      <td>42.4</td>\n      <td>38.5</td>\n      <td>37.7</td>\n      <td>38.3</td>\n      <td>110.1</td>\n      <td>2.0</td>\n      <td>No</td>\n      <td>Female</td>\n      <td>(48, 58]</td>\n      <td>(50, 60]</td>\n    </tr>\n    <tr>\n      <th>4</th>\n      <td>83736</td>\n      <td>2.0</td>\n      <td>1.0</td>\n      <td>1.0</td>\n      <td>2</td>\n      <td>2</td>\n      <td>42</td>\n      <td>4</td>\n      <td>1.0</td>\n      <td>4.0</td>\n      <td>...</td>\n      <td>20.3</td>\n      <td>37.4</td>\n      <td>36.0</td>\n      <td>27.2</td>\n      <td>80.4</td>\n      <td>2.0</td>\n      <td>No</td>\n      <td>Female</td>\n      <td>(38, 48]</td>\n      <td>(40, 50]</td>\n    </tr>\n  </tbody>\n</table>\n<p>5 rows × 32 columns</p>\n</div>"
     },
     "metadata": {},
     "execution_count": 234
    }
   ],
   "source": [
    "# insert your code here\n",
    "da.head()\n"
   ]
  },
  {
   "cell_type": "code",
   "execution_count": 297,
   "metadata": {},
   "outputs": [],
   "source": [
    "mean_age_smoker = da.groupby('SMQ020x').apply(lambda x: x['RIDAGEYR'].mean())[1]\n",
    "mean_age_nonsmoker = da.groupby('SMQ020x').apply(lambda x: x['RIDAGEYR'].mean())[0]"
   ]
  },
  {
   "cell_type": "code",
   "execution_count": 310,
   "metadata": {},
   "outputs": [],
   "source": [
    "smokers = da[da['SMQ020x'] == 'Yes']['RIDAGEYR']\n",
    "non_smokers = da[da['SMQ020x'] == 'No']['RIDAGEYR']"
   ]
  },
  {
   "cell_type": "code",
   "execution_count": 312,
   "metadata": {},
   "outputs": [
    {
     "output_type": "execute_result",
     "data": {
      "text/plain": [
       "(51.38591951147112, 52.80726720694198)"
      ]
     },
     "metadata": {},
     "execution_count": 312
    }
   ],
   "source": [
    "sm.stats.DescrStatsW(smokers).zconfint_mean()"
   ]
  },
  {
   "cell_type": "code",
   "execution_count": 311,
   "metadata": {},
   "outputs": [
    {
     "output_type": "execute_result",
     "data": {
      "text/plain": [
       "(44.637087398171616, 45.882583770354515)"
      ]
     },
     "metadata": {},
     "execution_count": 311
    }
   ],
   "source": [
    "sm.stats.DescrStatsW(non_smokers).zconfint_mean()"
   ]
  },
  {
   "cell_type": "code",
   "execution_count": null,
   "metadata": {},
   "outputs": [],
   "source": []
  },
  {
   "cell_type": "markdown",
   "metadata": {},
   "source": [
    "__Q6a.__ Use graphical and numerical techniques to compare the variation in the ages of smokers to the variation in the ages of non-smokers.  "
   ]
  },
  {
   "cell_type": "code",
   "execution_count": 321,
   "metadata": {},
   "outputs": [
    {
     "output_type": "execute_result",
     "data": {
      "text/plain": [
       "                      RIDAGEYR               \n",
       "                          mean       std size\n",
       "SMQ020x Age_grouped                          \n",
       "No      (18, 28]     23.443491  2.996779  699\n",
       "        (28, 38]     33.316695  2.835650  581\n",
       "        (38, 48]     43.595960  2.818582  594\n",
       "        (48, 58]     53.125786  2.796476  477\n",
       "        (58, 68]     63.282851  2.750437  449\n",
       "        (68, 78]     73.194245  2.843392  278\n",
       "Yes     (18, 28]     23.863281  2.754116  256\n",
       "        (28, 38]     33.576720  2.883353  378\n",
       "        (38, 48]     43.650943  2.889257  318\n",
       "        (48, 58]     53.739899  2.703120  396\n",
       "        (58, 68]     63.154639  2.925876  485\n",
       "        (68, 78]     72.784314  2.844474  306"
      ],
      "text/html": "<div>\n<style scoped>\n    .dataframe tbody tr th:only-of-type {\n        vertical-align: middle;\n    }\n\n    .dataframe tbody tr th {\n        vertical-align: top;\n    }\n\n    .dataframe thead tr th {\n        text-align: left;\n    }\n\n    .dataframe thead tr:last-of-type th {\n        text-align: right;\n    }\n</style>\n<table border=\"1\" class=\"dataframe\">\n  <thead>\n    <tr>\n      <th></th>\n      <th></th>\n      <th colspan=\"3\" halign=\"left\">RIDAGEYR</th>\n    </tr>\n    <tr>\n      <th></th>\n      <th></th>\n      <th>mean</th>\n      <th>std</th>\n      <th>size</th>\n    </tr>\n    <tr>\n      <th>SMQ020x</th>\n      <th>Age_grouped</th>\n      <th></th>\n      <th></th>\n      <th></th>\n    </tr>\n  </thead>\n  <tbody>\n    <tr>\n      <th rowspan=\"6\" valign=\"top\">No</th>\n      <th>(18, 28]</th>\n      <td>23.443491</td>\n      <td>2.996779</td>\n      <td>699</td>\n    </tr>\n    <tr>\n      <th>(28, 38]</th>\n      <td>33.316695</td>\n      <td>2.835650</td>\n      <td>581</td>\n    </tr>\n    <tr>\n      <th>(38, 48]</th>\n      <td>43.595960</td>\n      <td>2.818582</td>\n      <td>594</td>\n    </tr>\n    <tr>\n      <th>(48, 58]</th>\n      <td>53.125786</td>\n      <td>2.796476</td>\n      <td>477</td>\n    </tr>\n    <tr>\n      <th>(58, 68]</th>\n      <td>63.282851</td>\n      <td>2.750437</td>\n      <td>449</td>\n    </tr>\n    <tr>\n      <th>(68, 78]</th>\n      <td>73.194245</td>\n      <td>2.843392</td>\n      <td>278</td>\n    </tr>\n    <tr>\n      <th rowspan=\"6\" valign=\"top\">Yes</th>\n      <th>(18, 28]</th>\n      <td>23.863281</td>\n      <td>2.754116</td>\n      <td>256</td>\n    </tr>\n    <tr>\n      <th>(28, 38]</th>\n      <td>33.576720</td>\n      <td>2.883353</td>\n      <td>378</td>\n    </tr>\n    <tr>\n      <th>(38, 48]</th>\n      <td>43.650943</td>\n      <td>2.889257</td>\n      <td>318</td>\n    </tr>\n    <tr>\n      <th>(48, 58]</th>\n      <td>53.739899</td>\n      <td>2.703120</td>\n      <td>396</td>\n    </tr>\n    <tr>\n      <th>(58, 68]</th>\n      <td>63.154639</td>\n      <td>2.925876</td>\n      <td>485</td>\n    </tr>\n    <tr>\n      <th>(68, 78]</th>\n      <td>72.784314</td>\n      <td>2.844474</td>\n      <td>306</td>\n    </tr>\n  </tbody>\n</table>\n</div>"
     },
     "metadata": {},
     "execution_count": 321
    }
   ],
   "source": [
    "# insert your code here\n",
    "\n",
    "da.groupby([\"SMQ020x\", \"Age_grouped\"]).agg({\"RIDAGEYR\": [np.mean, np.std, np.size]})#.unstack()"
   ]
  },
  {
   "cell_type": "code",
   "execution_count": 320,
   "metadata": {},
   "outputs": [
    {
     "output_type": "execute_result",
     "data": {
      "text/plain": [
       "              RIDAGEYR                                                         \\\n",
       "                  mean                                                          \n",
       "Age_grouped   (18, 28]   (28, 38]   (38, 48]   (48, 58]   (58, 68]   (68, 78]   \n",
       "SMQ020x                                                                         \n",
       "No           23.443491  33.316695  43.595960  53.125786  63.282851  73.194245   \n",
       "Yes          23.863281  33.576720  43.650943  53.739899  63.154639  72.784314   \n",
       "\n",
       "                                                                         \\\n",
       "                  std                                                     \n",
       "Age_grouped  (18, 28]  (28, 38]  (38, 48]  (48, 58]  (58, 68]  (68, 78]   \n",
       "SMQ020x                                                                   \n",
       "No           2.996779  2.835650  2.818582  2.796476  2.750437  2.843392   \n",
       "Yes          2.754116  2.883353  2.889257  2.703120  2.925876  2.844474   \n",
       "\n",
       "                                                                   \n",
       "                size                                               \n",
       "Age_grouped (18, 28] (28, 38] (38, 48] (48, 58] (58, 68] (68, 78]  \n",
       "SMQ020x                                                            \n",
       "No               699      581      594      477      449      278  \n",
       "Yes              256      378      318      396      485      306  "
      ],
      "text/html": "<div>\n<style scoped>\n    .dataframe tbody tr th:only-of-type {\n        vertical-align: middle;\n    }\n\n    .dataframe tbody tr th {\n        vertical-align: top;\n    }\n\n    .dataframe thead tr th {\n        text-align: left;\n    }\n\n    .dataframe thead tr:last-of-type th {\n        text-align: right;\n    }\n</style>\n<table border=\"1\" class=\"dataframe\">\n  <thead>\n    <tr>\n      <th></th>\n      <th colspan=\"18\" halign=\"left\">RIDAGEYR</th>\n    </tr>\n    <tr>\n      <th></th>\n      <th colspan=\"6\" halign=\"left\">mean</th>\n      <th colspan=\"6\" halign=\"left\">std</th>\n      <th colspan=\"6\" halign=\"left\">size</th>\n    </tr>\n    <tr>\n      <th>Age_grouped</th>\n      <th>(18, 28]</th>\n      <th>(28, 38]</th>\n      <th>(38, 48]</th>\n      <th>(48, 58]</th>\n      <th>(58, 68]</th>\n      <th>(68, 78]</th>\n      <th>(18, 28]</th>\n      <th>(28, 38]</th>\n      <th>(38, 48]</th>\n      <th>(48, 58]</th>\n      <th>(58, 68]</th>\n      <th>(68, 78]</th>\n      <th>(18, 28]</th>\n      <th>(28, 38]</th>\n      <th>(38, 48]</th>\n      <th>(48, 58]</th>\n      <th>(58, 68]</th>\n      <th>(68, 78]</th>\n    </tr>\n    <tr>\n      <th>SMQ020x</th>\n      <th></th>\n      <th></th>\n      <th></th>\n      <th></th>\n      <th></th>\n      <th></th>\n      <th></th>\n      <th></th>\n      <th></th>\n      <th></th>\n      <th></th>\n      <th></th>\n      <th></th>\n      <th></th>\n      <th></th>\n      <th></th>\n      <th></th>\n      <th></th>\n    </tr>\n  </thead>\n  <tbody>\n    <tr>\n      <th>No</th>\n      <td>23.443491</td>\n      <td>33.316695</td>\n      <td>43.595960</td>\n      <td>53.125786</td>\n      <td>63.282851</td>\n      <td>73.194245</td>\n      <td>2.996779</td>\n      <td>2.835650</td>\n      <td>2.818582</td>\n      <td>2.796476</td>\n      <td>2.750437</td>\n      <td>2.843392</td>\n      <td>699</td>\n      <td>581</td>\n      <td>594</td>\n      <td>477</td>\n      <td>449</td>\n      <td>278</td>\n    </tr>\n    <tr>\n      <th>Yes</th>\n      <td>23.863281</td>\n      <td>33.576720</td>\n      <td>43.650943</td>\n      <td>53.739899</td>\n      <td>63.154639</td>\n      <td>72.784314</td>\n      <td>2.754116</td>\n      <td>2.883353</td>\n      <td>2.889257</td>\n      <td>2.703120</td>\n      <td>2.925876</td>\n      <td>2.844474</td>\n      <td>256</td>\n      <td>378</td>\n      <td>318</td>\n      <td>396</td>\n      <td>485</td>\n      <td>306</td>\n    </tr>\n  </tbody>\n</table>\n</div>"
     },
     "metadata": {},
     "execution_count": 320
    }
   ],
   "source": [
    "# insert your code here\n",
    "\n",
    "da.groupby([\"SMQ020x\", \"Age_grouped\"]).agg({\"RIDAGEYR\": [np.mean, np.std, np.size]}).unstack()"
   ]
  },
  {
   "cell_type": "markdown",
   "metadata": {},
   "source": [
    "__Q6b.__ Does it appear that uncertainty about the mean age of smokers, or uncertainty about the mean age of non-smokers contributed more to the uncertainty for the mean difference that we are focusing on here?"
   ]
  },
  {
   "cell_type": "markdown",
   "metadata": {},
   "source": []
  }
 ],
 "metadata": {
  "kernelspec": {
   "name": "python3",
   "display_name": "Python 3.8.5 64-bit ('Strive': conda)",
   "metadata": {
    "interpreter": {
     "hash": "a032cf979fe218fb798ccb3c07a2250070b1e3a3ea8c505d3dcf401e780a1dc7"
    }
   }
  },
  "language_info": {
   "codemirror_mode": {
    "name": "ipython",
    "version": 3
   },
   "file_extension": ".py",
   "mimetype": "text/x-python",
   "name": "python",
   "nbconvert_exporter": "python",
   "pygments_lexer": "ipython3",
   "version": "3.8.5-final"
  }
 },
 "nbformat": 4,
 "nbformat_minor": 2
}