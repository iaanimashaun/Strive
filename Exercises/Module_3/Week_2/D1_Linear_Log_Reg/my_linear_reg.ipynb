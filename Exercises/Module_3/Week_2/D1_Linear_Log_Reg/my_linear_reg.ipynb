{
 "metadata": {
  "language_info": {
   "codemirror_mode": {
    "name": "ipython",
    "version": 3
   },
   "file_extension": ".py",
   "mimetype": "text/x-python",
   "name": "python",
   "nbconvert_exporter": "python",
   "pygments_lexer": "ipython3",
   "version": "3.8.5-final"
  },
  "orig_nbformat": 2,
  "kernelspec": {
   "name": "python3",
   "display_name": "Python 3",
   "language": "python"
  }
 },
 "nbformat": 4,
 "nbformat_minor": 2,
 "cells": [
  {
   "cell_type": "code",
   "execution_count": 49,
   "metadata": {},
   "outputs": [],
   "source": [
    "import numpy as np\n",
    "import pandas as pd  \n",
    "import matplotlib.pyplot as plt \n",
    "import seaborn as sns "
   ]
  },
  {
   "cell_type": "code",
   "execution_count": 39,
   "metadata": {},
   "outputs": [],
   "source": [
    "\n",
    "class LinearReg:\n",
    "\n",
    "    def __init__(self,):\n",
    "        self.n_iters=n_iters \n",
    "        self.intercept = None\n",
    "        self.coef = None\n",
    "\n",
    "\n",
    "    def variance(self, x):\n",
    "        x_mean = np.mean(x)\n",
    "        return sum([(val-x_mean)**2 for val in x ])\n",
    "\n",
    "    def covariance(self, x, y):\n",
    "        covariance = 0\n",
    "        x_mean = np.mean(x)\n",
    "        y_mean = np.mean(y)\n",
    "        for i in range(len(x)):\n",
    "            covariance = covariance + (x[i] - x_mean) * (y[i] - y_mean)\n",
    "        return covariance\n",
    "\n",
    "    def fit(self, x, y):\n",
    "\n",
    "        self.coef = self.covariance(x,y) / self.variance(x)\n",
    "        self.intercept = np.mean(y) - self.coef * np.mean(x)\n",
    "        return self.coef, self.intercept\n",
    "\n",
    "    def predict(self, x_test, coef, intercept):\n",
    "        return self.intercept * np.dot(x_test, self.coef)\n",
    "        "
   ]
  },
  {
   "cell_type": "code",
   "execution_count": 40,
   "metadata": {},
   "outputs": [],
   "source": [
    "lr = LinearReg()"
   ]
  },
  {
   "cell_type": "code",
   "execution_count": 41,
   "metadata": {},
   "outputs": [
    {
     "output_type": "execute_result",
     "data": {
      "text/plain": [
       "<__main__.LinearReg at 0x1ec30b4a9d0>"
      ]
     },
     "metadata": {},
     "execution_count": 41
    }
   ],
   "source": [
    "lr"
   ]
  },
  {
   "cell_type": "code",
   "execution_count": 42,
   "metadata": {},
   "outputs": [
    {
     "output_type": "execute_result",
     "data": {
      "text/plain": [
       "            0          1\n",
       "0   32.502345  31.707006\n",
       "1   53.426804  68.777596\n",
       "2   61.530358  62.562382\n",
       "3   47.475640  71.546632\n",
       "4   59.813208  87.230925\n",
       "..        ...        ...\n",
       "95  50.030174  81.536991\n",
       "96  49.239765  72.111832\n",
       "97  50.039576  85.232007\n",
       "98  48.149859  66.224958\n",
       "99  25.128485  53.454394\n",
       "\n",
       "[100 rows x 2 columns]"
      ],
      "text/html": "<div>\n<style scoped>\n    .dataframe tbody tr th:only-of-type {\n        vertical-align: middle;\n    }\n\n    .dataframe tbody tr th {\n        vertical-align: top;\n    }\n\n    .dataframe thead th {\n        text-align: right;\n    }\n</style>\n<table border=\"1\" class=\"dataframe\">\n  <thead>\n    <tr style=\"text-align: right;\">\n      <th></th>\n      <th>0</th>\n      <th>1</th>\n    </tr>\n  </thead>\n  <tbody>\n    <tr>\n      <th>0</th>\n      <td>32.502345</td>\n      <td>31.707006</td>\n    </tr>\n    <tr>\n      <th>1</th>\n      <td>53.426804</td>\n      <td>68.777596</td>\n    </tr>\n    <tr>\n      <th>2</th>\n      <td>61.530358</td>\n      <td>62.562382</td>\n    </tr>\n    <tr>\n      <th>3</th>\n      <td>47.475640</td>\n      <td>71.546632</td>\n    </tr>\n    <tr>\n      <th>4</th>\n      <td>59.813208</td>\n      <td>87.230925</td>\n    </tr>\n    <tr>\n      <th>...</th>\n      <td>...</td>\n      <td>...</td>\n    </tr>\n    <tr>\n      <th>95</th>\n      <td>50.030174</td>\n      <td>81.536991</td>\n    </tr>\n    <tr>\n      <th>96</th>\n      <td>49.239765</td>\n      <td>72.111832</td>\n    </tr>\n    <tr>\n      <th>97</th>\n      <td>50.039576</td>\n      <td>85.232007</td>\n    </tr>\n    <tr>\n      <th>98</th>\n      <td>48.149859</td>\n      <td>66.224958</td>\n    </tr>\n    <tr>\n      <th>99</th>\n      <td>25.128485</td>\n      <td>53.454394</td>\n    </tr>\n  </tbody>\n</table>\n<p>100 rows × 2 columns</p>\n</div>"
     },
     "metadata": {},
     "execution_count": 42
    }
   ],
   "source": [
    "da = pd.read_csv('reg_data.csv', header=None )\n",
    "da"
   ]
  },
  {
   "cell_type": "code",
   "execution_count": 43,
   "metadata": {},
   "outputs": [],
   "source": [
    "x = da[0]\n",
    "y = da[1]"
   ]
  },
  {
   "cell_type": "code",
   "execution_count": 44,
   "metadata": {},
   "outputs": [
    {
     "output_type": "execute_result",
     "data": {
      "text/plain": [
       "0     32.502345\n",
       "1     53.426804\n",
       "2     61.530358\n",
       "3     47.475640\n",
       "4     59.813208\n",
       "        ...    \n",
       "95    50.030174\n",
       "96    49.239765\n",
       "97    50.039576\n",
       "98    48.149859\n",
       "99    25.128485\n",
       "Name: 0, Length: 100, dtype: float64"
      ]
     },
     "metadata": {},
     "execution_count": 44
    }
   ],
   "source": [
    "x"
   ]
  },
  {
   "cell_type": "code",
   "execution_count": 45,
   "metadata": {},
   "outputs": [
    {
     "output_type": "execute_result",
     "data": {
      "text/plain": [
       "0     31.707006\n",
       "1     68.777596\n",
       "2     62.562382\n",
       "3     71.546632\n",
       "4     87.230925\n",
       "        ...    \n",
       "95    81.536991\n",
       "96    72.111832\n",
       "97    85.232007\n",
       "98    66.224958\n",
       "99    53.454394\n",
       "Name: 1, Length: 100, dtype: float64"
      ]
     },
     "metadata": {},
     "execution_count": 45
    }
   ],
   "source": [
    "y"
   ]
  },
  {
   "cell_type": "code",
   "execution_count": 46,
   "metadata": {},
   "outputs": [
    {
     "output_type": "execute_result",
     "data": {
      "text/plain": [
       "(1.32243102275536, 7.991020982270385)"
      ]
     },
     "metadata": {},
     "execution_count": 46
    }
   ],
   "source": [
    "lr.fit(x,y)"
   ]
  },
  {
   "cell_type": "code",
   "execution_count": 48,
   "metadata": {},
   "outputs": [
    {
     "output_type": "execute_result",
     "data": {
      "text/plain": [
       "528.7969248327886"
      ]
     },
     "metadata": {},
     "execution_count": 48
    }
   ],
   "source": [
    "lr.predict(50.039576, 1.32243102275536, 7.991020982270385)"
   ]
  },
  {
   "cell_type": "code",
   "execution_count": 65,
   "metadata": {},
   "outputs": [],
   "source": [
    "y_pred = 1.32243102275536 * x + 7.991020982270385"
   ]
  },
  {
   "cell_type": "code",
   "execution_count": 53,
   "metadata": {},
   "outputs": [
    {
     "output_type": "execute_result",
     "data": {
      "text/plain": [
       "[<matplotlib.lines.Line2D at 0x1ec32e3afa0>]"
      ]
     },
     "metadata": {},
     "execution_count": 53
    },
    {
     "output_type": "display_data",
     "data": {
      "text/plain": "<Figure size 432x288 with 1 Axes>",
      "image/svg+xml": "<?xml version=\"1.0\" encoding=\"utf-8\" standalone=\"no\"?>\r\n<!DOCTYPE svg PUBLIC \"-//W3C//DTD SVG 1.1//EN\"\r\n  \"http://www.w3.org/Graphics/SVG/1.1/DTD/svg11.dtd\">\r\n<!-- Created with matplotlib (https://matplotlib.org/) -->\r\n<svg height=\"248.518125pt\" version=\"1.1\" viewBox=\"0 0 375.2875 248.518125\" width=\"375.2875pt\" xmlns=\"http://www.w3.org/2000/svg\" xmlns:xlink=\"http://www.w3.org/1999/xlink\">\r\n <metadata>\r\n  <rdf:RDF xmlns:cc=\"http://creativecommons.org/ns#\" xmlns:dc=\"http://purl.org/dc/elements/1.1/\" xmlns:rdf=\"http://www.w3.org/1999/02/22-rdf-syntax-ns#\">\r\n   <cc:Work>\r\n    <dc:type rdf:resource=\"http://purl.org/dc/dcmitype/StillImage\"/>\r\n    <dc:date>2021-01-25T12:32:20.091479</dc:date>\r\n    <dc:format>image/svg+xml</dc:format>\r\n    <dc:creator>\r\n     <cc:Agent>\r\n      <dc:title>Matplotlib v3.3.3, https://matplotlib.org/</dc:title>\r\n     </cc:Agent>\r\n    </dc:creator>\r\n   </cc:Work>\r\n  </rdf:RDF>\r\n </metadata>\r\n <defs>\r\n  <style type=\"text/css\">*{stroke-linecap:butt;stroke-linejoin:round;}</style>\r\n </defs>\r\n <g id=\"figure_1\">\r\n  <g id=\"patch_1\">\r\n   <path d=\"M 0 248.518125 \r\nL 375.2875 248.518125 \r\nL 375.2875 0 \r\nL 0 0 \r\nz\r\n\"/>\r\n  </g>\r\n  <g id=\"axes_1\">\r\n   <g id=\"patch_2\">\r\n    <path d=\"M 33.2875 224.64 \r\nL 368.0875 224.64 \r\nL 368.0875 7.2 \r\nL 33.2875 7.2 \r\nz\r\n\"/>\r\n   </g>\r\n   <g id=\"matplotlib.axis_1\">\r\n    <g id=\"xtick_1\">\r\n     <g id=\"line2d_1\">\r\n      <defs>\r\n       <path d=\"M 0 0 \r\nL 0 3.5 \r\n\" id=\"m427984a0a2\" style=\"stroke:#ffffff;stroke-width:0.8;\"/>\r\n      </defs>\r\n      <g>\r\n       <use style=\"fill:#ffffff;stroke:#ffffff;stroke-width:0.8;\" x=\"81.296286\" xlink:href=\"#m427984a0a2\" y=\"224.64\"/>\r\n      </g>\r\n     </g>\r\n     <g id=\"text_1\">\r\n      <!-- 30 -->\r\n      <g style=\"fill:#ffffff;\" transform=\"translate(74.933786 239.238437)scale(0.1 -0.1)\">\r\n       <defs>\r\n        <path d=\"M 40.578125 39.3125 \r\nQ 47.65625 37.796875 51.625 33 \r\nQ 55.609375 28.21875 55.609375 21.1875 \r\nQ 55.609375 10.40625 48.1875 4.484375 \r\nQ 40.765625 -1.421875 27.09375 -1.421875 \r\nQ 22.515625 -1.421875 17.65625 -0.515625 \r\nQ 12.796875 0.390625 7.625 2.203125 \r\nL 7.625 11.71875 \r\nQ 11.71875 9.328125 16.59375 8.109375 \r\nQ 21.484375 6.890625 26.8125 6.890625 \r\nQ 36.078125 6.890625 40.9375 10.546875 \r\nQ 45.796875 14.203125 45.796875 21.1875 \r\nQ 45.796875 27.640625 41.28125 31.265625 \r\nQ 36.765625 34.90625 28.71875 34.90625 \r\nL 20.21875 34.90625 \r\nL 20.21875 43.015625 \r\nL 29.109375 43.015625 \r\nQ 36.375 43.015625 40.234375 45.921875 \r\nQ 44.09375 48.828125 44.09375 54.296875 \r\nQ 44.09375 59.90625 40.109375 62.90625 \r\nQ 36.140625 65.921875 28.71875 65.921875 \r\nQ 24.65625 65.921875 20.015625 65.03125 \r\nQ 15.375 64.15625 9.8125 62.3125 \r\nL 9.8125 71.09375 \r\nQ 15.4375 72.65625 20.34375 73.4375 \r\nQ 25.25 74.21875 29.59375 74.21875 \r\nQ 40.828125 74.21875 47.359375 69.109375 \r\nQ 53.90625 64.015625 53.90625 55.328125 \r\nQ 53.90625 49.265625 50.4375 45.09375 \r\nQ 46.96875 40.921875 40.578125 39.3125 \r\nz\r\n\" id=\"DejaVuSans-51\"/>\r\n        <path d=\"M 31.78125 66.40625 \r\nQ 24.171875 66.40625 20.328125 58.90625 \r\nQ 16.5 51.421875 16.5 36.375 \r\nQ 16.5 21.390625 20.328125 13.890625 \r\nQ 24.171875 6.390625 31.78125 6.390625 \r\nQ 39.453125 6.390625 43.28125 13.890625 \r\nQ 47.125 21.390625 47.125 36.375 \r\nQ 47.125 51.421875 43.28125 58.90625 \r\nQ 39.453125 66.40625 31.78125 66.40625 \r\nz\r\nM 31.78125 74.21875 \r\nQ 44.046875 74.21875 50.515625 64.515625 \r\nQ 56.984375 54.828125 56.984375 36.375 \r\nQ 56.984375 17.96875 50.515625 8.265625 \r\nQ 44.046875 -1.421875 31.78125 -1.421875 \r\nQ 19.53125 -1.421875 13.0625 8.265625 \r\nQ 6.59375 17.96875 6.59375 36.375 \r\nQ 6.59375 54.828125 13.0625 64.515625 \r\nQ 19.53125 74.21875 31.78125 74.21875 \r\nz\r\n\" id=\"DejaVuSans-48\"/>\r\n       </defs>\r\n       <use xlink:href=\"#DejaVuSans-51\"/>\r\n       <use x=\"63.623047\" xlink:href=\"#DejaVuSans-48\"/>\r\n      </g>\r\n     </g>\r\n    </g>\r\n    <g id=\"xtick_2\">\r\n     <g id=\"line2d_2\">\r\n      <g>\r\n       <use style=\"fill:#ffffff;stroke:#ffffff;stroke-width:0.8;\" x=\"148.607178\" xlink:href=\"#m427984a0a2\" y=\"224.64\"/>\r\n      </g>\r\n     </g>\r\n     <g id=\"text_2\">\r\n      <!-- 40 -->\r\n      <g style=\"fill:#ffffff;\" transform=\"translate(142.244678 239.238437)scale(0.1 -0.1)\">\r\n       <defs>\r\n        <path d=\"M 37.796875 64.3125 \r\nL 12.890625 25.390625 \r\nL 37.796875 25.390625 \r\nz\r\nM 35.203125 72.90625 \r\nL 47.609375 72.90625 \r\nL 47.609375 25.390625 \r\nL 58.015625 25.390625 \r\nL 58.015625 17.1875 \r\nL 47.609375 17.1875 \r\nL 47.609375 0 \r\nL 37.796875 0 \r\nL 37.796875 17.1875 \r\nL 4.890625 17.1875 \r\nL 4.890625 26.703125 \r\nz\r\n\" id=\"DejaVuSans-52\"/>\r\n       </defs>\r\n       <use xlink:href=\"#DejaVuSans-52\"/>\r\n       <use x=\"63.623047\" xlink:href=\"#DejaVuSans-48\"/>\r\n      </g>\r\n     </g>\r\n    </g>\r\n    <g id=\"xtick_3\">\r\n     <g id=\"line2d_3\">\r\n      <g>\r\n       <use style=\"fill:#ffffff;stroke:#ffffff;stroke-width:0.8;\" x=\"215.918069\" xlink:href=\"#m427984a0a2\" y=\"224.64\"/>\r\n      </g>\r\n     </g>\r\n     <g id=\"text_3\">\r\n      <!-- 50 -->\r\n      <g style=\"fill:#ffffff;\" transform=\"translate(209.555569 239.238437)scale(0.1 -0.1)\">\r\n       <defs>\r\n        <path d=\"M 10.796875 72.90625 \r\nL 49.515625 72.90625 \r\nL 49.515625 64.59375 \r\nL 19.828125 64.59375 \r\nL 19.828125 46.734375 \r\nQ 21.96875 47.46875 24.109375 47.828125 \r\nQ 26.265625 48.1875 28.421875 48.1875 \r\nQ 40.625 48.1875 47.75 41.5 \r\nQ 54.890625 34.8125 54.890625 23.390625 \r\nQ 54.890625 11.625 47.5625 5.09375 \r\nQ 40.234375 -1.421875 26.90625 -1.421875 \r\nQ 22.3125 -1.421875 17.546875 -0.640625 \r\nQ 12.796875 0.140625 7.71875 1.703125 \r\nL 7.71875 11.625 \r\nQ 12.109375 9.234375 16.796875 8.0625 \r\nQ 21.484375 6.890625 26.703125 6.890625 \r\nQ 35.15625 6.890625 40.078125 11.328125 \r\nQ 45.015625 15.765625 45.015625 23.390625 \r\nQ 45.015625 31 40.078125 35.4375 \r\nQ 35.15625 39.890625 26.703125 39.890625 \r\nQ 22.75 39.890625 18.8125 39.015625 \r\nQ 14.890625 38.140625 10.796875 36.28125 \r\nz\r\n\" id=\"DejaVuSans-53\"/>\r\n       </defs>\r\n       <use xlink:href=\"#DejaVuSans-53\"/>\r\n       <use x=\"63.623047\" xlink:href=\"#DejaVuSans-48\"/>\r\n      </g>\r\n     </g>\r\n    </g>\r\n    <g id=\"xtick_4\">\r\n     <g id=\"line2d_4\">\r\n      <g>\r\n       <use style=\"fill:#ffffff;stroke:#ffffff;stroke-width:0.8;\" x=\"283.228961\" xlink:href=\"#m427984a0a2\" y=\"224.64\"/>\r\n      </g>\r\n     </g>\r\n     <g id=\"text_4\">\r\n      <!-- 60 -->\r\n      <g style=\"fill:#ffffff;\" transform=\"translate(276.866461 239.238437)scale(0.1 -0.1)\">\r\n       <defs>\r\n        <path d=\"M 33.015625 40.375 \r\nQ 26.375 40.375 22.484375 35.828125 \r\nQ 18.609375 31.296875 18.609375 23.390625 \r\nQ 18.609375 15.53125 22.484375 10.953125 \r\nQ 26.375 6.390625 33.015625 6.390625 \r\nQ 39.65625 6.390625 43.53125 10.953125 \r\nQ 47.40625 15.53125 47.40625 23.390625 \r\nQ 47.40625 31.296875 43.53125 35.828125 \r\nQ 39.65625 40.375 33.015625 40.375 \r\nz\r\nM 52.59375 71.296875 \r\nL 52.59375 62.3125 \r\nQ 48.875 64.0625 45.09375 64.984375 \r\nQ 41.3125 65.921875 37.59375 65.921875 \r\nQ 27.828125 65.921875 22.671875 59.328125 \r\nQ 17.53125 52.734375 16.796875 39.40625 \r\nQ 19.671875 43.65625 24.015625 45.921875 \r\nQ 28.375 48.1875 33.59375 48.1875 \r\nQ 44.578125 48.1875 50.953125 41.515625 \r\nQ 57.328125 34.859375 57.328125 23.390625 \r\nQ 57.328125 12.15625 50.6875 5.359375 \r\nQ 44.046875 -1.421875 33.015625 -1.421875 \r\nQ 20.359375 -1.421875 13.671875 8.265625 \r\nQ 6.984375 17.96875 6.984375 36.375 \r\nQ 6.984375 53.65625 15.1875 63.9375 \r\nQ 23.390625 74.21875 37.203125 74.21875 \r\nQ 40.921875 74.21875 44.703125 73.484375 \r\nQ 48.484375 72.75 52.59375 71.296875 \r\nz\r\n\" id=\"DejaVuSans-54\"/>\r\n       </defs>\r\n       <use xlink:href=\"#DejaVuSans-54\"/>\r\n       <use x=\"63.623047\" xlink:href=\"#DejaVuSans-48\"/>\r\n      </g>\r\n     </g>\r\n    </g>\r\n    <g id=\"xtick_5\">\r\n     <g id=\"line2d_5\">\r\n      <g>\r\n       <use style=\"fill:#ffffff;stroke:#ffffff;stroke-width:0.8;\" x=\"350.539852\" xlink:href=\"#m427984a0a2\" y=\"224.64\"/>\r\n      </g>\r\n     </g>\r\n     <g id=\"text_5\">\r\n      <!-- 70 -->\r\n      <g style=\"fill:#ffffff;\" transform=\"translate(344.177352 239.238437)scale(0.1 -0.1)\">\r\n       <defs>\r\n        <path d=\"M 8.203125 72.90625 \r\nL 55.078125 72.90625 \r\nL 55.078125 68.703125 \r\nL 28.609375 0 \r\nL 18.3125 0 \r\nL 43.21875 64.59375 \r\nL 8.203125 64.59375 \r\nz\r\n\" id=\"DejaVuSans-55\"/>\r\n       </defs>\r\n       <use xlink:href=\"#DejaVuSans-55\"/>\r\n       <use x=\"63.623047\" xlink:href=\"#DejaVuSans-48\"/>\r\n      </g>\r\n     </g>\r\n    </g>\r\n   </g>\r\n   <g id=\"matplotlib.axis_2\">\r\n    <g id=\"ytick_1\">\r\n     <g id=\"line2d_6\">\r\n      <defs>\r\n       <path d=\"M 0 0 \r\nL -3.5 0 \r\n\" id=\"md8e0320a9c\" style=\"stroke:#ffffff;stroke-width:0.8;\"/>\r\n      </defs>\r\n      <g>\r\n       <use style=\"fill:#ffffff;stroke:#ffffff;stroke-width:0.8;\" x=\"33.2875\" xlink:href=\"#md8e0320a9c\" y=\"218.794993\"/>\r\n      </g>\r\n     </g>\r\n     <g id=\"text_6\">\r\n      <!-- 40 -->\r\n      <g style=\"fill:#ffffff;\" transform=\"translate(13.5625 222.594211)scale(0.1 -0.1)\">\r\n       <use xlink:href=\"#DejaVuSans-52\"/>\r\n       <use x=\"63.623047\" xlink:href=\"#DejaVuSans-48\"/>\r\n      </g>\r\n     </g>\r\n    </g>\r\n    <g id=\"ytick_2\">\r\n     <g id=\"line2d_7\">\r\n      <g>\r\n       <use style=\"fill:#ffffff;stroke:#ffffff;stroke-width:0.8;\" x=\"33.2875\" xlink:href=\"#md8e0320a9c\" y=\"185.737774\"/>\r\n      </g>\r\n     </g>\r\n     <g id=\"text_7\">\r\n      <!-- 50 -->\r\n      <g style=\"fill:#ffffff;\" transform=\"translate(13.5625 189.536993)scale(0.1 -0.1)\">\r\n       <use xlink:href=\"#DejaVuSans-53\"/>\r\n       <use x=\"63.623047\" xlink:href=\"#DejaVuSans-48\"/>\r\n      </g>\r\n     </g>\r\n    </g>\r\n    <g id=\"ytick_3\">\r\n     <g id=\"line2d_8\">\r\n      <g>\r\n       <use style=\"fill:#ffffff;stroke:#ffffff;stroke-width:0.8;\" x=\"33.2875\" xlink:href=\"#md8e0320a9c\" y=\"152.680556\"/>\r\n      </g>\r\n     </g>\r\n     <g id=\"text_8\">\r\n      <!-- 60 -->\r\n      <g style=\"fill:#ffffff;\" transform=\"translate(13.5625 156.479775)scale(0.1 -0.1)\">\r\n       <use xlink:href=\"#DejaVuSans-54\"/>\r\n       <use x=\"63.623047\" xlink:href=\"#DejaVuSans-48\"/>\r\n      </g>\r\n     </g>\r\n    </g>\r\n    <g id=\"ytick_4\">\r\n     <g id=\"line2d_9\">\r\n      <g>\r\n       <use style=\"fill:#ffffff;stroke:#ffffff;stroke-width:0.8;\" x=\"33.2875\" xlink:href=\"#md8e0320a9c\" y=\"119.623338\"/>\r\n      </g>\r\n     </g>\r\n     <g id=\"text_9\">\r\n      <!-- 70 -->\r\n      <g style=\"fill:#ffffff;\" transform=\"translate(13.5625 123.422557)scale(0.1 -0.1)\">\r\n       <use xlink:href=\"#DejaVuSans-55\"/>\r\n       <use x=\"63.623047\" xlink:href=\"#DejaVuSans-48\"/>\r\n      </g>\r\n     </g>\r\n    </g>\r\n    <g id=\"ytick_5\">\r\n     <g id=\"line2d_10\">\r\n      <g>\r\n       <use style=\"fill:#ffffff;stroke:#ffffff;stroke-width:0.8;\" x=\"33.2875\" xlink:href=\"#md8e0320a9c\" y=\"86.56612\"/>\r\n      </g>\r\n     </g>\r\n     <g id=\"text_10\">\r\n      <!-- 80 -->\r\n      <g style=\"fill:#ffffff;\" transform=\"translate(13.5625 90.365338)scale(0.1 -0.1)\">\r\n       <defs>\r\n        <path d=\"M 31.78125 34.625 \r\nQ 24.75 34.625 20.71875 30.859375 \r\nQ 16.703125 27.09375 16.703125 20.515625 \r\nQ 16.703125 13.921875 20.71875 10.15625 \r\nQ 24.75 6.390625 31.78125 6.390625 \r\nQ 38.8125 6.390625 42.859375 10.171875 \r\nQ 46.921875 13.96875 46.921875 20.515625 \r\nQ 46.921875 27.09375 42.890625 30.859375 \r\nQ 38.875 34.625 31.78125 34.625 \r\nz\r\nM 21.921875 38.8125 \r\nQ 15.578125 40.375 12.03125 44.71875 \r\nQ 8.5 49.078125 8.5 55.328125 \r\nQ 8.5 64.0625 14.71875 69.140625 \r\nQ 20.953125 74.21875 31.78125 74.21875 \r\nQ 42.671875 74.21875 48.875 69.140625 \r\nQ 55.078125 64.0625 55.078125 55.328125 \r\nQ 55.078125 49.078125 51.53125 44.71875 \r\nQ 48 40.375 41.703125 38.8125 \r\nQ 48.828125 37.15625 52.796875 32.3125 \r\nQ 56.78125 27.484375 56.78125 20.515625 \r\nQ 56.78125 9.90625 50.3125 4.234375 \r\nQ 43.84375 -1.421875 31.78125 -1.421875 \r\nQ 19.734375 -1.421875 13.25 4.234375 \r\nQ 6.78125 9.90625 6.78125 20.515625 \r\nQ 6.78125 27.484375 10.78125 32.3125 \r\nQ 14.796875 37.15625 21.921875 38.8125 \r\nz\r\nM 18.3125 54.390625 \r\nQ 18.3125 48.734375 21.84375 45.5625 \r\nQ 25.390625 42.390625 31.78125 42.390625 \r\nQ 38.140625 42.390625 41.71875 45.5625 \r\nQ 45.3125 48.734375 45.3125 54.390625 \r\nQ 45.3125 60.0625 41.71875 63.234375 \r\nQ 38.140625 66.40625 31.78125 66.40625 \r\nQ 25.390625 66.40625 21.84375 63.234375 \r\nQ 18.3125 60.0625 18.3125 54.390625 \r\nz\r\n\" id=\"DejaVuSans-56\"/>\r\n       </defs>\r\n       <use xlink:href=\"#DejaVuSans-56\"/>\r\n       <use x=\"63.623047\" xlink:href=\"#DejaVuSans-48\"/>\r\n      </g>\r\n     </g>\r\n    </g>\r\n    <g id=\"ytick_6\">\r\n     <g id=\"line2d_11\">\r\n      <g>\r\n       <use style=\"fill:#ffffff;stroke:#ffffff;stroke-width:0.8;\" x=\"33.2875\" xlink:href=\"#md8e0320a9c\" y=\"53.508901\"/>\r\n      </g>\r\n     </g>\r\n     <g id=\"text_11\">\r\n      <!-- 90 -->\r\n      <g style=\"fill:#ffffff;\" transform=\"translate(13.5625 57.30812)scale(0.1 -0.1)\">\r\n       <defs>\r\n        <path d=\"M 10.984375 1.515625 \r\nL 10.984375 10.5 \r\nQ 14.703125 8.734375 18.5 7.8125 \r\nQ 22.3125 6.890625 25.984375 6.890625 \r\nQ 35.75 6.890625 40.890625 13.453125 \r\nQ 46.046875 20.015625 46.78125 33.40625 \r\nQ 43.953125 29.203125 39.59375 26.953125 \r\nQ 35.25 24.703125 29.984375 24.703125 \r\nQ 19.046875 24.703125 12.671875 31.3125 \r\nQ 6.296875 37.9375 6.296875 49.421875 \r\nQ 6.296875 60.640625 12.9375 67.421875 \r\nQ 19.578125 74.21875 30.609375 74.21875 \r\nQ 43.265625 74.21875 49.921875 64.515625 \r\nQ 56.59375 54.828125 56.59375 36.375 \r\nQ 56.59375 19.140625 48.40625 8.859375 \r\nQ 40.234375 -1.421875 26.421875 -1.421875 \r\nQ 22.703125 -1.421875 18.890625 -0.6875 \r\nQ 15.09375 0.046875 10.984375 1.515625 \r\nz\r\nM 30.609375 32.421875 \r\nQ 37.25 32.421875 41.125 36.953125 \r\nQ 45.015625 41.5 45.015625 49.421875 \r\nQ 45.015625 57.28125 41.125 61.84375 \r\nQ 37.25 66.40625 30.609375 66.40625 \r\nQ 23.96875 66.40625 20.09375 61.84375 \r\nQ 16.21875 57.28125 16.21875 49.421875 \r\nQ 16.21875 41.5 20.09375 36.953125 \r\nQ 23.96875 32.421875 30.609375 32.421875 \r\nz\r\n\" id=\"DejaVuSans-57\"/>\r\n       </defs>\r\n       <use xlink:href=\"#DejaVuSans-57\"/>\r\n       <use x=\"63.623047\" xlink:href=\"#DejaVuSans-48\"/>\r\n      </g>\r\n     </g>\r\n    </g>\r\n    <g id=\"ytick_7\">\r\n     <g id=\"line2d_12\">\r\n      <g>\r\n       <use style=\"fill:#ffffff;stroke:#ffffff;stroke-width:0.8;\" x=\"33.2875\" xlink:href=\"#md8e0320a9c\" y=\"20.451683\"/>\r\n      </g>\r\n     </g>\r\n     <g id=\"text_12\">\r\n      <!-- 100 -->\r\n      <g style=\"fill:#ffffff;\" transform=\"translate(7.2 24.250902)scale(0.1 -0.1)\">\r\n       <defs>\r\n        <path d=\"M 12.40625 8.296875 \r\nL 28.515625 8.296875 \r\nL 28.515625 63.921875 \r\nL 10.984375 60.40625 \r\nL 10.984375 69.390625 \r\nL 28.421875 72.90625 \r\nL 38.28125 72.90625 \r\nL 38.28125 8.296875 \r\nL 54.390625 8.296875 \r\nL 54.390625 0 \r\nL 12.40625 0 \r\nz\r\n\" id=\"DejaVuSans-49\"/>\r\n       </defs>\r\n       <use xlink:href=\"#DejaVuSans-49\"/>\r\n       <use x=\"63.623047\" xlink:href=\"#DejaVuSans-48\"/>\r\n       <use x=\"127.246094\" xlink:href=\"#DejaVuSans-48\"/>\r\n      </g>\r\n     </g>\r\n    </g>\r\n   </g>\r\n   <g id=\"line2d_13\">\r\n    <path clip-path=\"url(#pb0097ff83b)\" d=\"M 98.139795 182.520875 \r\nL 238.984193 91.047739 \r\nL 293.529937 55.622331 \r\nL 198.926374 117.063785 \r\nL 281.971646 63.129006 \r\nL 250.530598 83.548784 \r\nL 230.80587 96.359252 \r\nL 143.892499 152.806216 \r\nL 203.162936 114.312298 \r\nL 233.082444 94.880703 \r\nL 185.087864 126.051376 \r\nL 245.209312 87.004759 \r\nL 176.635766 131.540696 \r\nL 270.900774 70.319121 \r\nL 261.199506 76.619729 \r\nL 208.890062 110.592745 \r\nL 180.157113 129.253713 \r\nL 285.230294 61.012637 \r\nL 186.42677 125.181808 \r\nL 140.643071 154.916597 \r\nL 324.893168 35.253093 \r\nL 319.684888 38.635675 \r\nL 198.96386 117.039439 \r\nL 159.212969 142.856147 \r\nL 228.338187 97.96192 \r\nL 278.993908 65.062935 \r\nL 265.122354 74.071987 \r\nL 307.565626 46.50668 \r\nL 193.958695 120.290106 \r\nL 219.665671 103.594392 \r\nL 230.887985 96.305921 \r\nL 118.773846 169.119835 \r\nL 165.007321 139.092933 \r\nL 270.874317 70.336304 \r\nL 266.431175 73.221957 \r\nL 185.227875 125.960445 \r\nL 295.992605 54.022921 \r\nL 102.121143 179.935139 \r\nL 124.61764 165.324511 \r\nL 132.961803 159.905291 \r\nL 179.271384 129.828961 \r\nL 170.942834 135.238041 \r\nL 216.410419 105.708556 \r\nL 174.660616 132.823481 \r\nL 303.405271 49.208674 \r\nL 99.261858 181.792138 \r\nL 149.73059 149.014596 \r\nL 239.982235 90.399549 \r\nL 107.306661 176.56734 \r\nL 314.913131 41.734752 \r\nL 135.951545 157.963566 \r\nL 178.914163 130.060963 \r\nL 152.642724 147.123274 \r\nL 160.189204 142.222119 \r\nL 223.245766 101.269255 \r\nL 250.099185 83.82897 \r\nL 157.880778 143.721355 \r\nL 300.020992 51.406636 \r\nL 210.559365 109.508595 \r\nL 156.02945 144.923723 \r\nL 156.563433 144.576921 \r\nL 217.172673 105.2135 \r\nL 231.927603 95.630729 \r\nL 216.830034 105.436032 \r\nL 105.829127 177.526943 \r\nL 145.631371 151.676884 \r\nL 257.182263 79.228778 \r\nL 265.472698 73.844452 \r\nL 285.041067 61.135533 \r\nL 119.516042 168.637807 \r\nL 91.986043 186.517505 \r\nL 240.560131 90.024227 \r\nL 193.585854 120.532252 \r\nL 169.526193 136.158096 \r\nL 352.869318 17.083636 \r\nL 178.848991 130.10329 \r\nL 266.431752 73.221583 \r\nL 127.94325 163.164653 \r\nL 254.996978 80.648038 \r\nL 141.571635 154.31353 \r\nL 262.370761 75.859044 \r\nL 262.153252 76.000307 \r\nL 110.462935 174.51746 \r\nL 276.832684 66.466569 \r\nL 268.341299 71.981403 \r\nL 244.742806 87.307737 \r\nL 223.24634 101.268882 \r\nL 217.821866 104.791874 \r\nL 176.956787 131.332205 \r\nL 135.18194 158.463396 \r\nL 101.088919 180.60553 \r\nL 240.766824 89.889987 \r\nL 342.2319 23.992239 \r\nL 190.548369 122.504984 \r\nL 339.22732 25.943601 \r\nL 216.121175 105.896409 \r\nL 210.800862 109.351752 \r\nL 216.184458 105.855309 \r\nL 203.464604 114.116375 \r\nL 48.505682 214.756364 \r\n\" style=\"fill:none;stroke:#8dd3c7;stroke-linecap:square;stroke-width:1.5;\"/>\r\n   </g>\r\n   <g id=\"patch_3\">\r\n    <path d=\"M 33.2875 224.64 \r\nL 33.2875 7.2 \r\n\" style=\"fill:none;stroke:#ffffff;stroke-linecap:square;stroke-linejoin:miter;stroke-width:0.8;\"/>\r\n   </g>\r\n   <g id=\"patch_4\">\r\n    <path d=\"M 368.0875 224.64 \r\nL 368.0875 7.2 \r\n\" style=\"fill:none;stroke:#ffffff;stroke-linecap:square;stroke-linejoin:miter;stroke-width:0.8;\"/>\r\n   </g>\r\n   <g id=\"patch_5\">\r\n    <path d=\"M 33.2875 224.64 \r\nL 368.0875 224.64 \r\n\" style=\"fill:none;stroke:#ffffff;stroke-linecap:square;stroke-linejoin:miter;stroke-width:0.8;\"/>\r\n   </g>\r\n   <g id=\"patch_6\">\r\n    <path d=\"M 33.2875 7.2 \r\nL 368.0875 7.2 \r\n\" style=\"fill:none;stroke:#ffffff;stroke-linecap:square;stroke-linejoin:miter;stroke-width:0.8;\"/>\r\n   </g>\r\n  </g>\r\n </g>\r\n <defs>\r\n  <clipPath id=\"pb0097ff83b\">\r\n   <rect height=\"217.44\" width=\"334.8\" x=\"33.2875\" y=\"7.2\"/>\r\n  </clipPath>\r\n </defs>\r\n</svg>\r\n",
      "image/png": "[encoded data removed]"
     },
     "metadata": {}
    }
   ],
   "source": []
  },
  {
   "cell_type": "code",
   "execution_count": 66,
   "metadata": {},
   "outputs": [
    {
     "output_type": "execute_result",
     "data": {
      "text/plain": [
       "[<matplotlib.lines.Line2D at 0x1ec32f5f280>]"
      ]
     },
     "metadata": {},
     "execution_count": 66
    },
    {
     "output_type": "display_data",
     "data": {
      "text/plain": "<Figure size 432x288 with 1 Axes>",
      "image/svg+xml": "<?xml version=\"1.0\" encoding=\"utf-8\" standalone=\"no\"?>\r\n<!DOCTYPE svg PUBLIC \"-//W3C//DTD SVG 1.1//EN\"\r\n  \"http://www.w3.org/Graphics/SVG/1.1/DTD/svg11.dtd\">\r\n<!-- Created with matplotlib (https://matplotlib.org/) -->\r\n<svg height=\"248.518125pt\" version=\"1.1\" viewBox=\"0 0 375.2875 248.518125\" width=\"375.2875pt\" xmlns=\"http://www.w3.org/2000/svg\" xmlns:xlink=\"http://www.w3.org/1999/xlink\">\r\n <metadata>\r\n  <rdf:RDF xmlns:cc=\"http://creativecommons.org/ns#\" xmlns:dc=\"http://purl.org/dc/elements/1.1/\" xmlns:rdf=\"http://www.w3.org/1999/02/22-rdf-syntax-ns#\">\r\n   <cc:Work>\r\n    <dc:type rdf:resource=\"http://purl.org/dc/dcmitype/StillImage\"/>\r\n    <dc:date>2021-01-25T12:34:45.018841</dc:date>\r\n    <dc:format>image/svg+xml</dc:format>\r\n    <dc:creator>\r\n     <cc:Agent>\r\n      <dc:title>Matplotlib v3.3.3, https://matplotlib.org/</dc:title>\r\n     </cc:Agent>\r\n    </dc:creator>\r\n   </cc:Work>\r\n  </rdf:RDF>\r\n </metadata>\r\n <defs>\r\n  <style type=\"text/css\">*{stroke-linecap:butt;stroke-linejoin:round;}</style>\r\n </defs>\r\n <g id=\"figure_1\">\r\n  <g id=\"patch_1\">\r\n   <path d=\"M 0 248.518125 \r\nL 375.2875 248.518125 \r\nL 375.2875 0 \r\nL 0 0 \r\nz\r\n\"/>\r\n  </g>\r\n  <g id=\"axes_1\">\r\n   <g id=\"patch_2\">\r\n    <path d=\"M 33.2875 224.64 \r\nL 368.0875 224.64 \r\nL 368.0875 7.2 \r\nL 33.2875 7.2 \r\nz\r\n\"/>\r\n   </g>\r\n   <g id=\"PathCollection_1\">\r\n    <defs>\r\n     <path d=\"M 0 3 \r\nC 0.795609 3 1.55874 2.683901 2.12132 2.12132 \r\nC 2.683901 1.55874 3 0.795609 3 0 \r\nC 3 -0.795609 2.683901 -1.55874 2.12132 -2.12132 \r\nC 1.55874 -2.683901 0.795609 -3 0 -3 \r\nC -0.795609 -3 -1.55874 -2.683901 -2.12132 -2.12132 \r\nC -2.683901 -1.55874 -3 -0.795609 -3 0 \r\nC -3 0.795609 -2.683901 1.55874 -2.12132 2.12132 \r\nC -1.55874 2.683901 -0.795609 3 0 3 \r\nz\r\n\" id=\"m29d0c4d5b5\" style=\"stroke:#8dd3c7;\"/>\r\n    </defs>\r\n    <g clip-path=\"url(#pe70cd00f36)\">\r\n     <use style=\"fill:#8dd3c7;stroke:#8dd3c7;\" x=\"98.139795\" xlink:href=\"#m29d0c4d5b5\" y=\"214.756364\"/>\r\n     <use style=\"fill:#8dd3c7;stroke:#8dd3c7;\" x=\"238.984193\" xlink:href=\"#m29d0c4d5b5\" y=\"130.416015\"/>\r\n     <use style=\"fill:#8dd3c7;stroke:#8dd3c7;\" x=\"293.529937\" xlink:href=\"#m29d0c4d5b5\" y=\"144.556424\"/>\r\n     <use style=\"fill:#8dd3c7;stroke:#8dd3c7;\" x=\"198.926374\" xlink:href=\"#m29d0c4d5b5\" y=\"124.116103\"/>\r\n     <use style=\"fill:#8dd3c7;stroke:#8dd3c7;\" x=\"281.971646\" xlink:href=\"#m29d0c4d5b5\" y=\"88.432324\"/>\r\n     <use style=\"fill:#8dd3c7;stroke:#8dd3c7;\" x=\"250.530598\" xlink:href=\"#m29d0c4d5b5\" y=\"108.952632\"/>\r\n     <use style=\"fill:#8dd3c7;stroke:#8dd3c7;\" x=\"230.80587\" xlink:href=\"#m29d0c4d5b5\" y=\"105.698164\"/>\r\n     <use style=\"fill:#8dd3c7;stroke:#8dd3c7;\" x=\"143.892499\" xlink:href=\"#m29d0c4d5b5\" y=\"152.27114\"/>\r\n     <use style=\"fill:#8dd3c7;stroke:#8dd3c7;\" x=\"203.162936\" xlink:href=\"#m29d0c4d5b5\" y=\"115.505629\"/>\r\n     <use style=\"fill:#8dd3c7;stroke:#8dd3c7;\" x=\"233.082444\" xlink:href=\"#m29d0c4d5b5\" y=\"124.675221\"/>\r\n     <use style=\"fill:#8dd3c7;stroke:#8dd3c7;\" x=\"185.087864\" xlink:href=\"#m29d0c4d5b5\" y=\"161.384877\"/>\r\n     <use style=\"fill:#8dd3c7;stroke:#8dd3c7;\" x=\"245.209312\" xlink:href=\"#m29d0c4d5b5\" y=\"99.243912\"/>\r\n     <use style=\"fill:#8dd3c7;stroke:#8dd3c7;\" x=\"176.635766\" xlink:href=\"#m29d0c4d5b5\" y=\"145.815614\"/>\r\n     <use style=\"fill:#8dd3c7;stroke:#8dd3c7;\" x=\"270.900774\" xlink:href=\"#m29d0c4d5b5\" y=\"115.365417\"/>\r\n     <use style=\"fill:#8dd3c7;stroke:#8dd3c7;\" x=\"261.199506\" xlink:href=\"#m29d0c4d5b5\" y=\"101.616085\"/>\r\n     <use style=\"fill:#8dd3c7;stroke:#8dd3c7;\" x=\"208.890062\" xlink:href=\"#m29d0c4d5b5\" y=\"148.739884\"/>\r\n     <use style=\"fill:#8dd3c7;stroke:#8dd3c7;\" x=\"180.157113\" xlink:href=\"#m29d0c4d5b5\" y=\"98.302789\"/>\r\n     <use style=\"fill:#8dd3c7;stroke:#8dd3c7;\" x=\"285.230294\" xlink:href=\"#m29d0c4d5b5\" y=\"65.342112\"/>\r\n     <use style=\"fill:#8dd3c7;stroke:#8dd3c7;\" x=\"186.42677\" xlink:href=\"#m29d0c4d5b5\" y=\"175.760329\"/>\r\n     <use style=\"fill:#8dd3c7;stroke:#8dd3c7;\" x=\"140.643071\" xlink:href=\"#m29d0c4d5b5\" y=\"157.490913\"/>\r\n     <use style=\"fill:#8dd3c7;stroke:#8dd3c7;\" x=\"324.893168\" xlink:href=\"#m29d0c4d5b5\" y=\"96.059374\"/>\r\n     <use style=\"fill:#8dd3c7;stroke:#8dd3c7;\" x=\"319.684888\" xlink:href=\"#m29d0c4d5b5\" y=\"17.083636\"/>\r\n     <use style=\"fill:#8dd3c7;stroke:#8dd3c7;\" x=\"198.96386\" xlink:href=\"#m29d0c4d5b5\" y=\"156.638636\"/>\r\n     <use style=\"fill:#8dd3c7;stroke:#8dd3c7;\" x=\"159.212969\" xlink:href=\"#m29d0c4d5b5\" y=\"169.971059\"/>\r\n     <use style=\"fill:#8dd3c7;stroke:#8dd3c7;\" x=\"228.338187\" xlink:href=\"#m29d0c4d5b5\" y=\"115.393217\"/>\r\n     <use style=\"fill:#8dd3c7;stroke:#8dd3c7;\" x=\"278.993908\" xlink:href=\"#m29d0c4d5b5\" y=\"116.79262\"/>\r\n     <use style=\"fill:#8dd3c7;stroke:#8dd3c7;\" x=\"265.122354\" xlink:href=\"#m29d0c4d5b5\" y=\"69.721378\"/>\r\n     <use style=\"fill:#8dd3c7;stroke:#8dd3c7;\" x=\"307.565626\" xlink:href=\"#m29d0c4d5b5\" y=\"70.234845\"/>\r\n     <use style=\"fill:#8dd3c7;stroke:#8dd3c7;\" x=\"193.958695\" xlink:href=\"#m29d0c4d5b5\" y=\"107.039504\"/>\r\n     <use style=\"fill:#8dd3c7;stroke:#8dd3c7;\" x=\"219.665671\" xlink:href=\"#m29d0c4d5b5\" y=\"97.075204\"/>\r\n     <use style=\"fill:#8dd3c7;stroke:#8dd3c7;\" x=\"230.887985\" xlink:href=\"#m29d0c4d5b5\" y=\"142.744493\"/>\r\n     <use style=\"fill:#8dd3c7;stroke:#8dd3c7;\" x=\"118.773846\" xlink:href=\"#m29d0c4d5b5\" y=\"192.674243\"/>\r\n     <use style=\"fill:#8dd3c7;stroke:#8dd3c7;\" x=\"165.007321\" xlink:href=\"#m29d0c4d5b5\" y=\"112.579589\"/>\r\n     <use style=\"fill:#8dd3c7;stroke:#8dd3c7;\" x=\"270.874317\" xlink:href=\"#m29d0c4d5b5\" y=\"66.730692\"/>\r\n     <use style=\"fill:#8dd3c7;stroke:#8dd3c7;\" x=\"266.431175\" xlink:href=\"#m29d0c4d5b5\" y=\"118.342969\"/>\r\n     <use style=\"fill:#8dd3c7;stroke:#8dd3c7;\" x=\"185.227875\" xlink:href=\"#m29d0c4d5b5\" y=\"135.397299\"/>\r\n     <use style=\"fill:#8dd3c7;stroke:#8dd3c7;\" x=\"295.992605\" xlink:href=\"#m29d0c4d5b5\" y=\"109.960595\"/>\r\n     <use style=\"fill:#8dd3c7;stroke:#8dd3c7;\" x=\"102.121143\" xlink:href=\"#m29d0c4d5b5\" y=\"171.500298\"/>\r\n     <use style=\"fill:#8dd3c7;stroke:#8dd3c7;\" x=\"124.61764\" xlink:href=\"#m29d0c4d5b5\" y=\"145.552501\"/>\r\n     <use style=\"fill:#8dd3c7;stroke:#8dd3c7;\" x=\"132.961803\" xlink:href=\"#m29d0c4d5b5\" y=\"148.542757\"/>\r\n     <use style=\"fill:#8dd3c7;stroke:#8dd3c7;\" x=\"179.271384\" xlink:href=\"#m29d0c4d5b5\" y=\"167.033324\"/>\r\n     <use style=\"fill:#8dd3c7;stroke:#8dd3c7;\" x=\"170.942834\" xlink:href=\"#m29d0c4d5b5\" y=\"153.640005\"/>\r\n     <use style=\"fill:#8dd3c7;stroke:#8dd3c7;\" x=\"216.410419\" xlink:href=\"#m29d0c4d5b5\" y=\"98.272126\"/>\r\n     <use style=\"fill:#8dd3c7;stroke:#8dd3c7;\" x=\"174.660616\" xlink:href=\"#m29d0c4d5b5\" y=\"147.144775\"/>\r\n     <use style=\"fill:#8dd3c7;stroke:#8dd3c7;\" x=\"303.405271\" xlink:href=\"#m29d0c4d5b5\" y=\"24.698637\"/>\r\n     <use style=\"fill:#8dd3c7;stroke:#8dd3c7;\" x=\"99.261858\" xlink:href=\"#m29d0c4d5b5\" y=\"183.214934\"/>\r\n     <use style=\"fill:#8dd3c7;stroke:#8dd3c7;\" x=\"149.73059\" xlink:href=\"#m29d0c4d5b5\" y=\"163.845707\"/>\r\n     <use style=\"fill:#8dd3c7;stroke:#8dd3c7;\" x=\"239.982235\" xlink:href=\"#m29d0c4d5b5\" y=\"86.695201\"/>\r\n     <use style=\"fill:#8dd3c7;stroke:#8dd3c7;\" x=\"107.306661\" xlink:href=\"#m29d0c4d5b5\" y=\"166.936606\"/>\r\n     <use style=\"fill:#8dd3c7;stroke:#8dd3c7;\" x=\"314.913131\" xlink:href=\"#m29d0c4d5b5\" y=\"73.996195\"/>\r\n     <use style=\"fill:#8dd3c7;stroke:#8dd3c7;\" x=\"135.951545\" xlink:href=\"#m29d0c4d5b5\" y=\"104.505309\"/>\r\n     <use style=\"fill:#8dd3c7;stroke:#8dd3c7;\" x=\"178.914163\" xlink:href=\"#m29d0c4d5b5\" y=\"138.779124\"/>\r\n     <use style=\"fill:#8dd3c7;stroke:#8dd3c7;\" x=\"152.642724\" xlink:href=\"#m29d0c4d5b5\" y=\"137.731223\"/>\r\n     <use style=\"fill:#8dd3c7;stroke:#8dd3c7;\" x=\"160.189204\" xlink:href=\"#m29d0c4d5b5\" y=\"138.371477\"/>\r\n     <use style=\"fill:#8dd3c7;stroke:#8dd3c7;\" x=\"223.245766\" xlink:href=\"#m29d0c4d5b5\" y=\"119.820639\"/>\r\n     <use style=\"fill:#8dd3c7;stroke:#8dd3c7;\" x=\"250.099185\" xlink:href=\"#m29d0c4d5b5\" y=\"125.041862\"/>\r\n     <use style=\"fill:#8dd3c7;stroke:#8dd3c7;\" x=\"157.880778\" xlink:href=\"#m29d0c4d5b5\" y=\"106.924784\"/>\r\n     <use style=\"fill:#8dd3c7;stroke:#8dd3c7;\" x=\"300.020992\" xlink:href=\"#m29d0c4d5b5\" y=\"90.048545\"/>\r\n     <use style=\"fill:#8dd3c7;stroke:#8dd3c7;\" x=\"210.559365\" xlink:href=\"#m29d0c4d5b5\" y=\"94.093361\"/>\r\n     <use style=\"fill:#8dd3c7;stroke:#8dd3c7;\" x=\"156.02945\" xlink:href=\"#m29d0c4d5b5\" y=\"151.84487\"/>\r\n     <use style=\"fill:#8dd3c7;stroke:#8dd3c7;\" x=\"156.563433\" xlink:href=\"#m29d0c4d5b5\" y=\"146.554771\"/>\r\n     <use style=\"fill:#8dd3c7;stroke:#8dd3c7;\" x=\"217.172673\" xlink:href=\"#m29d0c4d5b5\" y=\"127.981609\"/>\r\n     <use style=\"fill:#8dd3c7;stroke:#8dd3c7;\" x=\"231.927603\" xlink:href=\"#m29d0c4d5b5\" y=\"91.009212\"/>\r\n     <use style=\"fill:#8dd3c7;stroke:#8dd3c7;\" x=\"216.830034\" xlink:href=\"#m29d0c4d5b5\" y=\"152.413677\"/>\r\n     <use style=\"fill:#8dd3c7;stroke:#8dd3c7;\" x=\"105.829127\" xlink:href=\"#m29d0c4d5b5\" y=\"127.863127\"/>\r\n     <use style=\"fill:#8dd3c7;stroke:#8dd3c7;\" x=\"145.631371\" xlink:href=\"#m29d0c4d5b5\" y=\"184.825948\"/>\r\n     <use style=\"fill:#8dd3c7;stroke:#8dd3c7;\" x=\"257.182263\" xlink:href=\"#m29d0c4d5b5\" y=\"92.374797\"/>\r\n     <use style=\"fill:#8dd3c7;stroke:#8dd3c7;\" x=\"265.472698\" xlink:href=\"#m29d0c4d5b5\" y=\"69.535651\"/>\r\n     <use style=\"fill:#8dd3c7;stroke:#8dd3c7;\" x=\"285.041067\" xlink:href=\"#m29d0c4d5b5\" y=\"127.061706\"/>\r\n     <use style=\"fill:#8dd3c7;stroke:#8dd3c7;\" x=\"119.516042\" xlink:href=\"#m29d0c4d5b5\" y=\"166.945159\"/>\r\n     <use style=\"fill:#8dd3c7;stroke:#8dd3c7;\" x=\"91.986043\" xlink:href=\"#m29d0c4d5b5\" y=\"172.24408\"/>\r\n     <use style=\"fill:#8dd3c7;stroke:#8dd3c7;\" x=\"240.560131\" xlink:href=\"#m29d0c4d5b5\" y=\"142.099248\"/>\r\n     <use style=\"fill:#8dd3c7;stroke:#8dd3c7;\" x=\"193.585854\" xlink:href=\"#m29d0c4d5b5\" y=\"122.522105\"/>\r\n     <use style=\"fill:#8dd3c7;stroke:#8dd3c7;\" x=\"169.526193\" xlink:href=\"#m29d0c4d5b5\" y=\"155.362986\"/>\r\n     <use style=\"fill:#8dd3c7;stroke:#8dd3c7;\" x=\"352.869318\" xlink:href=\"#m29d0c4d5b5\" y=\"49.695589\"/>\r\n     <use style=\"fill:#8dd3c7;stroke:#8dd3c7;\" x=\"178.848991\" xlink:href=\"#m29d0c4d5b5\" y=\"89.772158\"/>\r\n     <use style=\"fill:#8dd3c7;stroke:#8dd3c7;\" x=\"266.431752\" xlink:href=\"#m29d0c4d5b5\" y=\"78.749713\"/>\r\n     <use style=\"fill:#8dd3c7;stroke:#8dd3c7;\" x=\"127.94325\" xlink:href=\"#m29d0c4d5b5\" y=\"161.234755\"/>\r\n     <use style=\"fill:#8dd3c7;stroke:#8dd3c7;\" x=\"254.996978\" xlink:href=\"#m29d0c4d5b5\" y=\"105.906421\"/>\r\n     <use style=\"fill:#8dd3c7;stroke:#8dd3c7;\" x=\"141.571635\" xlink:href=\"#m29d0c4d5b5\" y=\"184.860909\"/>\r\n     <use style=\"fill:#8dd3c7;stroke:#8dd3c7;\" x=\"262.370761\" xlink:href=\"#m29d0c4d5b5\" y=\"104.411465\"/>\r\n     <use style=\"fill:#8dd3c7;stroke:#8dd3c7;\" x=\"262.153252\" xlink:href=\"#m29d0c4d5b5\" y=\"97.733448\"/>\r\n     <use style=\"fill:#8dd3c7;stroke:#8dd3c7;\" x=\"110.462935\" xlink:href=\"#m29d0c4d5b5\" y=\"160.115783\"/>\r\n     <use style=\"fill:#8dd3c7;stroke:#8dd3c7;\" x=\"276.832684\" xlink:href=\"#m29d0c4d5b5\" y=\"110.266145\"/>\r\n     <use style=\"fill:#8dd3c7;stroke:#8dd3c7;\" x=\"268.341299\" xlink:href=\"#m29d0c4d5b5\" y=\"61.539194\"/>\r\n     <use style=\"fill:#8dd3c7;stroke:#8dd3c7;\" x=\"244.742806\" xlink:href=\"#m29d0c4d5b5\" y=\"106.884249\"/>\r\n     <use style=\"fill:#8dd3c7;stroke:#8dd3c7;\" x=\"223.24634\" xlink:href=\"#m29d0c4d5b5\" y=\"128.5702\"/>\r\n     <use style=\"fill:#8dd3c7;stroke:#8dd3c7;\" x=\"217.821866\" xlink:href=\"#m29d0c4d5b5\" y=\"128.748557\"/>\r\n     <use style=\"fill:#8dd3c7;stroke:#8dd3c7;\" x=\"176.956787\" xlink:href=\"#m29d0c4d5b5\" y=\"119.245208\"/>\r\n     <use style=\"fill:#8dd3c7;stroke:#8dd3c7;\" x=\"135.18194\" xlink:href=\"#m29d0c4d5b5\" y=\"147.276289\"/>\r\n     <use style=\"fill:#8dd3c7;stroke:#8dd3c7;\" x=\"101.088919\" xlink:href=\"#m29d0c4d5b5\" y=\"134.07201\"/>\r\n     <use style=\"fill:#8dd3c7;stroke:#8dd3c7;\" x=\"240.766824\" xlink:href=\"#m29d0c4d5b5\" y=\"91.987717\"/>\r\n     <use style=\"fill:#8dd3c7;stroke:#8dd3c7;\" x=\"342.2319\" xlink:href=\"#m29d0c4d5b5\" y=\"25.586578\"/>\r\n     <use style=\"fill:#8dd3c7;stroke:#8dd3c7;\" x=\"190.548369\" xlink:href=\"#m29d0c4d5b5\" y=\"81.851181\"/>\r\n     <use style=\"fill:#8dd3c7;stroke:#8dd3c7;\" x=\"339.22732\" xlink:href=\"#m29d0c4d5b5\" y=\"64.113715\"/>\r\n     <use style=\"fill:#8dd3c7;stroke:#8dd3c7;\" x=\"216.121175\" xlink:href=\"#m29d0c4d5b5\" y=\"101.386755\"/>\r\n     <use style=\"fill:#8dd3c7;stroke:#8dd3c7;\" x=\"210.800862\" xlink:href=\"#m29d0c4d5b5\" y=\"122.8302\"/>\r\n     <use style=\"fill:#8dd3c7;stroke:#8dd3c7;\" x=\"216.184458\" xlink:href=\"#m29d0c4d5b5\" y=\"92.980119\"/>\r\n     <use style=\"fill:#8dd3c7;stroke:#8dd3c7;\" x=\"203.464604\" xlink:href=\"#m29d0c4d5b5\" y=\"136.223594\"/>\r\n     <use style=\"fill:#8dd3c7;stroke:#8dd3c7;\" x=\"48.505682\" xlink:href=\"#m29d0c4d5b5\" y=\"165.278265\"/>\r\n    </g>\r\n   </g>\r\n   <g id=\"matplotlib.axis_1\">\r\n    <g id=\"xtick_1\">\r\n     <g id=\"line2d_1\">\r\n      <defs>\r\n       <path d=\"M 0 0 \r\nL 0 3.5 \r\n\" id=\"m8260887c13\" style=\"stroke:#ffffff;stroke-width:0.8;\"/>\r\n      </defs>\r\n      <g>\r\n       <use style=\"fill:#ffffff;stroke:#ffffff;stroke-width:0.8;\" x=\"81.296286\" xlink:href=\"#m8260887c13\" y=\"224.64\"/>\r\n      </g>\r\n     </g>\r\n     <g id=\"text_1\">\r\n      <!-- 30 -->\r\n      <g style=\"fill:#ffffff;\" transform=\"translate(74.933786 239.238437)scale(0.1 -0.1)\">\r\n       <defs>\r\n        <path d=\"M 40.578125 39.3125 \r\nQ 47.65625 37.796875 51.625 33 \r\nQ 55.609375 28.21875 55.609375 21.1875 \r\nQ 55.609375 10.40625 48.1875 4.484375 \r\nQ 40.765625 -1.421875 27.09375 -1.421875 \r\nQ 22.515625 -1.421875 17.65625 -0.515625 \r\nQ 12.796875 0.390625 7.625 2.203125 \r\nL 7.625 11.71875 \r\nQ 11.71875 9.328125 16.59375 8.109375 \r\nQ 21.484375 6.890625 26.8125 6.890625 \r\nQ 36.078125 6.890625 40.9375 10.546875 \r\nQ 45.796875 14.203125 45.796875 21.1875 \r\nQ 45.796875 27.640625 41.28125 31.265625 \r\nQ 36.765625 34.90625 28.71875 34.90625 \r\nL 20.21875 34.90625 \r\nL 20.21875 43.015625 \r\nL 29.109375 43.015625 \r\nQ 36.375 43.015625 40.234375 45.921875 \r\nQ 44.09375 48.828125 44.09375 54.296875 \r\nQ 44.09375 59.90625 40.109375 62.90625 \r\nQ 36.140625 65.921875 28.71875 65.921875 \r\nQ 24.65625 65.921875 20.015625 65.03125 \r\nQ 15.375 64.15625 9.8125 62.3125 \r\nL 9.8125 71.09375 \r\nQ 15.4375 72.65625 20.34375 73.4375 \r\nQ 25.25 74.21875 29.59375 74.21875 \r\nQ 40.828125 74.21875 47.359375 69.109375 \r\nQ 53.90625 64.015625 53.90625 55.328125 \r\nQ 53.90625 49.265625 50.4375 45.09375 \r\nQ 46.96875 40.921875 40.578125 39.3125 \r\nz\r\n\" id=\"DejaVuSans-51\"/>\r\n        <path d=\"M 31.78125 66.40625 \r\nQ 24.171875 66.40625 20.328125 58.90625 \r\nQ 16.5 51.421875 16.5 36.375 \r\nQ 16.5 21.390625 20.328125 13.890625 \r\nQ 24.171875 6.390625 31.78125 6.390625 \r\nQ 39.453125 6.390625 43.28125 13.890625 \r\nQ 47.125 21.390625 47.125 36.375 \r\nQ 47.125 51.421875 43.28125 58.90625 \r\nQ 39.453125 66.40625 31.78125 66.40625 \r\nz\r\nM 31.78125 74.21875 \r\nQ 44.046875 74.21875 50.515625 64.515625 \r\nQ 56.984375 54.828125 56.984375 36.375 \r\nQ 56.984375 17.96875 50.515625 8.265625 \r\nQ 44.046875 -1.421875 31.78125 -1.421875 \r\nQ 19.53125 -1.421875 13.0625 8.265625 \r\nQ 6.59375 17.96875 6.59375 36.375 \r\nQ 6.59375 54.828125 13.0625 64.515625 \r\nQ 19.53125 74.21875 31.78125 74.21875 \r\nz\r\n\" id=\"DejaVuSans-48\"/>\r\n       </defs>\r\n       <use xlink:href=\"#DejaVuSans-51\"/>\r\n       <use x=\"63.623047\" xlink:href=\"#DejaVuSans-48\"/>\r\n      </g>\r\n     </g>\r\n    </g>\r\n    <g id=\"xtick_2\">\r\n     <g id=\"line2d_2\">\r\n      <g>\r\n       <use style=\"fill:#ffffff;stroke:#ffffff;stroke-width:0.8;\" x=\"148.607178\" xlink:href=\"#m8260887c13\" y=\"224.64\"/>\r\n      </g>\r\n     </g>\r\n     <g id=\"text_2\">\r\n      <!-- 40 -->\r\n      <g style=\"fill:#ffffff;\" transform=\"translate(142.244678 239.238437)scale(0.1 -0.1)\">\r\n       <defs>\r\n        <path d=\"M 37.796875 64.3125 \r\nL 12.890625 25.390625 \r\nL 37.796875 25.390625 \r\nz\r\nM 35.203125 72.90625 \r\nL 47.609375 72.90625 \r\nL 47.609375 25.390625 \r\nL 58.015625 25.390625 \r\nL 58.015625 17.1875 \r\nL 47.609375 17.1875 \r\nL 47.609375 0 \r\nL 37.796875 0 \r\nL 37.796875 17.1875 \r\nL 4.890625 17.1875 \r\nL 4.890625 26.703125 \r\nz\r\n\" id=\"DejaVuSans-52\"/>\r\n       </defs>\r\n       <use xlink:href=\"#DejaVuSans-52\"/>\r\n       <use x=\"63.623047\" xlink:href=\"#DejaVuSans-48\"/>\r\n      </g>\r\n     </g>\r\n    </g>\r\n    <g id=\"xtick_3\">\r\n     <g id=\"line2d_3\">\r\n      <g>\r\n       <use style=\"fill:#ffffff;stroke:#ffffff;stroke-width:0.8;\" x=\"215.918069\" xlink:href=\"#m8260887c13\" y=\"224.64\"/>\r\n      </g>\r\n     </g>\r\n     <g id=\"text_3\">\r\n      <!-- 50 -->\r\n      <g style=\"fill:#ffffff;\" transform=\"translate(209.555569 239.238437)scale(0.1 -0.1)\">\r\n       <defs>\r\n        <path d=\"M 10.796875 72.90625 \r\nL 49.515625 72.90625 \r\nL 49.515625 64.59375 \r\nL 19.828125 64.59375 \r\nL 19.828125 46.734375 \r\nQ 21.96875 47.46875 24.109375 47.828125 \r\nQ 26.265625 48.1875 28.421875 48.1875 \r\nQ 40.625 48.1875 47.75 41.5 \r\nQ 54.890625 34.8125 54.890625 23.390625 \r\nQ 54.890625 11.625 47.5625 5.09375 \r\nQ 40.234375 -1.421875 26.90625 -1.421875 \r\nQ 22.3125 -1.421875 17.546875 -0.640625 \r\nQ 12.796875 0.140625 7.71875 1.703125 \r\nL 7.71875 11.625 \r\nQ 12.109375 9.234375 16.796875 8.0625 \r\nQ 21.484375 6.890625 26.703125 6.890625 \r\nQ 35.15625 6.890625 40.078125 11.328125 \r\nQ 45.015625 15.765625 45.015625 23.390625 \r\nQ 45.015625 31 40.078125 35.4375 \r\nQ 35.15625 39.890625 26.703125 39.890625 \r\nQ 22.75 39.890625 18.8125 39.015625 \r\nQ 14.890625 38.140625 10.796875 36.28125 \r\nz\r\n\" id=\"DejaVuSans-53\"/>\r\n       </defs>\r\n       <use xlink:href=\"#DejaVuSans-53\"/>\r\n       <use x=\"63.623047\" xlink:href=\"#DejaVuSans-48\"/>\r\n      </g>\r\n     </g>\r\n    </g>\r\n    <g id=\"xtick_4\">\r\n     <g id=\"line2d_4\">\r\n      <g>\r\n       <use style=\"fill:#ffffff;stroke:#ffffff;stroke-width:0.8;\" x=\"283.228961\" xlink:href=\"#m8260887c13\" y=\"224.64\"/>\r\n      </g>\r\n     </g>\r\n     <g id=\"text_4\">\r\n      <!-- 60 -->\r\n      <g style=\"fill:#ffffff;\" transform=\"translate(276.866461 239.238437)scale(0.1 -0.1)\">\r\n       <defs>\r\n        <path d=\"M 33.015625 40.375 \r\nQ 26.375 40.375 22.484375 35.828125 \r\nQ 18.609375 31.296875 18.609375 23.390625 \r\nQ 18.609375 15.53125 22.484375 10.953125 \r\nQ 26.375 6.390625 33.015625 6.390625 \r\nQ 39.65625 6.390625 43.53125 10.953125 \r\nQ 47.40625 15.53125 47.40625 23.390625 \r\nQ 47.40625 31.296875 43.53125 35.828125 \r\nQ 39.65625 40.375 33.015625 40.375 \r\nz\r\nM 52.59375 71.296875 \r\nL 52.59375 62.3125 \r\nQ 48.875 64.0625 45.09375 64.984375 \r\nQ 41.3125 65.921875 37.59375 65.921875 \r\nQ 27.828125 65.921875 22.671875 59.328125 \r\nQ 17.53125 52.734375 16.796875 39.40625 \r\nQ 19.671875 43.65625 24.015625 45.921875 \r\nQ 28.375 48.1875 33.59375 48.1875 \r\nQ 44.578125 48.1875 50.953125 41.515625 \r\nQ 57.328125 34.859375 57.328125 23.390625 \r\nQ 57.328125 12.15625 50.6875 5.359375 \r\nQ 44.046875 -1.421875 33.015625 -1.421875 \r\nQ 20.359375 -1.421875 13.671875 8.265625 \r\nQ 6.984375 17.96875 6.984375 36.375 \r\nQ 6.984375 53.65625 15.1875 63.9375 \r\nQ 23.390625 74.21875 37.203125 74.21875 \r\nQ 40.921875 74.21875 44.703125 73.484375 \r\nQ 48.484375 72.75 52.59375 71.296875 \r\nz\r\n\" id=\"DejaVuSans-54\"/>\r\n       </defs>\r\n       <use xlink:href=\"#DejaVuSans-54\"/>\r\n       <use x=\"63.623047\" xlink:href=\"#DejaVuSans-48\"/>\r\n      </g>\r\n     </g>\r\n    </g>\r\n    <g id=\"xtick_5\">\r\n     <g id=\"line2d_5\">\r\n      <g>\r\n       <use style=\"fill:#ffffff;stroke:#ffffff;stroke-width:0.8;\" x=\"350.539852\" xlink:href=\"#m8260887c13\" y=\"224.64\"/>\r\n      </g>\r\n     </g>\r\n     <g id=\"text_5\">\r\n      <!-- 70 -->\r\n      <g style=\"fill:#ffffff;\" transform=\"translate(344.177352 239.238437)scale(0.1 -0.1)\">\r\n       <defs>\r\n        <path d=\"M 8.203125 72.90625 \r\nL 55.078125 72.90625 \r\nL 55.078125 68.703125 \r\nL 28.609375 0 \r\nL 18.3125 0 \r\nL 43.21875 64.59375 \r\nL 8.203125 64.59375 \r\nz\r\n\" id=\"DejaVuSans-55\"/>\r\n       </defs>\r\n       <use xlink:href=\"#DejaVuSans-55\"/>\r\n       <use x=\"63.623047\" xlink:href=\"#DejaVuSans-48\"/>\r\n      </g>\r\n     </g>\r\n    </g>\r\n   </g>\r\n   <g id=\"matplotlib.axis_2\">\r\n    <g id=\"ytick_1\">\r\n     <g id=\"line2d_6\">\r\n      <defs>\r\n       <path d=\"M 0 0 \r\nL -3.5 0 \r\n\" id=\"m1602c59ac8\" style=\"stroke:#ffffff;stroke-width:0.8;\"/>\r\n      </defs>\r\n      <g>\r\n       <use style=\"fill:#ffffff;stroke:#ffffff;stroke-width:0.8;\" x=\"33.2875\" xlink:href=\"#m1602c59ac8\" y=\"195.888738\"/>\r\n      </g>\r\n     </g>\r\n     <g id=\"text_6\">\r\n      <!-- 40 -->\r\n      <g style=\"fill:#ffffff;\" transform=\"translate(13.5625 199.687957)scale(0.1 -0.1)\">\r\n       <use xlink:href=\"#DejaVuSans-52\"/>\r\n       <use x=\"63.623047\" xlink:href=\"#DejaVuSans-48\"/>\r\n      </g>\r\n     </g>\r\n    </g>\r\n    <g id=\"ytick_2\">\r\n     <g id=\"line2d_7\">\r\n      <g>\r\n       <use style=\"fill:#ffffff;stroke:#ffffff;stroke-width:0.8;\" x=\"33.2875\" xlink:href=\"#m1602c59ac8\" y=\"150.386172\"/>\r\n      </g>\r\n     </g>\r\n     <g id=\"text_7\">\r\n      <!-- 60 -->\r\n      <g style=\"fill:#ffffff;\" transform=\"translate(13.5625 154.185391)scale(0.1 -0.1)\">\r\n       <use xlink:href=\"#DejaVuSans-54\"/>\r\n       <use x=\"63.623047\" xlink:href=\"#DejaVuSans-48\"/>\r\n      </g>\r\n     </g>\r\n    </g>\r\n    <g id=\"ytick_3\">\r\n     <g id=\"line2d_8\">\r\n      <g>\r\n       <use style=\"fill:#ffffff;stroke:#ffffff;stroke-width:0.8;\" x=\"33.2875\" xlink:href=\"#m1602c59ac8\" y=\"104.883607\"/>\r\n      </g>\r\n     </g>\r\n     <g id=\"text_8\">\r\n      <!-- 80 -->\r\n      <g style=\"fill:#ffffff;\" transform=\"translate(13.5625 108.682825)scale(0.1 -0.1)\">\r\n       <defs>\r\n        <path d=\"M 31.78125 34.625 \r\nQ 24.75 34.625 20.71875 30.859375 \r\nQ 16.703125 27.09375 16.703125 20.515625 \r\nQ 16.703125 13.921875 20.71875 10.15625 \r\nQ 24.75 6.390625 31.78125 6.390625 \r\nQ 38.8125 6.390625 42.859375 10.171875 \r\nQ 46.921875 13.96875 46.921875 20.515625 \r\nQ 46.921875 27.09375 42.890625 30.859375 \r\nQ 38.875 34.625 31.78125 34.625 \r\nz\r\nM 21.921875 38.8125 \r\nQ 15.578125 40.375 12.03125 44.71875 \r\nQ 8.5 49.078125 8.5 55.328125 \r\nQ 8.5 64.0625 14.71875 69.140625 \r\nQ 20.953125 74.21875 31.78125 74.21875 \r\nQ 42.671875 74.21875 48.875 69.140625 \r\nQ 55.078125 64.0625 55.078125 55.328125 \r\nQ 55.078125 49.078125 51.53125 44.71875 \r\nQ 48 40.375 41.703125 38.8125 \r\nQ 48.828125 37.15625 52.796875 32.3125 \r\nQ 56.78125 27.484375 56.78125 20.515625 \r\nQ 56.78125 9.90625 50.3125 4.234375 \r\nQ 43.84375 -1.421875 31.78125 -1.421875 \r\nQ 19.734375 -1.421875 13.25 4.234375 \r\nQ 6.78125 9.90625 6.78125 20.515625 \r\nQ 6.78125 27.484375 10.78125 32.3125 \r\nQ 14.796875 37.15625 21.921875 38.8125 \r\nz\r\nM 18.3125 54.390625 \r\nQ 18.3125 48.734375 21.84375 45.5625 \r\nQ 25.390625 42.390625 31.78125 42.390625 \r\nQ 38.140625 42.390625 41.71875 45.5625 \r\nQ 45.3125 48.734375 45.3125 54.390625 \r\nQ 45.3125 60.0625 41.71875 63.234375 \r\nQ 38.140625 66.40625 31.78125 66.40625 \r\nQ 25.390625 66.40625 21.84375 63.234375 \r\nQ 18.3125 60.0625 18.3125 54.390625 \r\nz\r\n\" id=\"DejaVuSans-56\"/>\r\n       </defs>\r\n       <use xlink:href=\"#DejaVuSans-56\"/>\r\n       <use x=\"63.623047\" xlink:href=\"#DejaVuSans-48\"/>\r\n      </g>\r\n     </g>\r\n    </g>\r\n    <g id=\"ytick_4\">\r\n     <g id=\"line2d_9\">\r\n      <g>\r\n       <use style=\"fill:#ffffff;stroke:#ffffff;stroke-width:0.8;\" x=\"33.2875\" xlink:href=\"#m1602c59ac8\" y=\"59.381041\"/>\r\n      </g>\r\n     </g>\r\n     <g id=\"text_9\">\r\n      <!-- 100 -->\r\n      <g style=\"fill:#ffffff;\" transform=\"translate(7.2 63.18026)scale(0.1 -0.1)\">\r\n       <defs>\r\n        <path d=\"M 12.40625 8.296875 \r\nL 28.515625 8.296875 \r\nL 28.515625 63.921875 \r\nL 10.984375 60.40625 \r\nL 10.984375 69.390625 \r\nL 28.421875 72.90625 \r\nL 38.28125 72.90625 \r\nL 38.28125 8.296875 \r\nL 54.390625 8.296875 \r\nL 54.390625 0 \r\nL 12.40625 0 \r\nz\r\n\" id=\"DejaVuSans-49\"/>\r\n       </defs>\r\n       <use xlink:href=\"#DejaVuSans-49\"/>\r\n       <use x=\"63.623047\" xlink:href=\"#DejaVuSans-48\"/>\r\n       <use x=\"127.246094\" xlink:href=\"#DejaVuSans-48\"/>\r\n      </g>\r\n     </g>\r\n    </g>\r\n    <g id=\"ytick_5\">\r\n     <g id=\"line2d_10\">\r\n      <g>\r\n       <use style=\"fill:#ffffff;stroke:#ffffff;stroke-width:0.8;\" x=\"33.2875\" xlink:href=\"#m1602c59ac8\" y=\"13.878475\"/>\r\n      </g>\r\n     </g>\r\n     <g id=\"text_10\">\r\n      <!-- 120 -->\r\n      <g style=\"fill:#ffffff;\" transform=\"translate(7.2 17.677694)scale(0.1 -0.1)\">\r\n       <defs>\r\n        <path d=\"M 19.1875 8.296875 \r\nL 53.609375 8.296875 \r\nL 53.609375 0 \r\nL 7.328125 0 \r\nL 7.328125 8.296875 \r\nQ 12.9375 14.109375 22.625 23.890625 \r\nQ 32.328125 33.6875 34.8125 36.53125 \r\nQ 39.546875 41.84375 41.421875 45.53125 \r\nQ 43.3125 49.21875 43.3125 52.78125 \r\nQ 43.3125 58.59375 39.234375 62.25 \r\nQ 35.15625 65.921875 28.609375 65.921875 \r\nQ 23.96875 65.921875 18.8125 64.3125 \r\nQ 13.671875 62.703125 7.8125 59.421875 \r\nL 7.8125 69.390625 \r\nQ 13.765625 71.78125 18.9375 73 \r\nQ 24.125 74.21875 28.421875 74.21875 \r\nQ 39.75 74.21875 46.484375 68.546875 \r\nQ 53.21875 62.890625 53.21875 53.421875 \r\nQ 53.21875 48.921875 51.53125 44.890625 \r\nQ 49.859375 40.875 45.40625 35.40625 \r\nQ 44.1875 33.984375 37.640625 27.21875 \r\nQ 31.109375 20.453125 19.1875 8.296875 \r\nz\r\n\" id=\"DejaVuSans-50\"/>\r\n       </defs>\r\n       <use xlink:href=\"#DejaVuSans-49\"/>\r\n       <use x=\"63.623047\" xlink:href=\"#DejaVuSans-50\"/>\r\n       <use x=\"127.246094\" xlink:href=\"#DejaVuSans-48\"/>\r\n      </g>\r\n     </g>\r\n    </g>\r\n   </g>\r\n   <g id=\"line2d_11\">\r\n    <path clip-path=\"url(#pe70cd00f36)\" d=\"M 98.139795 170.923458 \r\nL 238.984193 107.968034 \r\nL 293.529937 83.586869 \r\nL 198.926374 125.873304 \r\nL 281.971646 88.753259 \r\nL 250.530598 102.806957 \r\nL 230.80587 111.623627 \r\nL 143.892499 150.472656 \r\nL 203.162936 123.979622 \r\nL 233.082444 110.606031 \r\nL 185.087864 132.058919 \r\nL 245.209312 105.185495 \r\nL 176.635766 135.836886 \r\nL 270.900774 93.701781 \r\nL 261.199506 98.038108 \r\nL 208.890062 121.419679 \r\nL 180.157113 134.262894 \r\nL 285.230294 87.296691 \r\nL 186.42677 131.460448 \r\nL 140.643071 151.925104 \r\nL 324.893168 69.567955 \r\nL 319.684888 71.895982 \r\nL 198.96386 125.856548 \r\nL 159.212969 143.624626 \r\nL 228.338187 112.726646 \r\nL 278.993908 90.084266 \r\nL 265.122354 96.284651 \r\nL 307.565626 77.313118 \r\nL 193.958695 128.093785 \r\nL 219.665671 116.603136 \r\nL 230.887985 111.586923 \r\nL 118.773846 161.700333 \r\nL 165.007321 141.034634 \r\nL 270.874317 93.713607 \r\nL 266.431175 95.699627 \r\nL 185.227875 131.996336 \r\nL 295.992605 82.486092 \r\nL 102.121143 169.143853 \r\nL 124.61764 159.088242 \r\nL 132.961803 155.35852 \r\nL 179.271384 134.658803 \r\nL 170.942834 138.381545 \r\nL 216.410419 118.058187 \r\nL 174.660616 136.719749 \r\nL 303.405271 79.172737 \r\nL 99.261858 170.421912 \r\nL 149.73059 147.863113 \r\nL 239.982235 107.521924 \r\nL 107.306661 166.826 \r\nL 314.913131 74.028889 \r\nL 135.951545 154.022148 \r\nL 178.914163 134.818475 \r\nL 152.642724 146.561431 \r\nL 160.189204 143.188263 \r\nL 223.245766 115.002885 \r\nL 250.099185 102.999792 \r\nL 157.880778 144.220096 \r\nL 300.020992 80.685461 \r\nL 210.559365 120.673524 \r\nL 156.02945 145.047613 \r\nL 156.563433 144.80893 \r\nL 217.172673 117.71747 \r\nL 231.927603 111.122229 \r\nL 216.830034 117.870625 \r\nL 105.829127 167.486437 \r\nL 145.631371 149.695405 \r\nL 257.182263 99.833758 \r\nL 265.472698 96.128052 \r\nL 285.041067 87.381273 \r\nL 119.516042 161.368582 \r\nL 91.986043 173.674097 \r\nL 240.560131 107.263613 \r\nL 193.585854 128.26044 \r\nL 169.526193 139.014763 \r\nL 352.869318 57.063018 \r\nL 178.848991 134.847606 \r\nL 266.431752 95.699369 \r\nL 127.94325 157.601742 \r\nL 254.996978 100.810549 \r\nL 141.571635 151.510049 \r\nL 262.370761 97.514574 \r\nL 262.153252 97.611797 \r\nL 110.462935 165.415192 \r\nL 276.832684 91.050302 \r\nL 268.341299 94.845829 \r\nL 244.742806 105.394017 \r\nL 223.24634 115.002628 \r\nL 217.821866 117.42729 \r\nL 176.956787 135.693394 \r\nL 135.18194 154.366151 \r\nL 101.088919 169.605242 \r\nL 240.766824 107.171223 \r\nL 342.2319 61.817791 \r\nL 190.548369 129.618152 \r\nL 339.22732 63.160795 \r\nL 216.121175 118.187475 \r\nL 210.800862 120.565578 \r\nL 216.184458 118.159188 \r\nL 203.464604 123.84478 \r\nL 48.505682 193.109194 \r\n\" style=\"fill:none;stroke:#ff0000;stroke-linecap:square;stroke-width:1.5;\"/>\r\n   </g>\r\n   <g id=\"patch_3\">\r\n    <path d=\"M 33.2875 224.64 \r\nL 33.2875 7.2 \r\n\" style=\"fill:none;stroke:#ffffff;stroke-linecap:square;stroke-linejoin:miter;stroke-width:0.8;\"/>\r\n   </g>\r\n   <g id=\"patch_4\">\r\n    <path d=\"M 368.0875 224.64 \r\nL 368.0875 7.2 \r\n\" style=\"fill:none;stroke:#ffffff;stroke-linecap:square;stroke-linejoin:miter;stroke-width:0.8;\"/>\r\n   </g>\r\n   <g id=\"patch_5\">\r\n    <path d=\"M 33.2875 224.64 \r\nL 368.0875 224.64 \r\n\" style=\"fill:none;stroke:#ffffff;stroke-linecap:square;stroke-linejoin:miter;stroke-width:0.8;\"/>\r\n   </g>\r\n   <g id=\"patch_6\">\r\n    <path d=\"M 33.2875 7.2 \r\nL 368.0875 7.2 \r\n\" style=\"fill:none;stroke:#ffffff;stroke-linecap:square;stroke-linejoin:miter;stroke-width:0.8;\"/>\r\n   </g>\r\n  </g>\r\n </g>\r\n <defs>\r\n  <clipPath id=\"pe70cd00f36\">\r\n   <rect height=\"217.44\" width=\"334.8\" x=\"33.2875\" y=\"7.2\"/>\r\n  </clipPath>\r\n </defs>\r\n</svg>\r\n",
      "image/png": "[encoded data removed]"
     },
     "metadata": {}
    }
   ],
   "source": [
    "plt.scatter(x,y)\n",
    "plt.plot(x, y_pred, color='r')\n"
   ]
  },
  {
   "cell_type": "code",
   "execution_count": 70,
   "metadata": {},
   "outputs": [],
   "source": [
    "\n",
    "#import the minimum packages\n",
    "import numpy as np\n",
    "import pandas as pd\n",
    "import matplotlib.pyplot as plt\n",
    "\n",
    "\n",
    "class LinearRegression:\n",
    "\n",
    "    def __init__(self, n_iters=100):\n",
    "        self.n_iters=n_iters \n",
    "        self.intercept = None\n",
    "        self.coef = None\n",
    "\n",
    "\n",
    "    def variance(self, x):\n",
    "        x_mean = np.mean(x)\n",
    "        return sum([(val-x_mean)**2 for val in x ])\n",
    "\n",
    "    def covariance(self, x, y):\n",
    "        covariance = 0\n",
    "        x_mean = np.mean(x)\n",
    "        y_mean = np.mean(y)\n",
    "        for i in range(len(x)):\n",
    "            covariance = covariance + (x[i] - x_mean) * (y[i] - y_mean)\n",
    "        return covariance\n",
    "\n",
    "    def fit(self, x, y):\n",
    "\n",
    "        self.coef = self.covariance(x,y) / self.variance(x)\n",
    "        self.intercept = np.mean(y) - self.coef * np.mean(x)\n",
    "        return self \n",
    "\n",
    "    def predict(self, x_test, coef, intercept):\n",
    "        return self.intercept + np.dot(x_test, self.coef)\n",
    "\n",
    "    def rmse(self,x,y):\n",
    "        rmse = 0\n",
    "        for i in range(len(x)):\n",
    "            y_pred = self.intercept + np.dot(x[i], self.coef)\n",
    "            rmse += (y[i] - y_pred) ** 2\n",
    "        return rmse\n",
    "\n",
    "    def r_squared(self, x,y):\n",
    "        sumofsquares = 0\n",
    "        sumofresiduals = 0\n",
    "        for i in range(len(x)) :\n",
    "            y_pred = self.intercept + np.dot(x[i], self.coef)\n",
    "            sumofsquares += (y[i] - np.mean(y)) ** 2\n",
    "            sumofresiduals += (y[i] - y_pred) **2\n",
    "            \n",
    "        score  = 1 - (sumofresiduals/sumofsquares)\n",
    "        return score "
   ]
  },
  {
   "cell_type": "code",
   "execution_count": 71,
   "metadata": {},
   "outputs": [
    {
     "output_type": "execute_result",
     "data": {
      "text/plain": [
       "<__main__.LinearRegression at 0x1ec32f9a340>"
      ]
     },
     "metadata": {},
     "execution_count": 71
    }
   ],
   "source": [
    "lr = LinearRegression()\n",
    "lr"
   ]
  },
  {
   "cell_type": "code",
   "execution_count": 73,
   "metadata": {},
   "outputs": [
    {
     "output_type": "execute_result",
     "data": {
      "text/plain": [
       "<__main__.LinearRegression at 0x1ec32f9a340>"
      ]
     },
     "metadata": {},
     "execution_count": 73
    }
   ],
   "source": [
    "lr.fit(x,y)"
   ]
  },
  {
   "cell_type": "code",
   "execution_count": 74,
   "metadata": {},
   "outputs": [
    {
     "output_type": "execute_result",
     "data": {
      "text/plain": [
       "11025.738346621318"
      ]
     },
     "metadata": {},
     "execution_count": 74
    }
   ],
   "source": [
    "lr.rmse(x,y)"
   ]
  },
  {
   "cell_type": "code",
   "execution_count": 75,
   "metadata": {},
   "outputs": [
    {
     "output_type": "execute_result",
     "data": {
      "text/plain": [
       "0.36621418930672167"
      ]
     },
     "metadata": {},
     "execution_count": 75
    }
   ],
   "source": [
    "lr.r_squared(x,y)"
   ]
  },
  {
   "cell_type": "code",
   "execution_count": null,
   "metadata": {},
   "outputs": [],
   "source": []
  }
 ]
}