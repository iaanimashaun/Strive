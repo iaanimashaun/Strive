version https://git-lfs.github.com/spec/v1
oid sha256:6d052f26cb3604dfaee0cba09ce0b25d65ff9dcc1777e2b678a457fd0c192daf
size 518796
