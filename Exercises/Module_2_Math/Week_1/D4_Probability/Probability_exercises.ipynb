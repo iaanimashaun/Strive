version https://git-lfs.github.com/spec/v1
oid sha256:0e3b196712d66780f30dff835ea99a99defa0968b4d82edf27756bf53c2088c1
size 530218
