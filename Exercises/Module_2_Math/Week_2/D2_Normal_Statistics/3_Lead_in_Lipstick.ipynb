version https://git-lfs.github.com/spec/v1
oid sha256:680e8554721f9754ae261ccab5f2fcb5334ca941c8340e379645c1c84c0c2587
size 219964
