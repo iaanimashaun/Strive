version https://git-lfs.github.com/spec/v1
oid sha256:58beaedd8568fdf2be25af4156167a0be29466d0380f26c5d21e3635288e89f9
size 12386
