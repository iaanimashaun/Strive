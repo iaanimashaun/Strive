version https://git-lfs.github.com/spec/v1
oid sha256:bcd3b71109978e3fb0bee250d184583d43872d8baac54c9f4ef78ea68675dd59
size 27496
