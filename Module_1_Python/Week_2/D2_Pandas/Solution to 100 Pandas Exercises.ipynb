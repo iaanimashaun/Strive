version https://git-lfs.github.com/spec/v1
oid sha256:944e1bcadb43297db10e7cf45a55f44788e93e29cf7f096e69b70d0dc5b90aed
size 67730
