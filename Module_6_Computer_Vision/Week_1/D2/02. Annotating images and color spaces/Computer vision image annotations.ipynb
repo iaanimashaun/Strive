version https://git-lfs.github.com/spec/v1
oid sha256:7c7f32c615392cb0bc3cd4d426f39239a6dcbc0d9880ff304e105905569456f3
size 1953464
