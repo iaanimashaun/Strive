version https://git-lfs.github.com/spec/v1
oid sha256:2d7f22722872edd2b3bdb85e1f2b9fde6dbc5cf111f5bdaeec959d08e1a3890e
size 1780065
