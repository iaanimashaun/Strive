version https://git-lfs.github.com/spec/v1
oid sha256:6c66092e70ea97f65388c0243b7727991d7e3e3aed04f873313651961aac1188
size 5549
