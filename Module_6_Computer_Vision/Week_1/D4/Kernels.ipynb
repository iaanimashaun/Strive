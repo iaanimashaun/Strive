version https://git-lfs.github.com/spec/v1
oid sha256:aff4b6eab5bfdcfd47d3f822f83fa607a4d269aad597be6762f0a69437054fce
size 1412536
