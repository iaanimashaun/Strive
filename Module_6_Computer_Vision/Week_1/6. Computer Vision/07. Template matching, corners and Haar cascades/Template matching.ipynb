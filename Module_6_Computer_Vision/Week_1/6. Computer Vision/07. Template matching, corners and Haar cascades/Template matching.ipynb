version https://git-lfs.github.com/spec/v1
oid sha256:b23259eef7f51a1311caa77577d724a262e9790c6e4e4149f3da3cc076e1a823
size 1655
