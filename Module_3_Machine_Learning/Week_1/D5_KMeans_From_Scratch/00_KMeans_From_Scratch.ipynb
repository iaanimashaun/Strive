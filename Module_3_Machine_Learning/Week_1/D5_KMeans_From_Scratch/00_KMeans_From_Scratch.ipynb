version https://git-lfs.github.com/spec/v1
oid sha256:14bbbb098ddb8554894ac69553d87a917e52df5e93fb10f13402cb96a16b46f0
size 185831
