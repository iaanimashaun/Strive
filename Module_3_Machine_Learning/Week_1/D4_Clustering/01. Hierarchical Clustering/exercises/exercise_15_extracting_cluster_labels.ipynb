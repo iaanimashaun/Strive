version https://git-lfs.github.com/spec/v1
oid sha256:7d96f5c900a804f6ad475cfa18a4d32be6f32a41cd3f5dbe75b722f8b93d442f
size 88219
